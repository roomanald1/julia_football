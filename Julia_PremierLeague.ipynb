{
 "cells": [
  {
   "cell_type": "markdown",
   "id": "eb4af19a-c1f3-4a6f-8ec8-3e0f9b1f59b4",
   "metadata": {},
   "source": [
    "******************************************\n",
    "\n",
    "# Premier League Data Analysis\n",
    "\n",
    "******************************************"
   ]
  },
  {
   "cell_type": "markdown",
   "id": "ecdf5c1b-bed4-4273-bed7-750d52e42e7b",
   "metadata": {},
   "source": [
    "## Setup"
   ]
  },
  {
   "cell_type": "code",
   "execution_count": null,
   "id": "6f2b6432-5542-4f5b-b864-3c17168334bd",
   "metadata": {
    "collapsed": true,
    "jupyter": {
     "outputs_hidden": true
    }
   },
   "outputs": [],
   "source": [
    "using Pkg\n",
    "Pkg.add(\"StringEncodings\")\n",
    "Pkg.add(\"CSV\")\n",
    "Pkg.add(\"ZipFile\")\n",
    "Pkg.add(\"DataFrames\")\n",
    "using ZipFile\n",
    "using CSV\n",
    "using DataFrames\n",
    "using StringEncodings"
   ]
  },
  {
   "cell_type": "markdown",
   "id": "df84f928-76cf-41d5-ad8a-66a13df0edb7",
   "metadata": {},
   "source": [
    "### Fetch the 2018/2019 Premier League Data"
   ]
  },
  {
   "cell_type": "code",
   "execution_count": 6,
   "id": "5ce708b2-5aff-46df-89fa-88dc70c7e35c",
   "metadata": {
    "collapsed": true,
    "jupyter": {
     "outputs_hidden": true
    }
   },
   "outputs": [
    {
     "data": {
      "text/plain": [
       "\"stats.zip\""
      ]
     },
     "execution_count": 6,
     "metadata": {},
     "output_type": "execute_result"
    }
   ],
   "source": [
    "download(\"https://www.kaggle.com/api/v1/datasets/download/yusukefromjpn/england-premier-league-2018-to-2019-stats\", \"stats.zip\")\n"
   ]
  },
  {
   "cell_type": "code",
   "execution_count": 46,
   "id": "b9c459df-0cb0-4a14-adbc-02da7c27eff9",
   "metadata": {},
   "outputs": [
    {
     "data": {
      "text/plain": [
       "IOBuffer(data=UInt8[...], readable=true, writable=false, seekable=true, append=false, size=114415, maxsize=Inf, ptr=1, mark=-1)"
      ]
     },
     "execution_count": 46,
     "metadata": {},
     "output_type": "execute_result"
    }
   ],
   "source": [
    "arch = ZipFile.Reader(\"stats.zip\")\n",
    "\n",
    "team_file = arch.files[1]\n",
    "player_file = arch.files[2]\n",
    "\n",
    "team_data = read(team_file, String)\n",
    "player_data = read(player_file, String)\n",
    "\n",
    "team_stats = IOBuffer(team_data)\n",
    "player_stats = IOBuffer(player_data)"
   ]
  },
  {
   "cell_type": "code",
   "execution_count": null,
   "id": "f305d24b-1921-4344-9955-3b7171eb6705",
   "metadata": {},
   "outputs": [],
   "source": []
  },
  {
   "cell_type": "code",
   "execution_count": null,
   "id": "a1b2d03d-56db-4147-9303-e71bfa484a3d",
   "metadata": {},
   "outputs": [],
   "source": []
  },
  {
   "cell_type": "code",
   "execution_count": null,
   "id": "1a8df250-09c5-48ef-89ed-033e4e91e6a8",
   "metadata": {},
   "outputs": [],
   "source": []
  },
  {
   "cell_type": "code",
   "execution_count": 47,
   "id": "a5b44ac9-03c4-4a93-97b5-44714b95eb13",
   "metadata": {},
   "outputs": [
    {
     "data": {
      "text/html": [
       "<div><div style = \"float: left;\"><span>561×47 DataFrame</span></div><div style = \"float: right;\"><span style = \"font-style: italic;\">536 rows omitted</span></div><div style = \"clear: both;\"></div></div><div class = \"data-frame\" style = \"overflow-x: scroll;\"><table class = \"data-frame\" style = \"margin-bottom: 6px;\"><thead><tr class = \"header\"><th class = \"rowNumber\" style = \"font-weight: bold; text-align: right;\">Row</th><th style = \"text-align: left;\">full_name</th><th style = \"text-align: left;\">age</th><th style = \"text-align: left;\">birthday</th><th style = \"text-align: left;\">birthday_GMT</th><th style = \"text-align: left;\">league</th><th style = \"text-align: left;\">season</th><th style = \"text-align: left;\">position</th><th style = \"text-align: left;\">Current_Club</th><th style = \"text-align: left;\">minutes_played_overall</th><th style = \"text-align: left;\">minutes_played_home</th><th style = \"text-align: left;\">minutes_played_away</th><th style = \"text-align: left;\">nationality</th><th style = \"text-align: left;\">appearances_overall</th><th style = \"text-align: left;\">appearances_home</th><th style = \"text-align: left;\">appearances_away</th><th style = \"text-align: left;\">goals_overall</th><th style = \"text-align: left;\">goals_home</th><th style = \"text-align: left;\">goals_away</th><th style = \"text-align: left;\">assists_overall</th><th style = \"text-align: left;\">assists_home</th><th style = \"text-align: left;\">assists_away</th><th style = \"text-align: left;\">penalty_goals</th><th style = \"text-align: left;\">penalty_misses</th><th style = \"text-align: left;\">clean_sheets_overall</th><th style = \"text-align: left;\">clean_sheets_home</th><th style = \"text-align: left;\">clean_sheets_away</th><th style = \"text-align: left;\">conceded_overall</th><th style = \"text-align: left;\">conceded_home</th><th style = \"text-align: left;\">conceded_away</th><th style = \"text-align: left;\">yellow_cards_overall</th><th style = \"text-align: left;\">red_cards_overall</th><th style = \"text-align: left;\">goals_involved_per_90_overall</th><th style = \"text-align: left;\">assists_per_90_overall</th><th style = \"text-align: left;\">goals_per_90_overall</th><th style = \"text-align: left;\">goals_per_90_home</th><th style = \"text-align: left;\">goals_per_90_away</th><th style = \"text-align: left;\">min_per_goal_overall</th><th style = \"text-align: left;\">conceded_per_90_overall</th><th style = \"text-align: left;\">min_per_conceded_overall</th><th style = \"text-align: left;\">min_per_match</th><th style = \"text-align: left;\">min_per_card_overall</th><th style = \"text-align: left;\">min_per_assist_overall</th><th style = \"text-align: left;\">cards_per_90_overall</th><th style = \"text-align: left;\">rank_in_league_top_attackers</th><th style = \"text-align: left;\">rank_in_league_top_midfielders</th><th style = \"text-align: left;\">rank_in_league_top_defenders</th><th style = \"text-align: left;\">rank_in_club_top_scorer</th></tr><tr class = \"subheader headerLastRow\"><th class = \"rowNumber\" style = \"font-weight: bold; text-align: right;\"></th><th title = \"String\" style = \"text-align: left;\">String</th><th title = \"Int64\" style = \"text-align: left;\">Int64</th><th title = \"Int64\" style = \"text-align: left;\">Int64</th><th title = \"String15\" style = \"text-align: left;\">String15</th><th title = \"String15\" style = \"text-align: left;\">String15</th><th title = \"String15\" style = \"text-align: left;\">String15</th><th title = \"String15\" style = \"text-align: left;\">String15</th><th title = \"String31\" style = \"text-align: left;\">String31</th><th title = \"Int64\" style = \"text-align: left;\">Int64</th><th title = \"Int64\" style = \"text-align: left;\">Int64</th><th title = \"Int64\" style = \"text-align: left;\">Int64</th><th title = \"String31\" style = \"text-align: left;\">String31</th><th title = \"Int64\" style = \"text-align: left;\">Int64</th><th title = \"Int64\" style = \"text-align: left;\">Int64</th><th title = \"Int64\" style = \"text-align: left;\">Int64</th><th title = \"Int64\" style = \"text-align: left;\">Int64</th><th title = \"Int64\" style = \"text-align: left;\">Int64</th><th title = \"Int64\" style = \"text-align: left;\">Int64</th><th title = \"Int64\" style = \"text-align: left;\">Int64</th><th title = \"Int64\" style = \"text-align: left;\">Int64</th><th title = \"Int64\" style = \"text-align: left;\">Int64</th><th title = \"Int64\" style = \"text-align: left;\">Int64</th><th title = \"Int64\" style = \"text-align: left;\">Int64</th><th title = \"Int64\" style = \"text-align: left;\">Int64</th><th title = \"Int64\" style = \"text-align: left;\">Int64</th><th title = \"Int64\" style = \"text-align: left;\">Int64</th><th title = \"Int64\" style = \"text-align: left;\">Int64</th><th title = \"Int64\" style = \"text-align: left;\">Int64</th><th title = \"Int64\" style = \"text-align: left;\">Int64</th><th title = \"Int64\" style = \"text-align: left;\">Int64</th><th title = \"Int64\" style = \"text-align: left;\">Int64</th><th title = \"Float64\" style = \"text-align: left;\">Float64</th><th title = \"Float64\" style = \"text-align: left;\">Float64</th><th title = \"Float64\" style = \"text-align: left;\">Float64</th><th title = \"Float64\" style = \"text-align: left;\">Float64</th><th title = \"Float64\" style = \"text-align: left;\">Float64</th><th title = \"Int64\" style = \"text-align: left;\">Int64</th><th title = \"Float64\" style = \"text-align: left;\">Float64</th><th title = \"Int64\" style = \"text-align: left;\">Int64</th><th title = \"Int64\" style = \"text-align: left;\">Int64</th><th title = \"Int64\" style = \"text-align: left;\">Int64</th><th title = \"Int64\" style = \"text-align: left;\">Int64</th><th title = \"Float64\" style = \"text-align: left;\">Float64</th><th title = \"Int64\" style = \"text-align: left;\">Int64</th><th title = \"Int64\" style = \"text-align: left;\">Int64</th><th title = \"Int64\" style = \"text-align: left;\">Int64</th><th title = \"Int64\" style = \"text-align: left;\">Int64</th></tr></thead><tbody><tr><td class = \"rowNumber\" style = \"font-weight: bold; text-align: right;\">1</td><td style = \"text-align: left;\">Aaron Cresswell</td><td style = \"text-align: right;\">32</td><td style = \"text-align: right;\">629712000</td><td style = \"text-align: left;\">1989/12/15</td><td style = \"text-align: left;\">Premier League</td><td style = \"text-align: left;\">2018/2019</td><td style = \"text-align: left;\">Defender</td><td style = \"text-align: left;\">West Ham United</td><td style = \"text-align: right;\">1589</td><td style = \"text-align: right;\">888</td><td style = \"text-align: right;\">701</td><td style = \"text-align: left;\">England</td><td style = \"text-align: right;\">20</td><td style = \"text-align: right;\">11</td><td style = \"text-align: right;\">9</td><td style = \"text-align: right;\">0</td><td style = \"text-align: right;\">0</td><td style = \"text-align: right;\">0</td><td style = \"text-align: right;\">1</td><td style = \"text-align: right;\">1</td><td style = \"text-align: right;\">0</td><td style = \"text-align: right;\">0</td><td style = \"text-align: right;\">0</td><td style = \"text-align: right;\">3</td><td style = \"text-align: right;\">2</td><td style = \"text-align: right;\">1</td><td style = \"text-align: right;\">22</td><td style = \"text-align: right;\">12</td><td style = \"text-align: right;\">10</td><td style = \"text-align: right;\">1</td><td style = \"text-align: right;\">0</td><td style = \"text-align: right;\">0.06</td><td style = \"text-align: right;\">0.06</td><td style = \"text-align: right;\">0.0</td><td style = \"text-align: right;\">0.0</td><td style = \"text-align: right;\">0.0</td><td style = \"text-align: right;\">0</td><td style = \"text-align: right;\">1.25</td><td style = \"text-align: right;\">72</td><td style = \"text-align: right;\">79</td><td style = \"text-align: right;\">1589</td><td style = \"text-align: right;\">1589</td><td style = \"text-align: right;\">0.06</td><td style = \"text-align: right;\">290</td><td style = \"text-align: right;\">191</td><td style = \"text-align: right;\">80</td><td style = \"text-align: right;\">20</td></tr><tr><td class = \"rowNumber\" style = \"font-weight: bold; text-align: right;\">2</td><td style = \"text-align: left;\">Aaron Lennon</td><td style = \"text-align: right;\">35</td><td style = \"text-align: right;\">545554800</td><td style = \"text-align: left;\">1987/4/16</td><td style = \"text-align: left;\">Premier League</td><td style = \"text-align: left;\">2018/2019</td><td style = \"text-align: left;\">Midfielder</td><td style = \"text-align: left;\">Burnley</td><td style = \"text-align: right;\">1217</td><td style = \"text-align: right;\">487</td><td style = \"text-align: right;\">730</td><td style = \"text-align: left;\">England</td><td style = \"text-align: right;\">16</td><td style = \"text-align: right;\">7</td><td style = \"text-align: right;\">9</td><td style = \"text-align: right;\">1</td><td style = \"text-align: right;\">1</td><td style = \"text-align: right;\">0</td><td style = \"text-align: right;\">1</td><td style = \"text-align: right;\">1</td><td style = \"text-align: right;\">0</td><td style = \"text-align: right;\">0</td><td style = \"text-align: right;\">0</td><td style = \"text-align: right;\">4</td><td style = \"text-align: right;\">2</td><td style = \"text-align: right;\">2</td><td style = \"text-align: right;\">20</td><td style = \"text-align: right;\">8</td><td style = \"text-align: right;\">12</td><td style = \"text-align: right;\">1</td><td style = \"text-align: right;\">0</td><td style = \"text-align: right;\">0.15</td><td style = \"text-align: right;\">0.07</td><td style = \"text-align: right;\">0.07</td><td style = \"text-align: right;\">0.18</td><td style = \"text-align: right;\">0.0</td><td style = \"text-align: right;\">1217</td><td style = \"text-align: right;\">1.48</td><td style = \"text-align: right;\">61</td><td style = \"text-align: right;\">76</td><td style = \"text-align: right;\">1217</td><td style = \"text-align: right;\">1217</td><td style = \"text-align: right;\">0.07</td><td style = \"text-align: right;\">196</td><td style = \"text-align: right;\">187</td><td style = \"text-align: right;\">-1</td><td style = \"text-align: right;\">10</td></tr><tr><td class = \"rowNumber\" style = \"font-weight: bold; text-align: right;\">3</td><td style = \"text-align: left;\">Aaron Mooy</td><td style = \"text-align: right;\">32</td><td style = \"text-align: right;\">653382000</td><td style = \"text-align: left;\">1990/9/15</td><td style = \"text-align: left;\">Premier League</td><td style = \"text-align: left;\">2018/2019</td><td style = \"text-align: left;\">Midfielder</td><td style = \"text-align: left;\">Huddersfield Town</td><td style = \"text-align: right;\">2327</td><td style = \"text-align: right;\">1190</td><td style = \"text-align: right;\">1137</td><td style = \"text-align: left;\">Australia</td><td style = \"text-align: right;\">29</td><td style = \"text-align: right;\">15</td><td style = \"text-align: right;\">14</td><td style = \"text-align: right;\">3</td><td style = \"text-align: right;\">1</td><td style = \"text-align: right;\">2</td><td style = \"text-align: right;\">1</td><td style = \"text-align: right;\">0</td><td style = \"text-align: right;\">1</td><td style = \"text-align: right;\">1</td><td style = \"text-align: right;\">0</td><td style = \"text-align: right;\">4</td><td style = \"text-align: right;\">3</td><td style = \"text-align: right;\">1</td><td style = \"text-align: right;\">46</td><td style = \"text-align: right;\">20</td><td style = \"text-align: right;\">26</td><td style = \"text-align: right;\">4</td><td style = \"text-align: right;\">0</td><td style = \"text-align: right;\">0.15</td><td style = \"text-align: right;\">0.04</td><td style = \"text-align: right;\">0.12</td><td style = \"text-align: right;\">0.08</td><td style = \"text-align: right;\">0.16</td><td style = \"text-align: right;\">776</td><td style = \"text-align: right;\">1.78</td><td style = \"text-align: right;\">51</td><td style = \"text-align: right;\">80</td><td style = \"text-align: right;\">582</td><td style = \"text-align: right;\">2327</td><td style = \"text-align: right;\">0.15</td><td style = \"text-align: right;\">144</td><td style = \"text-align: right;\">233</td><td style = \"text-align: right;\">-1</td><td style = \"text-align: right;\">3</td></tr><tr><td class = \"rowNumber\" style = \"font-weight: bold; text-align: right;\">4</td><td style = \"text-align: left;\">Aaron Ramsey</td><td style = \"text-align: right;\">31</td><td style = \"text-align: right;\">662198400</td><td style = \"text-align: left;\">1990/12/26</td><td style = \"text-align: left;\">Premier League</td><td style = \"text-align: left;\">2018/2019</td><td style = \"text-align: left;\">Midfielder</td><td style = \"text-align: left;\">Arsenal</td><td style = \"text-align: right;\">1327</td><td style = \"text-align: right;\">689</td><td style = \"text-align: right;\">638</td><td style = \"text-align: left;\">Wales</td><td style = \"text-align: right;\">28</td><td style = \"text-align: right;\">14</td><td style = \"text-align: right;\">14</td><td style = \"text-align: right;\">4</td><td style = \"text-align: right;\">2</td><td style = \"text-align: right;\">2</td><td style = \"text-align: right;\">6</td><td style = \"text-align: right;\">5</td><td style = \"text-align: right;\">1</td><td style = \"text-align: right;\">0</td><td style = \"text-align: right;\">0</td><td style = \"text-align: right;\">7</td><td style = \"text-align: right;\">6</td><td style = \"text-align: right;\">1</td><td style = \"text-align: right;\">12</td><td style = \"text-align: right;\">2</td><td style = \"text-align: right;\">10</td><td style = \"text-align: right;\">0</td><td style = \"text-align: right;\">0</td><td style = \"text-align: right;\">0.68</td><td style = \"text-align: right;\">0.41</td><td style = \"text-align: right;\">0.27</td><td style = \"text-align: right;\">0.26</td><td style = \"text-align: right;\">0.28</td><td style = \"text-align: right;\">332</td><td style = \"text-align: right;\">0.81</td><td style = \"text-align: right;\">111</td><td style = \"text-align: right;\">47</td><td style = \"text-align: right;\">0</td><td style = \"text-align: right;\">221</td><td style = \"text-align: right;\">0.0</td><td style = \"text-align: right;\">69</td><td style = \"text-align: right;\">8</td><td style = \"text-align: right;\">-1</td><td style = \"text-align: right;\">5</td></tr><tr><td class = \"rowNumber\" style = \"font-weight: bold; text-align: right;\">5</td><td style = \"text-align: left;\">Aaron Rowe</td><td style = \"text-align: right;\">22</td><td style = \"text-align: right;\">968310000</td><td style = \"text-align: left;\">2000/9/7</td><td style = \"text-align: left;\">Premier League</td><td style = \"text-align: left;\">2018/2019</td><td style = \"text-align: left;\">Forward</td><td style = \"text-align: left;\">Huddersfield Town</td><td style = \"text-align: right;\">69</td><td style = \"text-align: right;\">14</td><td style = \"text-align: right;\">55</td><td style = \"text-align: left;\">England</td><td style = \"text-align: right;\">2</td><td style = \"text-align: right;\">1</td><td style = \"text-align: right;\">1</td><td style = \"text-align: right;\">0</td><td style = \"text-align: right;\">0</td><td style = \"text-align: right;\">0</td><td style = \"text-align: right;\">0</td><td style = \"text-align: right;\">0</td><td style = \"text-align: right;\">0</td><td style = \"text-align: right;\">0</td><td style = \"text-align: right;\">0</td><td style = \"text-align: right;\">0</td><td style = \"text-align: right;\">0</td><td style = \"text-align: right;\">0</td><td style = \"text-align: right;\">1</td><td style = \"text-align: right;\">0</td><td style = \"text-align: right;\">1</td><td style = \"text-align: right;\">0</td><td style = \"text-align: right;\">0</td><td style = \"text-align: right;\">0.0</td><td style = \"text-align: right;\">0.0</td><td style = \"text-align: right;\">0.0</td><td style = \"text-align: right;\">0.0</td><td style = \"text-align: right;\">0.0</td><td style = \"text-align: right;\">0</td><td style = \"text-align: right;\">1.3</td><td style = \"text-align: right;\">69</td><td style = \"text-align: right;\">35</td><td style = \"text-align: right;\">0</td><td style = \"text-align: right;\">0</td><td style = \"text-align: right;\">0.0</td><td style = \"text-align: right;\">-1</td><td style = \"text-align: right;\">-1</td><td style = \"text-align: right;\">-1</td><td style = \"text-align: right;\">31</td></tr><tr><td class = \"rowNumber\" style = \"font-weight: bold; text-align: right;\">6</td><td style = \"text-align: left;\">Aaron Wan-Bissaka</td><td style = \"text-align: right;\">24</td><td style = \"text-align: right;\">880531200</td><td style = \"text-align: left;\">1997/11/26</td><td style = \"text-align: left;\">Premier League</td><td style = \"text-align: left;\">2018/2019</td><td style = \"text-align: left;\">Midfielder</td><td style = \"text-align: left;\">Crystal Palace</td><td style = \"text-align: right;\">3135</td><td style = \"text-align: right;\">1605</td><td style = \"text-align: right;\">1530</td><td style = \"text-align: left;\">England</td><td style = \"text-align: right;\">35</td><td style = \"text-align: right;\">18</td><td style = \"text-align: right;\">17</td><td style = \"text-align: right;\">0</td><td style = \"text-align: right;\">0</td><td style = \"text-align: right;\">0</td><td style = \"text-align: right;\">3</td><td style = \"text-align: right;\">1</td><td style = \"text-align: right;\">2</td><td style = \"text-align: right;\">0</td><td style = \"text-align: right;\">0</td><td style = \"text-align: right;\">12</td><td style = \"text-align: right;\">7</td><td style = \"text-align: right;\">5</td><td style = \"text-align: right;\">41</td><td style = \"text-align: right;\">17</td><td style = \"text-align: right;\">24</td><td style = \"text-align: right;\">5</td><td style = \"text-align: right;\">1</td><td style = \"text-align: right;\">0.09</td><td style = \"text-align: right;\">0.09</td><td style = \"text-align: right;\">0.0</td><td style = \"text-align: right;\">0.0</td><td style = \"text-align: right;\">0.0</td><td style = \"text-align: right;\">0</td><td style = \"text-align: right;\">1.18</td><td style = \"text-align: right;\">76</td><td style = \"text-align: right;\">90</td><td style = \"text-align: right;\">523</td><td style = \"text-align: right;\">1045</td><td style = \"text-align: right;\">0.17</td><td style = \"text-align: right;\">312</td><td style = \"text-align: right;\">160</td><td style = \"text-align: right;\">-1</td><td style = \"text-align: right;\">22</td></tr><tr><td class = \"rowNumber\" style = \"font-weight: bold; text-align: right;\">7</td><td style = \"text-align: left;\">Abdelhamid Sabiri</td><td style = \"text-align: right;\">25</td><td style = \"text-align: right;\">849168000</td><td style = \"text-align: left;\">1996/11/28</td><td style = \"text-align: left;\">Premier League</td><td style = \"text-align: left;\">2018/2019</td><td style = \"text-align: left;\">Midfielder</td><td style = \"text-align: left;\">Huddersfield Town</td><td style = \"text-align: right;\">49</td><td style = \"text-align: right;\">0</td><td style = \"text-align: right;\">49</td><td style = \"text-align: left;\">Morocco</td><td style = \"text-align: right;\">2</td><td style = \"text-align: right;\">0</td><td style = \"text-align: right;\">2</td><td style = \"text-align: right;\">0</td><td style = \"text-align: right;\">0</td><td style = \"text-align: right;\">0</td><td style = \"text-align: right;\">0</td><td style = \"text-align: right;\">0</td><td style = \"text-align: right;\">0</td><td style = \"text-align: right;\">0</td><td style = \"text-align: right;\">0</td><td style = \"text-align: right;\">0</td><td style = \"text-align: right;\">0</td><td style = \"text-align: right;\">0</td><td style = \"text-align: right;\">3</td><td style = \"text-align: right;\">0</td><td style = \"text-align: right;\">3</td><td style = \"text-align: right;\">0</td><td style = \"text-align: right;\">0</td><td style = \"text-align: right;\">0.0</td><td style = \"text-align: right;\">0.0</td><td style = \"text-align: right;\">0.0</td><td style = \"text-align: right;\">0.0</td><td style = \"text-align: right;\">0.0</td><td style = \"text-align: right;\">0</td><td style = \"text-align: right;\">5.51</td><td style = \"text-align: right;\">16</td><td style = \"text-align: right;\">25</td><td style = \"text-align: right;\">0</td><td style = \"text-align: right;\">0</td><td style = \"text-align: right;\">0.0</td><td style = \"text-align: right;\">-1</td><td style = \"text-align: right;\">-1</td><td style = \"text-align: right;\">-1</td><td style = \"text-align: right;\">22</td></tr><tr><td class = \"rowNumber\" style = \"font-weight: bold; text-align: right;\">8</td><td style = \"text-align: left;\">Abdoulaye Doucouré</td><td style = \"text-align: right;\">29</td><td style = \"text-align: right;\">725875200</td><td style = \"text-align: left;\">1993/1/1</td><td style = \"text-align: left;\">Premier League</td><td style = \"text-align: left;\">2018/2019</td><td style = \"text-align: left;\">Midfielder</td><td style = \"text-align: left;\">Watford</td><td style = \"text-align: right;\">3062</td><td style = \"text-align: right;\">1566</td><td style = \"text-align: right;\">1496</td><td style = \"text-align: left;\">France</td><td style = \"text-align: right;\">35</td><td style = \"text-align: right;\">18</td><td style = \"text-align: right;\">17</td><td style = \"text-align: right;\">5</td><td style = \"text-align: right;\">3</td><td style = \"text-align: right;\">2</td><td style = \"text-align: right;\">6</td><td style = \"text-align: right;\">2</td><td style = \"text-align: right;\">4</td><td style = \"text-align: right;\">0</td><td style = \"text-align: right;\">0</td><td style = \"text-align: right;\">5</td><td style = \"text-align: right;\">3</td><td style = \"text-align: right;\">2</td><td style = \"text-align: right;\">54</td><td style = \"text-align: right;\">27</td><td style = \"text-align: right;\">27</td><td style = \"text-align: right;\">7</td><td style = \"text-align: right;\">0</td><td style = \"text-align: right;\">0.32</td><td style = \"text-align: right;\">0.18</td><td style = \"text-align: right;\">0.15</td><td style = \"text-align: right;\">0.17</td><td style = \"text-align: right;\">0.12</td><td style = \"text-align: right;\">612</td><td style = \"text-align: right;\">1.59</td><td style = \"text-align: right;\">57</td><td style = \"text-align: right;\">87</td><td style = \"text-align: right;\">437</td><td style = \"text-align: right;\">510</td><td style = \"text-align: right;\">0.21</td><td style = \"text-align: right;\">124</td><td style = \"text-align: right;\">80</td><td style = \"text-align: right;\">-1</td><td style = \"text-align: right;\">5</td></tr><tr><td class = \"rowNumber\" style = \"font-weight: bold; text-align: right;\">9</td><td style = \"text-align: left;\">Aboubakar Kamara</td><td style = \"text-align: right;\">27</td><td style = \"text-align: right;\">794563200</td><td style = \"text-align: left;\">1995/3/7</td><td style = \"text-align: left;\">Premier League</td><td style = \"text-align: left;\">2018/2019</td><td style = \"text-align: left;\">Forward</td><td style = \"text-align: left;\">Fulham</td><td style = \"text-align: right;\">687</td><td style = \"text-align: right;\">468</td><td style = \"text-align: right;\">219</td><td style = \"text-align: left;\">France</td><td style = \"text-align: right;\">13</td><td style = \"text-align: right;\">8</td><td style = \"text-align: right;\">5</td><td style = \"text-align: right;\">3</td><td style = \"text-align: right;\">1</td><td style = \"text-align: right;\">2</td><td style = \"text-align: right;\">0</td><td style = \"text-align: right;\">0</td><td style = \"text-align: right;\">0</td><td style = \"text-align: right;\">1</td><td style = \"text-align: right;\">1</td><td style = \"text-align: right;\">2</td><td style = \"text-align: right;\">1</td><td style = \"text-align: right;\">1</td><td style = \"text-align: right;\">16</td><td style = \"text-align: right;\">9</td><td style = \"text-align: right;\">7</td><td style = \"text-align: right;\">2</td><td style = \"text-align: right;\">0</td><td style = \"text-align: right;\">0.39</td><td style = \"text-align: right;\">0.0</td><td style = \"text-align: right;\">0.39</td><td style = \"text-align: right;\">0.19</td><td style = \"text-align: right;\">0.82</td><td style = \"text-align: right;\">229</td><td style = \"text-align: right;\">2.1</td><td style = \"text-align: right;\">43</td><td style = \"text-align: right;\">53</td><td style = \"text-align: right;\">344</td><td style = \"text-align: right;\">0</td><td style = \"text-align: right;\">0.26</td><td style = \"text-align: right;\">38</td><td style = \"text-align: right;\">412</td><td style = \"text-align: right;\">-1</td><td style = \"text-align: right;\">4</td></tr><tr><td class = \"rowNumber\" style = \"font-weight: bold; text-align: right;\">10</td><td style = \"text-align: left;\">Adalberto Peñaranda Maestre</td><td style = \"text-align: right;\">25</td><td style = \"text-align: right;\">865062000</td><td style = \"text-align: left;\">1997/5/31</td><td style = \"text-align: left;\">Premier League</td><td style = \"text-align: left;\">2018/2019</td><td style = \"text-align: left;\">Forward</td><td style = \"text-align: left;\">Watford</td><td style = \"text-align: right;\">0</td><td style = \"text-align: right;\">0</td><td style = \"text-align: right;\">0</td><td style = \"text-align: left;\">Venezuela</td><td style = \"text-align: right;\">0</td><td style = \"text-align: right;\">0</td><td style = \"text-align: right;\">0</td><td style = \"text-align: right;\">0</td><td style = \"text-align: right;\">0</td><td style = \"text-align: right;\">0</td><td style = \"text-align: right;\">0</td><td style = \"text-align: right;\">0</td><td style = \"text-align: right;\">0</td><td style = \"text-align: right;\">0</td><td style = \"text-align: right;\">0</td><td style = \"text-align: right;\">0</td><td style = \"text-align: right;\">0</td><td style = \"text-align: right;\">0</td><td style = \"text-align: right;\">0</td><td style = \"text-align: right;\">0</td><td style = \"text-align: right;\">0</td><td style = \"text-align: right;\">0</td><td style = \"text-align: right;\">0</td><td style = \"text-align: right;\">0.0</td><td style = \"text-align: right;\">0.0</td><td style = \"text-align: right;\">0.0</td><td style = \"text-align: right;\">0.0</td><td style = \"text-align: right;\">0.0</td><td style = \"text-align: right;\">0</td><td style = \"text-align: right;\">0.0</td><td style = \"text-align: right;\">0</td><td style = \"text-align: right;\">0</td><td style = \"text-align: right;\">0</td><td style = \"text-align: right;\">0</td><td style = \"text-align: right;\">0.0</td><td style = \"text-align: right;\">-1</td><td style = \"text-align: right;\">-1</td><td style = \"text-align: right;\">-1</td><td style = \"text-align: right;\">-1</td></tr><tr><td class = \"rowNumber\" style = \"font-weight: bold; text-align: right;\">11</td><td style = \"text-align: left;\">Adam Lallana</td><td style = \"text-align: right;\">34</td><td style = \"text-align: right;\">579250800</td><td style = \"text-align: left;\">1988/5/10</td><td style = \"text-align: left;\">Premier League</td><td style = \"text-align: left;\">2018/2019</td><td style = \"text-align: left;\">Midfielder</td><td style = \"text-align: left;\">Liverpool</td><td style = \"text-align: right;\">465</td><td style = \"text-align: right;\">189</td><td style = \"text-align: right;\">276</td><td style = \"text-align: left;\">England</td><td style = \"text-align: right;\">13</td><td style = \"text-align: right;\">6</td><td style = \"text-align: right;\">7</td><td style = \"text-align: right;\">0</td><td style = \"text-align: right;\">0</td><td style = \"text-align: right;\">0</td><td style = \"text-align: right;\">0</td><td style = \"text-align: right;\">0</td><td style = \"text-align: right;\">0</td><td style = \"text-align: right;\">0</td><td style = \"text-align: right;\">0</td><td style = \"text-align: right;\">6</td><td style = \"text-align: right;\">1</td><td style = \"text-align: right;\">5</td><td style = \"text-align: right;\">2</td><td style = \"text-align: right;\">1</td><td style = \"text-align: right;\">1</td><td style = \"text-align: right;\">1</td><td style = \"text-align: right;\">0</td><td style = \"text-align: right;\">0.0</td><td style = \"text-align: right;\">0.0</td><td style = \"text-align: right;\">0.0</td><td style = \"text-align: right;\">0.0</td><td style = \"text-align: right;\">0.0</td><td style = \"text-align: right;\">0</td><td style = \"text-align: right;\">0.39</td><td style = \"text-align: right;\">233</td><td style = \"text-align: right;\">36</td><td style = \"text-align: right;\">465</td><td style = \"text-align: right;\">0</td><td style = \"text-align: right;\">0.19</td><td style = \"text-align: right;\">379</td><td style = \"text-align: right;\">344</td><td style = \"text-align: right;\">-1</td><td style = \"text-align: right;\">18</td></tr><tr><td class = \"rowNumber\" style = \"font-weight: bold; text-align: right;\">12</td><td style = \"text-align: left;\">Adam Masina</td><td style = \"text-align: right;\">28</td><td style = \"text-align: right;\">757497600</td><td style = \"text-align: left;\">1994/1/2</td><td style = \"text-align: left;\">Premier League</td><td style = \"text-align: left;\">2018/2019</td><td style = \"text-align: left;\">Defender</td><td style = \"text-align: left;\">Watford</td><td style = \"text-align: right;\">1003</td><td style = \"text-align: right;\">463</td><td style = \"text-align: right;\">540</td><td style = \"text-align: left;\">Italy</td><td style = \"text-align: right;\">14</td><td style = \"text-align: right;\">7</td><td style = \"text-align: right;\">7</td><td style = \"text-align: right;\">0</td><td style = \"text-align: right;\">0</td><td style = \"text-align: right;\">0</td><td style = \"text-align: right;\">1</td><td style = \"text-align: right;\">1</td><td style = \"text-align: right;\">0</td><td style = \"text-align: right;\">0</td><td style = \"text-align: right;\">0</td><td style = \"text-align: right;\">2</td><td style = \"text-align: right;\">1</td><td style = \"text-align: right;\">1</td><td style = \"text-align: right;\">19</td><td style = \"text-align: right;\">8</td><td style = \"text-align: right;\">11</td><td style = \"text-align: right;\">5</td><td style = \"text-align: right;\">0</td><td style = \"text-align: right;\">0.09</td><td style = \"text-align: right;\">0.09</td><td style = \"text-align: right;\">0.0</td><td style = \"text-align: right;\">0.0</td><td style = \"text-align: right;\">0.0</td><td style = \"text-align: right;\">0</td><td style = \"text-align: right;\">1.7</td><td style = \"text-align: right;\">53</td><td style = \"text-align: right;\">72</td><td style = \"text-align: right;\">201</td><td style = \"text-align: right;\">1003</td><td style = \"text-align: right;\">0.45</td><td style = \"text-align: right;\">397</td><td style = \"text-align: right;\">155</td><td style = \"text-align: right;\">144</td><td style = \"text-align: right;\">20</td></tr><tr><td class = \"rowNumber\" style = \"font-weight: bold; text-align: right;\">13</td><td style = \"text-align: left;\">Adam Smith</td><td style = \"text-align: right;\">31</td><td style = \"text-align: right;\">672908400</td><td style = \"text-align: left;\">1991/4/29</td><td style = \"text-align: left;\">Premier League</td><td style = \"text-align: left;\">2018/2019</td><td style = \"text-align: left;\">Defender</td><td style = \"text-align: left;\">AFC Bournemouth</td><td style = \"text-align: right;\">2073</td><td style = \"text-align: right;\">1051</td><td style = \"text-align: right;\">1022</td><td style = \"text-align: left;\">England</td><td style = \"text-align: right;\">25</td><td style = \"text-align: right;\">12</td><td style = \"text-align: right;\">13</td><td style = \"text-align: right;\">1</td><td style = \"text-align: right;\">1</td><td style = \"text-align: right;\">0</td><td style = \"text-align: right;\">1</td><td style = \"text-align: right;\">0</td><td style = \"text-align: right;\">1</td><td style = \"text-align: right;\">0</td><td style = \"text-align: right;\">0</td><td style = \"text-align: right;\">9</td><td style = \"text-align: right;\">5</td><td style = \"text-align: right;\">4</td><td style = \"text-align: right;\">30</td><td style = \"text-align: right;\">10</td><td style = \"text-align: right;\">20</td><td style = \"text-align: right;\">6</td><td style = \"text-align: right;\">1</td><td style = \"text-align: right;\">0.09</td><td style = \"text-align: right;\">0.04</td><td style = \"text-align: right;\">0.04</td><td style = \"text-align: right;\">0.09</td><td style = \"text-align: right;\">0.0</td><td style = \"text-align: right;\">2073</td><td style = \"text-align: right;\">1.3</td><td style = \"text-align: right;\">69</td><td style = \"text-align: right;\">83</td><td style = \"text-align: right;\">296</td><td style = \"text-align: right;\">2073</td><td style = \"text-align: right;\">0.3</td><td style = \"text-align: right;\">227</td><td style = \"text-align: right;\">228</td><td style = \"text-align: right;\">85</td><td style = \"text-align: right;\">10</td></tr><tr><td style = \"text-align: right;\">&vellip;</td><td style = \"text-align: right;\">&vellip;</td><td style = \"text-align: right;\">&vellip;</td><td style = \"text-align: right;\">&vellip;</td><td style = \"text-align: right;\">&vellip;</td><td style = \"text-align: right;\">&vellip;</td><td style = \"text-align: right;\">&vellip;</td><td style = \"text-align: right;\">&vellip;</td><td style = \"text-align: right;\">&vellip;</td><td style = \"text-align: right;\">&vellip;</td><td style = \"text-align: right;\">&vellip;</td><td style = \"text-align: right;\">&vellip;</td><td style = \"text-align: right;\">&vellip;</td><td style = \"text-align: right;\">&vellip;</td><td style = \"text-align: right;\">&vellip;</td><td style = \"text-align: right;\">&vellip;</td><td style = \"text-align: right;\">&vellip;</td><td style = \"text-align: right;\">&vellip;</td><td style = \"text-align: right;\">&vellip;</td><td style = \"text-align: right;\">&vellip;</td><td style = \"text-align: right;\">&vellip;</td><td style = \"text-align: right;\">&vellip;</td><td style = \"text-align: right;\">&vellip;</td><td style = \"text-align: right;\">&vellip;</td><td style = \"text-align: right;\">&vellip;</td><td style = \"text-align: right;\">&vellip;</td><td style = \"text-align: right;\">&vellip;</td><td style = \"text-align: right;\">&vellip;</td><td style = \"text-align: right;\">&vellip;</td><td style = \"text-align: right;\">&vellip;</td><td style = \"text-align: right;\">&vellip;</td><td style = \"text-align: right;\">&vellip;</td><td style = \"text-align: right;\">&vellip;</td><td style = \"text-align: right;\">&vellip;</td><td style = \"text-align: right;\">&vellip;</td><td style = \"text-align: right;\">&vellip;</td><td style = \"text-align: right;\">&vellip;</td><td style = \"text-align: right;\">&vellip;</td><td style = \"text-align: right;\">&vellip;</td><td style = \"text-align: right;\">&vellip;</td><td style = \"text-align: right;\">&vellip;</td><td style = \"text-align: right;\">&vellip;</td><td style = \"text-align: right;\">&vellip;</td><td style = \"text-align: right;\">&vellip;</td><td style = \"text-align: right;\">&vellip;</td><td style = \"text-align: right;\">&vellip;</td><td style = \"text-align: right;\">&vellip;</td><td style = \"text-align: right;\">&vellip;</td></tr><tr><td class = \"rowNumber\" style = \"font-weight: bold; text-align: right;\">550</td><td style = \"text-align: left;\">Willian</td><td style = \"text-align: right;\">34</td><td style = \"text-align: right;\">587113200</td><td style = \"text-align: left;\">1988/8/9</td><td style = \"text-align: left;\">Premier League</td><td style = \"text-align: left;\">2018/2019</td><td style = \"text-align: left;\">Forward</td><td style = \"text-align: left;\">Chelsea</td><td style = \"text-align: right;\">2108</td><td style = \"text-align: right;\">833</td><td style = \"text-align: right;\">1275</td><td style = \"text-align: left;\">Brazil</td><td style = \"text-align: right;\">32</td><td style = \"text-align: right;\">15</td><td style = \"text-align: right;\">17</td><td style = \"text-align: right;\">3</td><td style = \"text-align: right;\">2</td><td style = \"text-align: right;\">1</td><td style = \"text-align: right;\">6</td><td style = \"text-align: right;\">3</td><td style = \"text-align: right;\">3</td><td style = \"text-align: right;\">0</td><td style = \"text-align: right;\">0</td><td style = \"text-align: right;\">13</td><td style = \"text-align: right;\">7</td><td style = \"text-align: right;\">6</td><td style = \"text-align: right;\">23</td><td style = \"text-align: right;\">6</td><td style = \"text-align: right;\">17</td><td style = \"text-align: right;\">2</td><td style = \"text-align: right;\">0</td><td style = \"text-align: right;\">0.38</td><td style = \"text-align: right;\">0.26</td><td style = \"text-align: right;\">0.13</td><td style = \"text-align: right;\">0.22</td><td style = \"text-align: right;\">0.07</td><td style = \"text-align: right;\">703</td><td style = \"text-align: right;\">0.98</td><td style = \"text-align: right;\">92</td><td style = \"text-align: right;\">66</td><td style = \"text-align: right;\">1054</td><td style = \"text-align: right;\">351</td><td style = \"text-align: right;\">0.09</td><td style = \"text-align: right;\">132</td><td style = \"text-align: right;\">36</td><td style = \"text-align: right;\">-1</td><td style = \"text-align: right;\">8</td></tr><tr><td class = \"rowNumber\" style = \"font-weight: bold; text-align: right;\">551</td><td style = \"text-align: left;\">Willy Boly</td><td style = \"text-align: right;\">31</td><td style = \"text-align: right;\">665568000</td><td style = \"text-align: left;\">1991/2/3</td><td style = \"text-align: left;\">Premier League</td><td style = \"text-align: left;\">2018/2019</td><td style = \"text-align: left;\">Defender</td><td style = \"text-align: left;\">Wolverhampton Wanderers</td><td style = \"text-align: right;\">3169</td><td style = \"text-align: right;\">1530</td><td style = \"text-align: right;\">1639</td><td style = \"text-align: left;\">France</td><td style = \"text-align: right;\">36</td><td style = \"text-align: right;\">17</td><td style = \"text-align: right;\">19</td><td style = \"text-align: right;\">4</td><td style = \"text-align: right;\">2</td><td style = \"text-align: right;\">2</td><td style = \"text-align: right;\">0</td><td style = \"text-align: right;\">0</td><td style = \"text-align: right;\">0</td><td style = \"text-align: right;\">0</td><td style = \"text-align: right;\">0</td><td style = \"text-align: right;\">8</td><td style = \"text-align: right;\">6</td><td style = \"text-align: right;\">2</td><td style = \"text-align: right;\">38</td><td style = \"text-align: right;\">17</td><td style = \"text-align: right;\">21</td><td style = \"text-align: right;\">3</td><td style = \"text-align: right;\">1</td><td style = \"text-align: right;\">0.11</td><td style = \"text-align: right;\">0.0</td><td style = \"text-align: right;\">0.11</td><td style = \"text-align: right;\">0.12</td><td style = \"text-align: right;\">0.11</td><td style = \"text-align: right;\">792</td><td style = \"text-align: right;\">1.08</td><td style = \"text-align: right;\">83</td><td style = \"text-align: right;\">88</td><td style = \"text-align: right;\">792</td><td style = \"text-align: right;\">0</td><td style = \"text-align: right;\">0.11</td><td style = \"text-align: right;\">148</td><td style = \"text-align: right;\">312</td><td style = \"text-align: right;\">43</td><td style = \"text-align: right;\">4</td></tr><tr><td class = \"rowNumber\" style = \"font-weight: bold; text-align: right;\">552</td><td style = \"text-align: left;\">Willy Caballero</td><td style = \"text-align: right;\">41</td><td style = \"text-align: right;\">370508400</td><td style = \"text-align: left;\">1981/9/28</td><td style = \"text-align: left;\">Premier League</td><td style = \"text-align: left;\">2018/2019</td><td style = \"text-align: left;\">Goalkeeper</td><td style = \"text-align: left;\">Chelsea</td><td style = \"text-align: right;\">180</td><td style = \"text-align: right;\">90</td><td style = \"text-align: right;\">90</td><td style = \"text-align: left;\">Argentina</td><td style = \"text-align: right;\">2</td><td style = \"text-align: right;\">1</td><td style = \"text-align: right;\">1</td><td style = \"text-align: right;\">0</td><td style = \"text-align: right;\">0</td><td style = \"text-align: right;\">0</td><td style = \"text-align: right;\">0</td><td style = \"text-align: right;\">0</td><td style = \"text-align: right;\">0</td><td style = \"text-align: right;\">0</td><td style = \"text-align: right;\">0</td><td style = \"text-align: right;\">2</td><td style = \"text-align: right;\">1</td><td style = \"text-align: right;\">1</td><td style = \"text-align: right;\">0</td><td style = \"text-align: right;\">0</td><td style = \"text-align: right;\">0</td><td style = \"text-align: right;\">0</td><td style = \"text-align: right;\">0</td><td style = \"text-align: right;\">0.0</td><td style = \"text-align: right;\">0.0</td><td style = \"text-align: right;\">0.0</td><td style = \"text-align: right;\">0.0</td><td style = \"text-align: right;\">0.0</td><td style = \"text-align: right;\">0</td><td style = \"text-align: right;\">0.0</td><td style = \"text-align: right;\">0</td><td style = \"text-align: right;\">90</td><td style = \"text-align: right;\">0</td><td style = \"text-align: right;\">0</td><td style = \"text-align: right;\">0.0</td><td style = \"text-align: right;\">-1</td><td style = \"text-align: right;\">-1</td><td style = \"text-align: right;\">-1</td><td style = \"text-align: right;\">19</td></tr><tr><td class = \"rowNumber\" style = \"font-weight: bold; text-align: right;\">553</td><td style = \"text-align: left;\">Xherdan Shaqiri</td><td style = \"text-align: right;\">31</td><td style = \"text-align: right;\">687078000</td><td style = \"text-align: left;\">1991/10/10</td><td style = \"text-align: left;\">Premier League</td><td style = \"text-align: left;\">2018/2019</td><td style = \"text-align: left;\">Midfielder</td><td style = \"text-align: left;\">Liverpool</td><td style = \"text-align: right;\">1058</td><td style = \"text-align: right;\">538</td><td style = \"text-align: right;\">520</td><td style = \"text-align: left;\">Switzerland</td><td style = \"text-align: right;\">24</td><td style = \"text-align: right;\">12</td><td style = \"text-align: right;\">12</td><td style = \"text-align: right;\">6</td><td style = \"text-align: right;\">5</td><td style = \"text-align: right;\">1</td><td style = \"text-align: right;\">3</td><td style = \"text-align: right;\">0</td><td style = \"text-align: right;\">3</td><td style = \"text-align: right;\">0</td><td style = \"text-align: right;\">0</td><td style = \"text-align: right;\">12</td><td style = \"text-align: right;\">7</td><td style = \"text-align: right;\">5</td><td style = \"text-align: right;\">5</td><td style = \"text-align: right;\">3</td><td style = \"text-align: right;\">2</td><td style = \"text-align: right;\">2</td><td style = \"text-align: right;\">0</td><td style = \"text-align: right;\">0.77</td><td style = \"text-align: right;\">0.26</td><td style = \"text-align: right;\">0.51</td><td style = \"text-align: right;\">0.84</td><td style = \"text-align: right;\">0.17</td><td style = \"text-align: right;\">176</td><td style = \"text-align: right;\">0.43</td><td style = \"text-align: right;\">212</td><td style = \"text-align: right;\">44</td><td style = \"text-align: right;\">529</td><td style = \"text-align: right;\">353</td><td style = \"text-align: right;\">0.17</td><td style = \"text-align: right;\">15</td><td style = \"text-align: right;\">39</td><td style = \"text-align: right;\">-1</td><td style = \"text-align: right;\">4</td></tr><tr><td class = \"rowNumber\" style = \"font-weight: bold; text-align: right;\">554</td><td style = \"text-align: left;\">Yan Valery</td><td style = \"text-align: right;\">23</td><td style = \"text-align: right;\">919670400</td><td style = \"text-align: left;\">1999/2/22</td><td style = \"text-align: left;\">Premier League</td><td style = \"text-align: left;\">2018/2019</td><td style = \"text-align: left;\">Defender</td><td style = \"text-align: left;\">Southampton</td><td style = \"text-align: right;\">1715</td><td style = \"text-align: right;\">1070</td><td style = \"text-align: right;\">645</td><td style = \"text-align: left;\">France</td><td style = \"text-align: right;\">23</td><td style = \"text-align: right;\">13</td><td style = \"text-align: right;\">10</td><td style = \"text-align: right;\">2</td><td style = \"text-align: right;\">1</td><td style = \"text-align: right;\">1</td><td style = \"text-align: right;\">1</td><td style = \"text-align: right;\">1</td><td style = \"text-align: right;\">0</td><td style = \"text-align: right;\">0</td><td style = \"text-align: right;\">0</td><td style = \"text-align: right;\">3</td><td style = \"text-align: right;\">1</td><td style = \"text-align: right;\">2</td><td style = \"text-align: right;\">26</td><td style = \"text-align: right;\">17</td><td style = \"text-align: right;\">9</td><td style = \"text-align: right;\">5</td><td style = \"text-align: right;\">1</td><td style = \"text-align: right;\">0.16</td><td style = \"text-align: right;\">0.05</td><td style = \"text-align: right;\">0.1</td><td style = \"text-align: right;\">0.08</td><td style = \"text-align: right;\">0.14</td><td style = \"text-align: right;\">858</td><td style = \"text-align: right;\">1.36</td><td style = \"text-align: right;\">66</td><td style = \"text-align: right;\">75</td><td style = \"text-align: right;\">343</td><td style = \"text-align: right;\">1715</td><td style = \"text-align: right;\">0.26</td><td style = \"text-align: right;\">162</td><td style = \"text-align: right;\">214</td><td style = \"text-align: right;\">95</td><td style = \"text-align: right;\">7</td></tr><tr><td class = \"rowNumber\" style = \"font-weight: bold; text-align: right;\">555</td><td style = \"text-align: left;\">Yerry Mina</td><td style = \"text-align: right;\">28</td><td style = \"text-align: right;\">780303600</td><td style = \"text-align: left;\">1994/9/23</td><td style = \"text-align: left;\">Premier League</td><td style = \"text-align: left;\">2018/2019</td><td style = \"text-align: left;\">Defender</td><td style = \"text-align: left;\">Everton</td><td style = \"text-align: right;\">890</td><td style = \"text-align: right;\">360</td><td style = \"text-align: right;\">530</td><td style = \"text-align: left;\">Colombia</td><td style = \"text-align: right;\">13</td><td style = \"text-align: right;\">6</td><td style = \"text-align: right;\">7</td><td style = \"text-align: right;\">1</td><td style = \"text-align: right;\">0</td><td style = \"text-align: right;\">1</td><td style = \"text-align: right;\">0</td><td style = \"text-align: right;\">0</td><td style = \"text-align: right;\">0</td><td style = \"text-align: right;\">0</td><td style = \"text-align: right;\">0</td><td style = \"text-align: right;\">4</td><td style = \"text-align: right;\">3</td><td style = \"text-align: right;\">1</td><td style = \"text-align: right;\">12</td><td style = \"text-align: right;\">3</td><td style = \"text-align: right;\">9</td><td style = \"text-align: right;\">3</td><td style = \"text-align: right;\">0</td><td style = \"text-align: right;\">0.1</td><td style = \"text-align: right;\">0.0</td><td style = \"text-align: right;\">0.1</td><td style = \"text-align: right;\">0.0</td><td style = \"text-align: right;\">0.17</td><td style = \"text-align: right;\">890</td><td style = \"text-align: right;\">1.21</td><td style = \"text-align: right;\">74</td><td style = \"text-align: right;\">68</td><td style = \"text-align: right;\">297</td><td style = \"text-align: right;\">0</td><td style = \"text-align: right;\">0.3</td><td style = \"text-align: right;\">161</td><td style = \"text-align: right;\">329</td><td style = \"text-align: right;\">67</td><td style = \"text-align: right;\">9</td></tr><tr><td class = \"rowNumber\" style = \"font-weight: bold; text-align: right;\">556</td><td style = \"text-align: left;\">Yoshinori Muto</td><td style = \"text-align: right;\">30</td><td style = \"text-align: right;\">711183600</td><td style = \"text-align: left;\">1992/7/15</td><td style = \"text-align: left;\">Premier League</td><td style = \"text-align: left;\">2018/2019</td><td style = \"text-align: left;\">Forward</td><td style = \"text-align: left;\">Newcastle United</td><td style = \"text-align: right;\">516</td><td style = \"text-align: right;\">180</td><td style = \"text-align: right;\">336</td><td style = \"text-align: left;\">Japan</td><td style = \"text-align: right;\">17</td><td style = \"text-align: right;\">8</td><td style = \"text-align: right;\">9</td><td style = \"text-align: right;\">1</td><td style = \"text-align: right;\">0</td><td style = \"text-align: right;\">1</td><td style = \"text-align: right;\">0</td><td style = \"text-align: right;\">0</td><td style = \"text-align: right;\">0</td><td style = \"text-align: right;\">0</td><td style = \"text-align: right;\">0</td><td style = \"text-align: right;\">5</td><td style = \"text-align: right;\">1</td><td style = \"text-align: right;\">4</td><td style = \"text-align: right;\">10</td><td style = \"text-align: right;\">3</td><td style = \"text-align: right;\">7</td><td style = \"text-align: right;\">1</td><td style = \"text-align: right;\">0</td><td style = \"text-align: right;\">0.17</td><td style = \"text-align: right;\">0.0</td><td style = \"text-align: right;\">0.17</td><td style = \"text-align: right;\">0.0</td><td style = \"text-align: right;\">0.27</td><td style = \"text-align: right;\">516</td><td style = \"text-align: right;\">1.74</td><td style = \"text-align: right;\">52</td><td style = \"text-align: right;\">30</td><td style = \"text-align: right;\">516</td><td style = \"text-align: right;\">0</td><td style = \"text-align: right;\">0.17</td><td style = \"text-align: right;\">113</td><td style = \"text-align: right;\">290</td><td style = \"text-align: right;\">-1</td><td style = \"text-align: right;\">8</td></tr><tr><td class = \"rowNumber\" style = \"font-weight: bold; text-align: right;\">557</td><td style = \"text-align: left;\">Youri Tielemans</td><td style = \"text-align: right;\">25</td><td style = \"text-align: right;\">862988400</td><td style = \"text-align: left;\">1997/5/7</td><td style = \"text-align: left;\">Premier League</td><td style = \"text-align: left;\">2018/2019</td><td style = \"text-align: left;\">Midfielder</td><td style = \"text-align: left;\">Leicester City</td><td style = \"text-align: right;\">1092</td><td style = \"text-align: right;\">575</td><td style = \"text-align: right;\">517</td><td style = \"text-align: left;\">Belgium</td><td style = \"text-align: right;\">13</td><td style = \"text-align: right;\">7</td><td style = \"text-align: right;\">6</td><td style = \"text-align: right;\">3</td><td style = \"text-align: right;\">2</td><td style = \"text-align: right;\">1</td><td style = \"text-align: right;\">4</td><td style = \"text-align: right;\">2</td><td style = \"text-align: right;\">2</td><td style = \"text-align: right;\">0</td><td style = \"text-align: right;\">0</td><td style = \"text-align: right;\">3</td><td style = \"text-align: right;\">3</td><td style = \"text-align: right;\">0</td><td style = \"text-align: right;\">13</td><td style = \"text-align: right;\">5</td><td style = \"text-align: right;\">8</td><td style = \"text-align: right;\">2</td><td style = \"text-align: right;\">0</td><td style = \"text-align: right;\">0.58</td><td style = \"text-align: right;\">0.33</td><td style = \"text-align: right;\">0.25</td><td style = \"text-align: right;\">0.31</td><td style = \"text-align: right;\">0.17</td><td style = \"text-align: right;\">364</td><td style = \"text-align: right;\">1.07</td><td style = \"text-align: right;\">84</td><td style = \"text-align: right;\">84</td><td style = \"text-align: right;\">546</td><td style = \"text-align: right;\">273</td><td style = \"text-align: right;\">0.16</td><td style = \"text-align: right;\">80</td><td style = \"text-align: right;\">13</td><td style = \"text-align: right;\">-1</td><td style = \"text-align: right;\">4</td></tr><tr><td class = \"rowNumber\" style = \"font-weight: bold; text-align: right;\">558</td><td style = \"text-align: left;\">Yves Bissouma</td><td style = \"text-align: right;\">26</td><td style = \"text-align: right;\">841388400</td><td style = \"text-align: left;\">1996/8/30</td><td style = \"text-align: left;\">Premier League</td><td style = \"text-align: left;\">2018/2019</td><td style = \"text-align: left;\">Midfielder</td><td style = \"text-align: left;\">Brighton &amp; Hove Albion</td><td style = \"text-align: right;\">1769</td><td style = \"text-align: right;\">747</td><td style = \"text-align: right;\">1022</td><td style = \"text-align: left;\">Mali</td><td style = \"text-align: right;\">28</td><td style = \"text-align: right;\">13</td><td style = \"text-align: right;\">15</td><td style = \"text-align: right;\">0</td><td style = \"text-align: right;\">0</td><td style = \"text-align: right;\">0</td><td style = \"text-align: right;\">0</td><td style = \"text-align: right;\">0</td><td style = \"text-align: right;\">0</td><td style = \"text-align: right;\">0</td><td style = \"text-align: right;\">0</td><td style = \"text-align: right;\">5</td><td style = \"text-align: right;\">4</td><td style = \"text-align: right;\">1</td><td style = \"text-align: right;\">30</td><td style = \"text-align: right;\">14</td><td style = \"text-align: right;\">16</td><td style = \"text-align: right;\">5</td><td style = \"text-align: right;\">0</td><td style = \"text-align: right;\">0.0</td><td style = \"text-align: right;\">0.0</td><td style = \"text-align: right;\">0.0</td><td style = \"text-align: right;\">0.0</td><td style = \"text-align: right;\">0.0</td><td style = \"text-align: right;\">0</td><td style = \"text-align: right;\">1.53</td><td style = \"text-align: right;\">59</td><td style = \"text-align: right;\">63</td><td style = \"text-align: right;\">354</td><td style = \"text-align: right;\">0</td><td style = \"text-align: right;\">0.25</td><td style = \"text-align: right;\">402</td><td style = \"text-align: right;\">293</td><td style = \"text-align: right;\">-1</td><td style = \"text-align: right;\">17</td></tr><tr><td class = \"rowNumber\" style = \"font-weight: bold; text-align: right;\">559</td><td style = \"text-align: left;\">Zechariah Medley</td><td style = \"text-align: right;\">22</td><td style = \"text-align: right;\">962953200</td><td style = \"text-align: left;\">2000/7/7</td><td style = \"text-align: left;\">Premier League</td><td style = \"text-align: left;\">2018/2019</td><td style = \"text-align: left;\">Defender</td><td style = \"text-align: left;\">Arsenal</td><td style = \"text-align: right;\">0</td><td style = \"text-align: right;\">0</td><td style = \"text-align: right;\">0</td><td style = \"text-align: left;\">England</td><td style = \"text-align: right;\">0</td><td style = \"text-align: right;\">0</td><td style = \"text-align: right;\">0</td><td style = \"text-align: right;\">0</td><td style = \"text-align: right;\">0</td><td style = \"text-align: right;\">0</td><td style = \"text-align: right;\">0</td><td style = \"text-align: right;\">0</td><td style = \"text-align: right;\">0</td><td style = \"text-align: right;\">0</td><td style = \"text-align: right;\">0</td><td style = \"text-align: right;\">0</td><td style = \"text-align: right;\">0</td><td style = \"text-align: right;\">0</td><td style = \"text-align: right;\">0</td><td style = \"text-align: right;\">0</td><td style = \"text-align: right;\">0</td><td style = \"text-align: right;\">0</td><td style = \"text-align: right;\">0</td><td style = \"text-align: right;\">0.0</td><td style = \"text-align: right;\">0.0</td><td style = \"text-align: right;\">0.0</td><td style = \"text-align: right;\">0.0</td><td style = \"text-align: right;\">0.0</td><td style = \"text-align: right;\">0</td><td style = \"text-align: right;\">0.0</td><td style = \"text-align: right;\">0</td><td style = \"text-align: right;\">0</td><td style = \"text-align: right;\">0</td><td style = \"text-align: right;\">0</td><td style = \"text-align: right;\">0.0</td><td style = \"text-align: right;\">-1</td><td style = \"text-align: right;\">-1</td><td style = \"text-align: right;\">-1</td><td style = \"text-align: right;\">-1</td></tr><tr><td class = \"rowNumber\" style = \"font-weight: bold; text-align: right;\">560</td><td style = \"text-align: left;\">Zeze  Steven Sessegnon</td><td style = \"text-align: right;\">22</td><td style = \"text-align: right;\">958633200</td><td style = \"text-align: left;\">2000/5/18</td><td style = \"text-align: left;\">Premier League</td><td style = \"text-align: left;\">2018/2019</td><td style = \"text-align: left;\">Defender</td><td style = \"text-align: left;\">Fulham</td><td style = \"text-align: right;\">0</td><td style = \"text-align: right;\">0</td><td style = \"text-align: right;\">0</td><td style = \"text-align: left;\">England</td><td style = \"text-align: right;\">0</td><td style = \"text-align: right;\">0</td><td style = \"text-align: right;\">0</td><td style = \"text-align: right;\">0</td><td style = \"text-align: right;\">0</td><td style = \"text-align: right;\">0</td><td style = \"text-align: right;\">0</td><td style = \"text-align: right;\">0</td><td style = \"text-align: right;\">0</td><td style = \"text-align: right;\">0</td><td style = \"text-align: right;\">0</td><td style = \"text-align: right;\">0</td><td style = \"text-align: right;\">0</td><td style = \"text-align: right;\">0</td><td style = \"text-align: right;\">0</td><td style = \"text-align: right;\">0</td><td style = \"text-align: right;\">0</td><td style = \"text-align: right;\">0</td><td style = \"text-align: right;\">0</td><td style = \"text-align: right;\">0.0</td><td style = \"text-align: right;\">0.0</td><td style = \"text-align: right;\">0.0</td><td style = \"text-align: right;\">0.0</td><td style = \"text-align: right;\">0.0</td><td style = \"text-align: right;\">0</td><td style = \"text-align: right;\">0.0</td><td style = \"text-align: right;\">0</td><td style = \"text-align: right;\">0</td><td style = \"text-align: right;\">0</td><td style = \"text-align: right;\">0</td><td style = \"text-align: right;\">0.0</td><td style = \"text-align: right;\">-1</td><td style = \"text-align: right;\">-1</td><td style = \"text-align: right;\">-1</td><td style = \"text-align: right;\">-1</td></tr><tr><td class = \"rowNumber\" style = \"font-weight: bold; text-align: right;\">561</td><td style = \"text-align: left;\">Łukasz Fabiański</td><td style = \"text-align: right;\">37</td><td style = \"text-align: right;\">482659200</td><td style = \"text-align: left;\">1985/4/18</td><td style = \"text-align: left;\">Premier League</td><td style = \"text-align: left;\">2018/2019</td><td style = \"text-align: left;\">Goalkeeper</td><td style = \"text-align: left;\">West Ham United</td><td style = \"text-align: right;\">3420</td><td style = \"text-align: right;\">1710</td><td style = \"text-align: right;\">1710</td><td style = \"text-align: left;\">Poland</td><td style = \"text-align: right;\">38</td><td style = \"text-align: right;\">19</td><td style = \"text-align: right;\">19</td><td style = \"text-align: right;\">0</td><td style = \"text-align: right;\">0</td><td style = \"text-align: right;\">0</td><td style = \"text-align: right;\">0</td><td style = \"text-align: right;\">0</td><td style = \"text-align: right;\">0</td><td style = \"text-align: right;\">0</td><td style = \"text-align: right;\">0</td><td style = \"text-align: right;\">7</td><td style = \"text-align: right;\">4</td><td style = \"text-align: right;\">3</td><td style = \"text-align: right;\">48</td><td style = \"text-align: right;\">23</td><td style = \"text-align: right;\">25</td><td style = \"text-align: right;\">0</td><td style = \"text-align: right;\">0</td><td style = \"text-align: right;\">0.0</td><td style = \"text-align: right;\">0.0</td><td style = \"text-align: right;\">0.0</td><td style = \"text-align: right;\">0.0</td><td style = \"text-align: right;\">0.0</td><td style = \"text-align: right;\">0</td><td style = \"text-align: right;\">1.26</td><td style = \"text-align: right;\">71</td><td style = \"text-align: right;\">90</td><td style = \"text-align: right;\">0</td><td style = \"text-align: right;\">0</td><td style = \"text-align: right;\">0.0</td><td style = \"text-align: right;\">391</td><td style = \"text-align: right;\">343</td><td style = \"text-align: right;\">81</td><td style = \"text-align: right;\">19</td></tr></tbody></table></div>"
      ],
      "text/latex": [
       "\\begin{tabular}{r|cccccc}\n",
       "\t& full\\_name & age & birthday & birthday\\_GMT & league & \\\\\n",
       "\t\\hline\n",
       "\t& String & Int64 & Int64 & String15 & String15 & \\\\\n",
       "\t\\hline\n",
       "\t1 & Aaron Cresswell & 32 & 629712000 & 1989/12/15 & Premier League & $\\dots$ \\\\\n",
       "\t2 & Aaron Lennon & 35 & 545554800 & 1987/4/16 & Premier League & $\\dots$ \\\\\n",
       "\t3 & Aaron Mooy & 32 & 653382000 & 1990/9/15 & Premier League & $\\dots$ \\\\\n",
       "\t4 & Aaron Ramsey & 31 & 662198400 & 1990/12/26 & Premier League & $\\dots$ \\\\\n",
       "\t5 & Aaron Rowe & 22 & 968310000 & 2000/9/7 & Premier League & $\\dots$ \\\\\n",
       "\t6 & Aaron Wan-Bissaka & 24 & 880531200 & 1997/11/26 & Premier League & $\\dots$ \\\\\n",
       "\t7 & Abdelhamid Sabiri & 25 & 849168000 & 1996/11/28 & Premier League & $\\dots$ \\\\\n",
       "\t8 & Abdoulaye Doucouré & 29 & 725875200 & 1993/1/1 & Premier League & $\\dots$ \\\\\n",
       "\t9 & Aboubakar Kamara & 27 & 794563200 & 1995/3/7 & Premier League & $\\dots$ \\\\\n",
       "\t10 & Adalberto Peñaranda Maestre & 25 & 865062000 & 1997/5/31 & Premier League & $\\dots$ \\\\\n",
       "\t11 & Adam Lallana & 34 & 579250800 & 1988/5/10 & Premier League & $\\dots$ \\\\\n",
       "\t12 & Adam Masina & 28 & 757497600 & 1994/1/2 & Premier League & $\\dots$ \\\\\n",
       "\t13 & Adam Smith & 31 & 672908400 & 1991/4/29 & Premier League & $\\dots$ \\\\\n",
       "\t14 & Adama Diakhaby & 26 & 836550000 & 1996/7/5 & Premier League & $\\dots$ \\\\\n",
       "\t15 & Adama Traoré & 26 & 822556800 & 1996/1/25 & Premier League & $\\dots$ \\\\\n",
       "\t16 & Ademola Lookman & 25 & 877330800 & 1997/10/20 & Premier League & $\\dots$ \\\\\n",
       "\t17 & Adrián & 35 & 536659200 & 1987/1/3 & Premier League & $\\dots$ \\\\\n",
       "\t18 & Adrian Mariappa & 36 & 528706800 & 1986/10/3 & Premier League & $\\dots$ \\\\\n",
       "\t19 & Adrien Sebastian Perruchet Silva & 33 & 605952000 & 1989/3/15 & Premier League & $\\dots$ \\\\\n",
       "\t20 & Ainsley Maitland-Niles & 25 & 872838000 & 1997/8/29 & Premier League & $\\dots$ \\\\\n",
       "\t21 & Alberto Moreno & 30 & 710319600 & 1992/7/5 & Premier League & $\\dots$ \\\\\n",
       "\t22 & Alex Iwobi & 26 & 831106800 & 1996/5/3 & Premier League & $\\dots$ \\\\\n",
       "\t23 & Alex McCarthy & 32 & 628675200 & 1989/12/3 & Premier League & $\\dots$ \\\\\n",
       "\t24 & Alex Oxlade-Chamberlain & 29 & 745398000 & 1993/8/15 & Premier League & $\\dots$ \\\\\n",
       "\t25 & Alex Pritchard & 29 & 736412400 & 1993/5/3 & Premier League & $\\dots$ \\\\\n",
       "\t26 & Alex Smithies & 32 & 636624000 & 1990/3/5 & Premier League & $\\dots$ \\\\\n",
       "\t27 & Alexander Sørloth & 26 & 818150400 & 1995/12/5 & Premier League & $\\dots$ \\\\\n",
       "\t28 & Alexandre Lacazette & 31 & 675414000 & 1991/5/28 & Premier League & $\\dots$ \\\\\n",
       "\t29 & Alexandre Nascimento Costa Silva & 25 & 858499200 & 1997/3/16 & Premier League & $\\dots$ \\\\\n",
       "\t30 & Alexis Sanchez & 33 & 598521600 & 1988/12/19 & Premier League & $\\dots$ \\\\\n",
       "\t$\\dots$ & $\\dots$ & $\\dots$ & $\\dots$ & $\\dots$ & $\\dots$ &  \\\\\n",
       "\\end{tabular}\n"
      ],
      "text/plain": [
       "\u001b[1m561×47 DataFrame\u001b[0m\n",
       "\u001b[1m Row \u001b[0m│\u001b[1m full_name                   \u001b[0m\u001b[1m age   \u001b[0m\u001b[1m birthday  \u001b[0m\u001b[1m birthday_GMT \u001b[0m\u001b[1m league    \u001b[0m ⋯\n",
       "     │\u001b[90m String                      \u001b[0m\u001b[90m Int64 \u001b[0m\u001b[90m Int64     \u001b[0m\u001b[90m String15     \u001b[0m\u001b[90m String15  \u001b[0m ⋯\n",
       "─────┼──────────────────────────────────────────────────────────────────────────\n",
       "   1 │ Aaron Cresswell                 32  629712000  1989/12/15    Premier Le ⋯\n",
       "   2 │ Aaron Lennon                    35  545554800  1987/4/16     Premier Le\n",
       "   3 │ Aaron Mooy                      32  653382000  1990/9/15     Premier Le\n",
       "   4 │ Aaron Ramsey                    31  662198400  1990/12/26    Premier Le\n",
       "   5 │ Aaron Rowe                      22  968310000  2000/9/7      Premier Le ⋯\n",
       "   6 │ Aaron Wan-Bissaka               24  880531200  1997/11/26    Premier Le\n",
       "   7 │ Abdelhamid Sabiri               25  849168000  1996/11/28    Premier Le\n",
       "   8 │ Abdoulaye Doucouré              29  725875200  1993/1/1      Premier Le\n",
       "   9 │ Aboubakar Kamara                27  794563200  1995/3/7      Premier Le ⋯\n",
       "  10 │ Adalberto Peñaranda Maestre     25  865062000  1997/5/31     Premier Le\n",
       "  11 │ Adam Lallana                    34  579250800  1988/5/10     Premier Le\n",
       "  ⋮  │              ⋮                 ⋮        ⋮           ⋮              ⋮    ⋱\n",
       " 552 │ Willy Caballero                 41  370508400  1981/9/28     Premier Le\n",
       " 553 │ Xherdan Shaqiri                 31  687078000  1991/10/10    Premier Le ⋯\n",
       " 554 │ Yan Valery                      23  919670400  1999/2/22     Premier Le\n",
       " 555 │ Yerry Mina                      28  780303600  1994/9/23     Premier Le\n",
       " 556 │ Yoshinori Muto                  30  711183600  1992/7/15     Premier Le\n",
       " 557 │ Youri Tielemans                 25  862988400  1997/5/7      Premier Le ⋯\n",
       " 558 │ Yves Bissouma                   26  841388400  1996/8/30     Premier Le\n",
       " 559 │ Zechariah Medley                22  962953200  2000/7/7      Premier Le\n",
       " 560 │ Zeze  Steven Sessegnon          22  958633200  2000/5/18     Premier Le\n",
       " 561 │ Łukasz Fabiański                37  482659200  1985/4/18     Premier Le ⋯\n",
       "\u001b[36m                                                 43 columns and 540 rows omitted\u001b[0m"
      ]
     },
     "execution_count": 47,
     "metadata": {},
     "output_type": "execute_result"
    }
   ],
   "source": [
    "team_df = CSV.File(team_stats; normalizenames=true, delim=',', header=true) |> DataFrame\n",
    "player_df = CSV.File(player_stats; normalizenames=true, delim=',', header=true) |> DataFrame"
   ]
  },
  {
   "cell_type": "code",
   "execution_count": null,
   "id": "f40148c6-96ff-4194-b19a-d822bf1286f9",
   "metadata": {},
   "outputs": [],
   "source": []
  },
  {
   "cell_type": "code",
   "execution_count": null,
   "id": "90345d3a-4704-434b-ab87-7f41030a27a6",
   "metadata": {},
   "outputs": [],
   "source": []
  },
  {
   "cell_type": "code",
   "execution_count": null,
   "id": "9d8b9fbd-7efd-4192-9e40-8b53f7337921",
   "metadata": {},
   "outputs": [],
   "source": []
  },
  {
   "cell_type": "markdown",
   "id": "f2ecd1f0-e5c6-4c31-8593-8cad17b6e63a",
   "metadata": {},
   "source": [
    "******************************************\n",
    "\n",
    "\n",
    "# Stadium that witnessed the most goals\n",
    "\n",
    "\n",
    "******************************************"
   ]
  },
  {
   "cell_type": "code",
   "execution_count": 48,
   "id": "e834b8c9-c75c-49dc-9263-28c8340456a9",
   "metadata": {},
   "outputs": [
    {
     "data": {
      "text/html": [
       "<p><b>GroupedDataFrame with 21 groups based on key: stadium_name</b></p><div><div style = \"float: left;\"><span>First Group (19 rows): stadium_name = &quot;Old Trafford (Manchester)&quot;</span></div><div style = \"clear: both;\"></div></div><div class = \"data-frame\" style = \"overflow-x: scroll;\"><table class = \"data-frame\" style = \"margin-bottom: 6px;\"><thead><tr class = \"header\"><th class = \"rowNumber\" style = \"font-weight: bold; text-align: right;\">Row</th><th style = \"text-align: left;\">timestamp</th><th style = \"text-align: left;\">date_GMT</th><th style = \"text-align: left;\">status</th><th style = \"text-align: left;\">attendance</th><th style = \"text-align: left;\">home_team_name</th><th style = \"text-align: left;\">away_team_name</th><th style = \"text-align: left;\">referee</th><th style = \"text-align: left;\">Game_Week</th><th style = \"text-align: left;\">Pre_Match_PPG_Home_</th><th style = \"text-align: left;\">Pre_Match_PPG_Away_</th><th style = \"text-align: left;\">home_ppg</th><th style = \"text-align: left;\">away_ppg</th><th style = \"text-align: left;\">home_team_goal_count</th><th style = \"text-align: left;\">away_team_goal_count</th><th style = \"text-align: left;\">total_goal_count</th><th style = \"text-align: left;\">total_goals_at_half_time</th><th style = \"text-align: left;\">home_team_goal_count_half_time</th><th style = \"text-align: left;\">away_team_goal_count_half_time</th><th style = \"text-align: left;\">home_team_goal_timings</th><th style = \"text-align: left;\">away_team_goal_timings</th><th style = \"text-align: left;\">home_team_corner_count</th><th style = \"text-align: left;\">away_team_corner_count</th><th style = \"text-align: left;\">home_team_yellow_cards</th><th style = \"text-align: left;\">home_team_red_cards</th><th style = \"text-align: left;\">away_team_yellow_cards</th><th style = \"text-align: left;\">away_team_red_cards</th><th style = \"text-align: left;\">home_team_first_half_cards</th><th style = \"text-align: left;\">home_team_second_half_cards</th><th style = \"text-align: left;\">away_team_first_half_cards</th><th style = \"text-align: left;\">away_team_second_half_cards</th><th style = \"text-align: left;\">home_team_shots</th><th style = \"text-align: left;\">away_team_shots</th><th style = \"text-align: left;\">home_team_shots_on_target</th><th style = \"text-align: left;\">away_team_shots_on_target</th><th style = \"text-align: left;\">home_team_shots_off_target</th><th style = \"text-align: left;\">away_team_shots_off_target</th><th style = \"text-align: left;\">home_team_fouls</th><th style = \"text-align: left;\">away_team_fouls</th><th style = \"text-align: left;\">home_team_possession</th><th style = \"text-align: left;\">away_team_possession</th><th style = \"text-align: left;\">Home_Team_Pre_Match_xG</th><th style = \"text-align: left;\">Away_Team_Pre_Match_xG</th><th style = \"text-align: left;\">team_a_xg</th><th style = \"text-align: left;\">team_b_xg</th><th style = \"text-align: left;\">average_goals_per_match_pre_match</th><th style = \"text-align: left;\">btts_percentage_pre_match</th><th style = \"text-align: left;\">over_15_percentage_pre_match</th><th style = \"text-align: left;\">over_25_percentage_pre_match</th><th style = \"text-align: left;\">over_35_percentage_pre_match</th><th style = \"text-align: left;\">over_45_percentage_pre_match</th><th style = \"text-align: left;\">over_15_HT_FHG_percentage_pre_match</th><th style = \"text-align: left;\">over_05_HT_FHG_percentage_pre_match</th><th style = \"text-align: left;\">over_15_2HG_percentage_pre_match</th><th style = \"text-align: left;\">over_05_2HG_percentage_pre_match</th><th style = \"text-align: left;\">average_corners_per_match_pre_match</th><th style = \"text-align: left;\">average_cards_per_match_pre_match</th><th style = \"text-align: left;\">odds_ft_home_team_win</th><th style = \"text-align: left;\">odds_ft_draw</th><th style = \"text-align: left;\">odds_ft_away_team_win</th><th style = \"text-align: left;\">odds_ft_over15</th><th style = \"text-align: left;\">odds_ft_over25</th><th style = \"text-align: left;\">odds_ft_over35</th><th style = \"text-align: left;\">odds_ft_over45</th><th style = \"text-align: left;\">odds_btts_yes</th><th style = \"text-align: left;\">odds_btts_no</th><th style = \"text-align: left;\">stadium_name</th></tr><tr class = \"subheader headerLastRow\"><th class = \"rowNumber\" style = \"font-weight: bold; text-align: right;\"></th><th title = \"Int64\" style = \"text-align: left;\">Int64</th><th title = \"String31\" style = \"text-align: left;\">String31</th><th title = \"String15\" style = \"text-align: left;\">String15</th><th title = \"Int64\" style = \"text-align: left;\">Int64</th><th title = \"String31\" style = \"text-align: left;\">String31</th><th title = \"String31\" style = \"text-align: left;\">String31</th><th title = \"String15\" style = \"text-align: left;\">String15</th><th title = \"Int64\" style = \"text-align: left;\">Int64</th><th title = \"Float64\" style = \"text-align: left;\">Float64</th><th title = \"Float64\" style = \"text-align: left;\">Float64</th><th title = \"Float64\" style = \"text-align: left;\">Float64</th><th title = \"Float64\" style = \"text-align: left;\">Float64</th><th title = \"Int64\" style = \"text-align: left;\">Int64</th><th title = \"Int64\" style = \"text-align: left;\">Int64</th><th title = \"Int64\" style = \"text-align: left;\">Int64</th><th title = \"Int64\" style = \"text-align: left;\">Int64</th><th title = \"Int64\" style = \"text-align: left;\">Int64</th><th title = \"Int64\" style = \"text-align: left;\">Int64</th><th title = \"Union{Missing, String31}\" style = \"text-align: left;\">String31?</th><th title = \"Union{Missing, String31}\" style = \"text-align: left;\">String31?</th><th title = \"Int64\" style = \"text-align: left;\">Int64</th><th title = \"Int64\" style = \"text-align: left;\">Int64</th><th title = \"Int64\" style = \"text-align: left;\">Int64</th><th title = \"Int64\" style = \"text-align: left;\">Int64</th><th title = \"Int64\" style = \"text-align: left;\">Int64</th><th title = \"Int64\" style = \"text-align: left;\">Int64</th><th title = \"Int64\" style = \"text-align: left;\">Int64</th><th title = \"Int64\" style = \"text-align: left;\">Int64</th><th title = \"Int64\" style = \"text-align: left;\">Int64</th><th title = \"Int64\" style = \"text-align: left;\">Int64</th><th title = \"Int64\" style = \"text-align: left;\">Int64</th><th title = \"Int64\" style = \"text-align: left;\">Int64</th><th title = \"Int64\" style = \"text-align: left;\">Int64</th><th title = \"Int64\" style = \"text-align: left;\">Int64</th><th title = \"Int64\" style = \"text-align: left;\">Int64</th><th title = \"Int64\" style = \"text-align: left;\">Int64</th><th title = \"Int64\" style = \"text-align: left;\">Int64</th><th title = \"Int64\" style = \"text-align: left;\">Int64</th><th title = \"Int64\" style = \"text-align: left;\">Int64</th><th title = \"Int64\" style = \"text-align: left;\">Int64</th><th title = \"Float64\" style = \"text-align: left;\">Float64</th><th title = \"Float64\" style = \"text-align: left;\">Float64</th><th title = \"Float64\" style = \"text-align: left;\">Float64</th><th title = \"Float64\" style = \"text-align: left;\">Float64</th><th title = \"Float64\" style = \"text-align: left;\">Float64</th><th title = \"Int64\" style = \"text-align: left;\">Int64</th><th title = \"Int64\" style = \"text-align: left;\">Int64</th><th title = \"Int64\" style = \"text-align: left;\">Int64</th><th title = \"Int64\" style = \"text-align: left;\">Int64</th><th title = \"Int64\" style = \"text-align: left;\">Int64</th><th title = \"Int64\" style = \"text-align: left;\">Int64</th><th title = \"Int64\" style = \"text-align: left;\">Int64</th><th title = \"Int64\" style = \"text-align: left;\">Int64</th><th title = \"Int64\" style = \"text-align: left;\">Int64</th><th title = \"Float64\" style = \"text-align: left;\">Float64</th><th title = \"Float64\" style = \"text-align: left;\">Float64</th><th title = \"Float64\" style = \"text-align: left;\">Float64</th><th title = \"Float64\" style = \"text-align: left;\">Float64</th><th title = \"Float64\" style = \"text-align: left;\">Float64</th><th title = \"Float64\" style = \"text-align: left;\">Float64</th><th title = \"Float64\" style = \"text-align: left;\">Float64</th><th title = \"Float64\" style = \"text-align: left;\">Float64</th><th title = \"Float64\" style = \"text-align: left;\">Float64</th><th title = \"Float64\" style = \"text-align: left;\">Float64</th><th title = \"Float64\" style = \"text-align: left;\">Float64</th><th title = \"String\" style = \"text-align: left;\">String</th></tr></thead><tbody><tr><td class = \"rowNumber\" style = \"font-weight: bold; text-align: right;\">1</td><td style = \"text-align: right;\">1533927600</td><td style = \"text-align: left;\">Aug 10 2018 - 7:00pm</td><td style = \"text-align: left;\">complete</td><td style = \"text-align: right;\">74439</td><td style = \"text-align: left;\">Manchester United</td><td style = \"text-align: left;\">Leicester City</td><td style = \"text-align: left;\">Andre Marriner</td><td style = \"text-align: right;\">1</td><td style = \"text-align: right;\">0.0</td><td style = \"text-align: right;\">0.0</td><td style = \"text-align: right;\">1.89</td><td style = \"text-align: right;\">1.32</td><td style = \"text-align: right;\">2</td><td style = \"text-align: right;\">1</td><td style = \"text-align: right;\">3</td><td style = \"text-align: right;\">1</td><td style = \"text-align: right;\">1</td><td style = \"text-align: right;\">0</td><td style = \"text-align: left;\">3,83</td><td style = \"text-align: left;\">90&apos;2</td><td style = \"text-align: right;\">2</td><td style = \"text-align: right;\">5</td><td style = \"text-align: right;\">2</td><td style = \"text-align: right;\">0</td><td style = \"text-align: right;\">1</td><td style = \"text-align: right;\">0</td><td style = \"text-align: right;\">0</td><td style = \"text-align: right;\">2</td><td style = \"text-align: right;\">0</td><td style = \"text-align: right;\">1</td><td style = \"text-align: right;\">8</td><td style = \"text-align: right;\">8</td><td style = \"text-align: right;\">7</td><td style = \"text-align: right;\">5</td><td style = \"text-align: right;\">1</td><td style = \"text-align: right;\">3</td><td style = \"text-align: right;\">11</td><td style = \"text-align: right;\">8</td><td style = \"text-align: right;\">46</td><td style = \"text-align: right;\">54</td><td style = \"text-align: right;\">0.0</td><td style = \"text-align: right;\">0.0</td><td style = \"text-align: right;\">1.25</td><td style = \"text-align: right;\">1.46</td><td style = \"text-align: right;\">0.0</td><td style = \"text-align: right;\">0</td><td style = \"text-align: right;\">0</td><td style = \"text-align: right;\">0</td><td style = \"text-align: right;\">0</td><td style = \"text-align: right;\">0</td><td style = \"text-align: right;\">0</td><td style = \"text-align: right;\">0</td><td style = \"text-align: right;\">0</td><td style = \"text-align: right;\">0</td><td style = \"text-align: right;\">0.0</td><td style = \"text-align: right;\">0.0</td><td style = \"text-align: right;\">1.37</td><td style = \"text-align: right;\">4.98</td><td style = \"text-align: right;\">9.81</td><td style = \"text-align: right;\">1.33</td><td style = \"text-align: right;\">2.0</td><td style = \"text-align: right;\">3.6</td><td style = \"text-align: right;\">7.5</td><td style = \"text-align: right;\">2.05</td><td style = \"text-align: right;\">1.69</td><td style = \"text-align: left;\">Old Trafford (Manchester)</td></tr><tr><td class = \"rowNumber\" style = \"font-weight: bold; text-align: right;\">2</td><td style = \"text-align: right;\">1535396400</td><td style = \"text-align: left;\">Aug 27 2018 - 7:00pm</td><td style = \"text-align: left;\">complete</td><td style = \"text-align: right;\">74400</td><td style = \"text-align: left;\">Manchester United</td><td style = \"text-align: left;\">Tottenham Hotspur</td><td style = \"text-align: left;\">Craig Pawson</td><td style = \"text-align: right;\">3</td><td style = \"text-align: right;\">3.0</td><td style = \"text-align: right;\">3.0</td><td style = \"text-align: right;\">1.89</td><td style = \"text-align: right;\">1.74</td><td style = \"text-align: right;\">0</td><td style = \"text-align: right;\">3</td><td style = \"text-align: right;\">3</td><td style = \"text-align: right;\">0</td><td style = \"text-align: right;\">0</td><td style = \"text-align: right;\">0</td><td style = \"font-style: italic; text-align: left;\">missing</td><td style = \"text-align: left;\">50,52,84</td><td style = \"text-align: right;\">5</td><td style = \"text-align: right;\">2</td><td style = \"text-align: right;\">2</td><td style = \"text-align: right;\">0</td><td style = \"text-align: right;\">3</td><td style = \"text-align: right;\">0</td><td style = \"text-align: right;\">1</td><td style = \"text-align: right;\">1</td><td style = \"text-align: right;\">2</td><td style = \"text-align: right;\">1</td><td style = \"text-align: right;\">18</td><td style = \"text-align: right;\">8</td><td style = \"text-align: right;\">6</td><td style = \"text-align: right;\">6</td><td style = \"text-align: right;\">12</td><td style = \"text-align: right;\">2</td><td style = \"text-align: right;\">11</td><td style = \"text-align: right;\">16</td><td style = \"text-align: right;\">57</td><td style = \"text-align: right;\">43</td><td style = \"text-align: right;\">1.25</td><td style = \"text-align: right;\">1.58</td><td style = \"text-align: right;\">2.01</td><td style = \"text-align: right;\">1.11</td><td style = \"text-align: right;\">3.0</td><td style = \"text-align: right;\">100</td><td style = \"text-align: right;\">100</td><td style = \"text-align: right;\">100</td><td style = \"text-align: right;\">0</td><td style = \"text-align: right;\">0</td><td style = \"text-align: right;\">50</td><td style = \"text-align: right;\">100</td><td style = \"text-align: right;\">50</td><td style = \"text-align: right;\">50</td><td style = \"text-align: right;\">7.0</td><td style = \"text-align: right;\">4.0</td><td style = \"text-align: right;\">2.19</td><td style = \"text-align: right;\">3.45</td><td style = \"text-align: right;\">3.53</td><td style = \"text-align: right;\">1.27</td><td style = \"text-align: right;\">1.83</td><td style = \"text-align: right;\">3.15</td><td style = \"text-align: right;\">6.6</td><td style = \"text-align: right;\">1.61</td><td style = \"text-align: right;\">2.15</td><td style = \"text-align: left;\">Old Trafford (Manchester)</td></tr><tr><td class = \"rowNumber\" style = \"font-weight: bold; text-align: right;\">3</td><td style = \"text-align: right;\">1537624800</td><td style = \"text-align: left;\">Sep 22 2018 - 2:00pm</td><td style = \"text-align: left;\">complete</td><td style = \"text-align: right;\">74489</td><td style = \"text-align: left;\">Manchester United</td><td style = \"text-align: left;\">Wolverhampton Wanderers</td><td style = \"text-align: left;\">Kevin Friend</td><td style = \"text-align: right;\">6</td><td style = \"text-align: right;\">1.5</td><td style = \"text-align: right;\">1.5</td><td style = \"text-align: right;\">1.89</td><td style = \"text-align: right;\">1.21</td><td style = \"text-align: right;\">1</td><td style = \"text-align: right;\">1</td><td style = \"text-align: right;\">2</td><td style = \"text-align: right;\">1</td><td style = \"text-align: right;\">1</td><td style = \"text-align: right;\">0</td><td style = \"text-align: left;\">18</td><td style = \"text-align: left;\">53</td><td style = \"text-align: right;\">5</td><td style = \"text-align: right;\">4</td><td style = \"text-align: right;\">1</td><td style = \"text-align: right;\">0</td><td style = \"text-align: right;\">1</td><td style = \"text-align: right;\">0</td><td style = \"text-align: right;\">1</td><td style = \"text-align: right;\">0</td><td style = \"text-align: right;\">0</td><td style = \"text-align: right;\">1</td><td style = \"text-align: right;\">10</td><td style = \"text-align: right;\">12</td><td style = \"text-align: right;\">7</td><td style = \"text-align: right;\">9</td><td style = \"text-align: right;\">3</td><td style = \"text-align: right;\">3</td><td style = \"text-align: right;\">5</td><td style = \"text-align: right;\">17</td><td style = \"text-align: right;\">64</td><td style = \"text-align: right;\">36</td><td style = \"text-align: right;\">1.63</td><td style = \"text-align: right;\">1.64</td><td style = \"text-align: right;\">1.57</td><td style = \"text-align: right;\">1.71</td><td style = \"text-align: right;\">2.25</td><td style = \"text-align: right;\">25</td><td style = \"text-align: right;\">75</td><td style = \"text-align: right;\">50</td><td style = \"text-align: right;\">0</td><td style = \"text-align: right;\">0</td><td style = \"text-align: right;\">25</td><td style = \"text-align: right;\">50</td><td style = \"text-align: right;\">50</td><td style = \"text-align: right;\">75</td><td style = \"text-align: right;\">10.0</td><td style = \"text-align: right;\">3.0</td><td style = \"text-align: right;\">1.67</td><td style = \"text-align: right;\">3.95</td><td style = \"text-align: right;\">5.7</td><td style = \"text-align: right;\">1.26</td><td style = \"text-align: right;\">1.8</td><td style = \"text-align: right;\">3.05</td><td style = \"text-align: right;\">7.0</td><td style = \"text-align: right;\">1.83</td><td style = \"text-align: right;\">1.83</td><td style = \"text-align: left;\">Old Trafford (Manchester)</td></tr><tr><td class = \"rowNumber\" style = \"font-weight: bold; text-align: right;\">4</td><td style = \"text-align: right;\">1538843400</td><td style = \"text-align: left;\">Oct 06 2018 - 4:30pm</td><td style = \"text-align: left;\">complete</td><td style = \"text-align: right;\">74519</td><td style = \"text-align: left;\">Manchester United</td><td style = \"text-align: left;\">Newcastle United</td><td style = \"text-align: left;\">Anthony Taylor</td><td style = \"text-align: right;\">8</td><td style = \"text-align: right;\">1.33</td><td style = \"text-align: right;\">0.67</td><td style = \"text-align: right;\">1.89</td><td style = \"text-align: right;\">1.05</td><td style = \"text-align: right;\">3</td><td style = \"text-align: right;\">2</td><td style = \"text-align: right;\">5</td><td style = \"text-align: right;\">2</td><td style = \"text-align: right;\">0</td><td style = \"text-align: right;\">2</td><td style = \"text-align: left;\">70,76,90</td><td style = \"text-align: left;\">7,10</td><td style = \"text-align: right;\">10</td><td style = \"text-align: right;\">6</td><td style = \"text-align: right;\">2</td><td style = \"text-align: right;\">0</td><td style = \"text-align: right;\">2</td><td style = \"text-align: right;\">0</td><td style = \"text-align: right;\">1</td><td style = \"text-align: right;\">1</td><td style = \"text-align: right;\">0</td><td style = \"text-align: right;\">2</td><td style = \"text-align: right;\">16</td><td style = \"text-align: right;\">14</td><td style = \"text-align: right;\">11</td><td style = \"text-align: right;\">9</td><td style = \"text-align: right;\">5</td><td style = \"text-align: right;\">5</td><td style = \"text-align: right;\">16</td><td style = \"text-align: right;\">8</td><td style = \"text-align: right;\">73</td><td style = \"text-align: right;\">27</td><td style = \"text-align: right;\">1.61</td><td style = \"text-align: right;\">0.93</td><td style = \"text-align: right;\">2.36</td><td style = \"text-align: right;\">1.84</td><td style = \"text-align: right;\">1.84</td><td style = \"text-align: right;\">50</td><td style = \"text-align: right;\">67</td><td style = \"text-align: right;\">50</td><td style = \"text-align: right;\">0</td><td style = \"text-align: right;\">0</td><td style = \"text-align: right;\">17</td><td style = \"text-align: right;\">50</td><td style = \"text-align: right;\">34</td><td style = \"text-align: right;\">67</td><td style = \"text-align: right;\">7.33</td><td style = \"text-align: right;\">3.34</td><td style = \"text-align: right;\">1.44</td><td style = \"text-align: right;\">4.5</td><td style = \"text-align: right;\">8.5</td><td style = \"text-align: right;\">1.28</td><td style = \"text-align: right;\">1.87</td><td style = \"text-align: right;\">3.2</td><td style = \"text-align: right;\">7.3</td><td style = \"text-align: right;\">2.0</td><td style = \"text-align: right;\">1.71</td><td style = \"text-align: left;\">Old Trafford (Manchester)</td></tr><tr><td class = \"rowNumber\" style = \"font-weight: bold; text-align: right;\">5</td><td style = \"text-align: right;\">1540742400</td><td style = \"text-align: left;\">Oct 28 2018 - 4:00pm</td><td style = \"text-align: left;\">complete</td><td style = \"text-align: right;\">74525</td><td style = \"text-align: left;\">Manchester United</td><td style = \"text-align: left;\">Everton</td><td style = \"text-align: left;\">Jonathan Moss</td><td style = \"text-align: right;\">10</td><td style = \"text-align: right;\">1.75</td><td style = \"text-align: right;\">1.25</td><td style = \"text-align: right;\">1.89</td><td style = \"text-align: right;\">1.05</td><td style = \"text-align: right;\">2</td><td style = \"text-align: right;\">1</td><td style = \"text-align: right;\">3</td><td style = \"text-align: right;\">1</td><td style = \"text-align: right;\">1</td><td style = \"text-align: right;\">0</td><td style = \"text-align: left;\">27,49</td><td style = \"text-align: left;\">77</td><td style = \"text-align: right;\">8</td><td style = \"text-align: right;\">4</td><td style = \"text-align: right;\">2</td><td style = \"text-align: right;\">0</td><td style = \"text-align: right;\">1</td><td style = \"text-align: right;\">0</td><td style = \"text-align: right;\">2</td><td style = \"text-align: right;\">0</td><td style = \"text-align: right;\">1</td><td style = \"text-align: right;\">0</td><td style = \"text-align: right;\">14</td><td style = \"text-align: right;\">14</td><td style = \"text-align: right;\">11</td><td style = \"text-align: right;\">7</td><td style = \"text-align: right;\">3</td><td style = \"text-align: right;\">7</td><td style = \"text-align: right;\">15</td><td style = \"text-align: right;\">12</td><td style = \"text-align: right;\">53</td><td style = \"text-align: right;\">47</td><td style = \"text-align: right;\">1.8</td><td style = \"text-align: right;\">1.47</td><td style = \"text-align: right;\">1.94</td><td style = \"text-align: right;\">1.67</td><td style = \"text-align: right;\">3.25</td><td style = \"text-align: right;\">75</td><td style = \"text-align: right;\">100</td><td style = \"text-align: right;\">75</td><td style = \"text-align: right;\">38</td><td style = \"text-align: right;\">13</td><td style = \"text-align: right;\">38</td><td style = \"text-align: right;\">63</td><td style = \"text-align: right;\">75</td><td style = \"text-align: right;\">100</td><td style = \"text-align: right;\">12.25</td><td style = \"text-align: right;\">4.25</td><td style = \"text-align: right;\">1.74</td><td style = \"text-align: right;\">3.9</td><td style = \"text-align: right;\">5.05</td><td style = \"text-align: right;\">1.24</td><td style = \"text-align: right;\">1.74</td><td style = \"text-align: right;\">2.9</td><td style = \"text-align: right;\">5.1</td><td style = \"text-align: right;\">1.74</td><td style = \"text-align: right;\">1.95</td><td style = \"text-align: left;\">Old Trafford (Manchester)</td></tr><tr><td class = \"rowNumber\" style = \"font-weight: bold; text-align: right;\">6</td><td style = \"text-align: right;\">1543071600</td><td style = \"text-align: left;\">Nov 24 2018 - 3:00pm</td><td style = \"text-align: left;\">complete</td><td style = \"text-align: right;\">74516</td><td style = \"text-align: left;\">Manchester United</td><td style = \"text-align: left;\">Crystal Palace</td><td style = \"text-align: left;\">Lee Mason</td><td style = \"text-align: right;\">13</td><td style = \"text-align: right;\">2.0</td><td style = \"text-align: right;\">1.0</td><td style = \"text-align: right;\">1.89</td><td style = \"text-align: right;\">1.53</td><td style = \"text-align: right;\">0</td><td style = \"text-align: right;\">0</td><td style = \"text-align: right;\">0</td><td style = \"text-align: right;\">0</td><td style = \"text-align: right;\">0</td><td style = \"text-align: right;\">0</td><td style = \"font-style: italic; text-align: left;\">missing</td><td style = \"font-style: italic; text-align: left;\">missing</td><td style = \"text-align: right;\">10</td><td style = \"text-align: right;\">3</td><td style = \"text-align: right;\">1</td><td style = \"text-align: right;\">0</td><td style = \"text-align: right;\">2</td><td style = \"text-align: right;\">0</td><td style = \"text-align: right;\">0</td><td style = \"text-align: right;\">1</td><td style = \"text-align: right;\">2</td><td style = \"text-align: right;\">0</td><td style = \"text-align: right;\">10</td><td style = \"text-align: right;\">12</td><td style = \"text-align: right;\">6</td><td style = \"text-align: right;\">3</td><td style = \"text-align: right;\">4</td><td style = \"text-align: right;\">9</td><td style = \"text-align: right;\">13</td><td style = \"text-align: right;\">12</td><td style = \"text-align: right;\">59</td><td style = \"text-align: right;\">41</td><td style = \"text-align: right;\">1.83</td><td style = \"text-align: right;\">1.11</td><td style = \"text-align: right;\">1.63</td><td style = \"text-align: right;\">1.23</td><td style = \"text-align: right;\">2.85</td><td style = \"text-align: right;\">65</td><td style = \"text-align: right;\">92</td><td style = \"text-align: right;\">65</td><td style = \"text-align: right;\">19</td><td style = \"text-align: right;\">10</td><td style = \"text-align: right;\">10</td><td style = \"text-align: right;\">74</td><td style = \"text-align: right;\">74</td><td style = \"text-align: right;\">92</td><td style = \"text-align: right;\">9.5</td><td style = \"text-align: right;\">3.8</td><td style = \"text-align: right;\">1.42</td><td style = \"text-align: right;\">4.85</td><td style = \"text-align: right;\">8.25</td><td style = \"text-align: right;\">1.24</td><td style = \"text-align: right;\">1.74</td><td style = \"text-align: right;\">2.9</td><td style = \"text-align: right;\">5.2</td><td style = \"text-align: right;\">1.95</td><td style = \"text-align: right;\">1.77</td><td style = \"text-align: left;\">Old Trafford (Manchester)</td></tr><tr><td class = \"rowNumber\" style = \"font-weight: bold; text-align: right;\">7</td><td style = \"text-align: right;\">1544040000</td><td style = \"text-align: left;\">Dec 05 2018 - 8:00pm</td><td style = \"text-align: left;\">complete</td><td style = \"text-align: right;\">74507</td><td style = \"text-align: left;\">Manchester United</td><td style = \"text-align: left;\">Arsenal</td><td style = \"text-align: left;\">Andre Marriner</td><td style = \"text-align: right;\">15</td><td style = \"text-align: right;\">1.83</td><td style = \"text-align: right;\">2.17</td><td style = \"text-align: right;\">1.89</td><td style = \"text-align: right;\">1.32</td><td style = \"text-align: right;\">2</td><td style = \"text-align: right;\">2</td><td style = \"text-align: right;\">4</td><td style = \"text-align: right;\">2</td><td style = \"text-align: right;\">1</td><td style = \"text-align: right;\">1</td><td style = \"text-align: left;\">30,69</td><td style = \"text-align: left;\">26,68</td><td style = \"text-align: right;\">4</td><td style = \"text-align: right;\">4</td><td style = \"text-align: right;\">3</td><td style = \"text-align: right;\">0</td><td style = \"text-align: right;\">3</td><td style = \"text-align: right;\">0</td><td style = \"text-align: right;\">3</td><td style = \"text-align: right;\">0</td><td style = \"text-align: right;\">2</td><td style = \"text-align: right;\">1</td><td style = \"text-align: right;\">8</td><td style = \"text-align: right;\">7</td><td style = \"text-align: right;\">8</td><td style = \"text-align: right;\">5</td><td style = \"text-align: right;\">0</td><td style = \"text-align: right;\">2</td><td style = \"text-align: right;\">13</td><td style = \"text-align: right;\">10</td><td style = \"text-align: right;\">44</td><td style = \"text-align: right;\">56</td><td style = \"text-align: right;\">1.79</td><td style = \"text-align: right;\">1.56</td><td style = \"text-align: right;\">1.34</td><td style = \"text-align: right;\">1.12</td><td style = \"text-align: right;\">3.5</td><td style = \"text-align: right;\">84</td><td style = \"text-align: right;\">92</td><td style = \"text-align: right;\">84</td><td style = \"text-align: right;\">42</td><td style = \"text-align: right;\">34</td><td style = \"text-align: right;\">42</td><td style = \"text-align: right;\">75</td><td style = \"text-align: right;\">67</td><td style = \"text-align: right;\">92</td><td style = \"text-align: right;\">11.34</td><td style = \"text-align: right;\">3.17</td><td style = \"text-align: right;\">2.35</td><td style = \"text-align: right;\">3.55</td><td style = \"text-align: right;\">3.1</td><td style = \"text-align: right;\">1.14</td><td style = \"text-align: right;\">1.51</td><td style = \"text-align: right;\">2.35</td><td style = \"text-align: right;\">4.7</td><td style = \"text-align: right;\">1.49</td><td style = \"text-align: right;\">2.3</td><td style = \"text-align: left;\">Old Trafford (Manchester)</td></tr><tr><td class = \"rowNumber\" style = \"font-weight: bold; text-align: right;\">8</td><td style = \"text-align: right;\">1544281200</td><td style = \"text-align: left;\">Dec 08 2018 - 3:00pm</td><td style = \"text-align: left;\">complete</td><td style = \"text-align: right;\">74523</td><td style = \"text-align: left;\">Manchester United</td><td style = \"text-align: left;\">Fulham</td><td style = \"text-align: left;\">Lee Probert</td><td style = \"text-align: right;\">16</td><td style = \"text-align: right;\">1.71</td><td style = \"text-align: right;\">0.13</td><td style = \"text-align: right;\">1.89</td><td style = \"text-align: right;\">0.26</td><td style = \"text-align: right;\">4</td><td style = \"text-align: right;\">1</td><td style = \"text-align: right;\">5</td><td style = \"text-align: right;\">3</td><td style = \"text-align: right;\">3</td><td style = \"text-align: right;\">0</td><td style = \"text-align: left;\">13,28,42,82</td><td style = \"text-align: left;\">67</td><td style = \"text-align: right;\">10</td><td style = \"text-align: right;\">3</td><td style = \"text-align: right;\">1</td><td style = \"text-align: right;\">0</td><td style = \"text-align: right;\">2</td><td style = \"text-align: right;\">1</td><td style = \"text-align: right;\">1</td><td style = \"text-align: right;\">0</td><td style = \"text-align: right;\">1</td><td style = \"text-align: right;\">2</td><td style = \"text-align: right;\">18</td><td style = \"text-align: right;\">9</td><td style = \"text-align: right;\">12</td><td style = \"text-align: right;\">5</td><td style = \"text-align: right;\">6</td><td style = \"text-align: right;\">4</td><td style = \"text-align: right;\">11</td><td style = \"text-align: right;\">15</td><td style = \"text-align: right;\">62</td><td style = \"text-align: right;\">38</td><td style = \"text-align: right;\">1.73</td><td style = \"text-align: right;\">1.0</td><td style = \"text-align: right;\">2.45</td><td style = \"text-align: right;\">1.24</td><td style = \"text-align: right;\">3.0</td><td style = \"text-align: right;\">55</td><td style = \"text-align: right;\">87</td><td style = \"text-align: right;\">67</td><td style = \"text-align: right;\">34</td><td style = \"text-align: right;\">14</td><td style = \"text-align: right;\">27</td><td style = \"text-align: right;\">80</td><td style = \"text-align: right;\">61</td><td style = \"text-align: right;\">87</td><td style = \"text-align: right;\">9.42</td><td style = \"text-align: right;\">3.49</td><td style = \"text-align: right;\">1.39</td><td style = \"text-align: right;\">5.1</td><td style = \"text-align: right;\">8.5</td><td style = \"text-align: right;\">1.17</td><td style = \"text-align: right;\">1.57</td><td style = \"text-align: right;\">2.4</td><td style = \"text-align: right;\">4.55</td><td style = \"text-align: right;\">1.74</td><td style = \"text-align: right;\">1.91</td><td style = \"text-align: left;\">Old Trafford (Manchester)</td></tr><tr><td class = \"rowNumber\" style = \"font-weight: bold; text-align: right;\">9</td><td style = \"text-align: right;\">1545836400</td><td style = \"text-align: left;\">Dec 26 2018 - 3:00pm</td><td style = \"text-align: left;\">complete</td><td style = \"text-align: right;\">74523</td><td style = \"text-align: left;\">Manchester United</td><td style = \"text-align: left;\">Huddersfield Town</td><td style = \"text-align: left;\">Jonathan Moss</td><td style = \"text-align: right;\">19</td><td style = \"text-align: right;\">1.88</td><td style = \"text-align: right;\">0.63</td><td style = \"text-align: right;\">1.89</td><td style = \"text-align: right;\">0.37</td><td style = \"text-align: right;\">3</td><td style = \"text-align: right;\">1</td><td style = \"text-align: right;\">4</td><td style = \"text-align: right;\">1</td><td style = \"text-align: right;\">1</td><td style = \"text-align: right;\">0</td><td style = \"text-align: left;\">28,64,78</td><td style = \"text-align: left;\">88</td><td style = \"text-align: right;\">5</td><td style = \"text-align: right;\">3</td><td style = \"text-align: right;\">1</td><td style = \"text-align: right;\">0</td><td style = \"text-align: right;\">1</td><td style = \"text-align: right;\">0</td><td style = \"text-align: right;\">1</td><td style = \"text-align: right;\">0</td><td style = \"text-align: right;\">1</td><td style = \"text-align: right;\">0</td><td style = \"text-align: right;\">13</td><td style = \"text-align: right;\">10</td><td style = \"text-align: right;\">11</td><td style = \"text-align: right;\">3</td><td style = \"text-align: right;\">2</td><td style = \"text-align: right;\">7</td><td style = \"text-align: right;\">9</td><td style = \"text-align: right;\">13</td><td style = \"text-align: right;\">64</td><td style = \"text-align: right;\">36</td><td style = \"text-align: right;\">1.82</td><td style = \"text-align: right;\">1.28</td><td style = \"text-align: right;\">1.96</td><td style = \"text-align: right;\">1.11</td><td style = \"text-align: right;\">3.07</td><td style = \"text-align: right;\">69</td><td style = \"text-align: right;\">88</td><td style = \"text-align: right;\">63</td><td style = \"text-align: right;\">32</td><td style = \"text-align: right;\">19</td><td style = \"text-align: right;\">51</td><td style = \"text-align: right;\">82</td><td style = \"text-align: right;\">50</td><td style = \"text-align: right;\">82</td><td style = \"text-align: right;\">11.0</td><td style = \"text-align: right;\">4.0</td><td style = \"text-align: right;\">1.33</td><td style = \"text-align: right;\">5.8</td><td style = \"text-align: right;\">9.75</td><td style = \"text-align: right;\">1.21</td><td style = \"text-align: right;\">1.69</td><td style = \"text-align: right;\">2.7</td><td style = \"text-align: right;\">4.55</td><td style = \"text-align: right;\">2.0</td><td style = \"text-align: right;\">1.67</td><td style = \"text-align: left;\">Old Trafford (Manchester)</td></tr><tr><td class = \"rowNumber\" style = \"font-weight: bold; text-align: right;\">10</td><td style = \"text-align: right;\">1546187400</td><td style = \"text-align: left;\">Dec 30 2018 - 4:30pm</td><td style = \"text-align: left;\">complete</td><td style = \"text-align: right;\">74556</td><td style = \"text-align: left;\">Manchester United</td><td style = \"text-align: left;\">AFC Bournemouth</td><td style = \"text-align: left;\">Lee Mason</td><td style = \"text-align: right;\">20</td><td style = \"text-align: right;\">2.0</td><td style = \"text-align: right;\">1.0</td><td style = \"text-align: right;\">1.89</td><td style = \"text-align: right;\">0.84</td><td style = \"text-align: right;\">4</td><td style = \"text-align: right;\">1</td><td style = \"text-align: right;\">5</td><td style = \"text-align: right;\">4</td><td style = \"text-align: right;\">3</td><td style = \"text-align: right;\">1</td><td style = \"text-align: left;\">5,33,45,72</td><td style = \"text-align: left;\">45&apos;2</td><td style = \"text-align: right;\">4</td><td style = \"text-align: right;\">5</td><td style = \"text-align: right;\">2</td><td style = \"text-align: right;\">1</td><td style = \"text-align: right;\">0</td><td style = \"text-align: right;\">0</td><td style = \"text-align: right;\">1</td><td style = \"text-align: right;\">2</td><td style = \"text-align: right;\">0</td><td style = \"text-align: right;\">0</td><td style = \"text-align: right;\">9</td><td style = \"text-align: right;\">6</td><td style = \"text-align: right;\">9</td><td style = \"text-align: right;\">4</td><td style = \"text-align: right;\">0</td><td style = \"text-align: right;\">2</td><td style = \"text-align: right;\">10</td><td style = \"text-align: right;\">7</td><td style = \"text-align: right;\">64</td><td style = \"text-align: right;\">36</td><td style = \"text-align: right;\">1.83</td><td style = \"text-align: right;\">1.34</td><td style = \"text-align: right;\">1.58</td><td style = \"text-align: right;\">1.0</td><td style = \"text-align: right;\">3.28</td><td style = \"text-align: right;\">56</td><td style = \"text-align: right;\">95</td><td style = \"text-align: right;\">78</td><td style = \"text-align: right;\">44</td><td style = \"text-align: right;\">17</td><td style = \"text-align: right;\">45</td><td style = \"text-align: right;\">84</td><td style = \"text-align: right;\">73</td><td style = \"text-align: right;\">89</td><td style = \"text-align: right;\">12.23</td><td style = \"text-align: right;\">2.78</td><td style = \"text-align: right;\">1.43</td><td style = \"text-align: right;\">5.3</td><td style = \"text-align: right;\">7.0</td><td style = \"text-align: right;\">1.16</td><td style = \"text-align: right;\">1.53</td><td style = \"text-align: right;\">2.3</td><td style = \"text-align: right;\">4.4</td><td style = \"text-align: right;\">1.71</td><td style = \"text-align: right;\">1.91</td><td style = \"text-align: left;\">Old Trafford (Manchester)</td></tr><tr><td class = \"rowNumber\" style = \"font-weight: bold; text-align: right;\">11</td><td style = \"text-align: right;\">1547910000</td><td style = \"text-align: left;\">Jan 19 2019 - 3:00pm</td><td style = \"text-align: left;\">complete</td><td style = \"text-align: right;\">74532</td><td style = \"text-align: left;\">Manchester United</td><td style = \"text-align: left;\">Brighton &amp; Hove Albion</td><td style = \"text-align: left;\">Paul Tierney</td><td style = \"text-align: right;\">23</td><td style = \"text-align: right;\">2.1</td><td style = \"text-align: right;\">0.73</td><td style = \"text-align: right;\">1.89</td><td style = \"text-align: right;\">0.68</td><td style = \"text-align: right;\">2</td><td style = \"text-align: right;\">1</td><td style = \"text-align: right;\">3</td><td style = \"text-align: right;\">2</td><td style = \"text-align: right;\">2</td><td style = \"text-align: right;\">0</td><td style = \"text-align: left;\">27,42</td><td style = \"text-align: left;\">72</td><td style = \"text-align: right;\">6</td><td style = \"text-align: right;\">5</td><td style = \"text-align: right;\">1</td><td style = \"text-align: right;\">0</td><td style = \"text-align: right;\">0</td><td style = \"text-align: right;\">0</td><td style = \"text-align: right;\">0</td><td style = \"text-align: right;\">1</td><td style = \"text-align: right;\">0</td><td style = \"text-align: right;\">0</td><td style = \"text-align: right;\">15</td><td style = \"text-align: right;\">7</td><td style = \"text-align: right;\">6</td><td style = \"text-align: right;\">4</td><td style = \"text-align: right;\">9</td><td style = \"text-align: right;\">3</td><td style = \"text-align: right;\">11</td><td style = \"text-align: right;\">11</td><td style = \"text-align: right;\">56</td><td style = \"text-align: right;\">44</td><td style = \"text-align: right;\">1.81</td><td style = \"text-align: right;\">1.02</td><td style = \"text-align: right;\">1.71</td><td style = \"text-align: right;\">1.04</td><td style = \"text-align: right;\">2.93</td><td style = \"text-align: right;\">63</td><td style = \"text-align: right;\">82</td><td style = \"text-align: right;\">63</td><td style = \"text-align: right;\">39</td><td style = \"text-align: right;\">15</td><td style = \"text-align: right;\">34</td><td style = \"text-align: right;\">86</td><td style = \"text-align: right;\">49</td><td style = \"text-align: right;\">82</td><td style = \"text-align: right;\">10.3</td><td style = \"text-align: right;\">3.72</td><td style = \"text-align: right;\">1.42</td><td style = \"text-align: right;\">5.05</td><td style = \"text-align: right;\">8.25</td><td style = \"text-align: right;\">1.23</td><td style = \"text-align: right;\">1.71</td><td style = \"text-align: right;\">2.8</td><td style = \"text-align: right;\">5.0</td><td style = \"text-align: right;\">1.95</td><td style = \"text-align: right;\">1.69</td><td style = \"text-align: left;\">Old Trafford (Manchester)</td></tr><tr><td class = \"rowNumber\" style = \"font-weight: bold; text-align: right;\">12</td><td style = \"text-align: right;\">1548792000</td><td style = \"text-align: left;\">Jan 29 2019 - 8:00pm</td><td style = \"text-align: left;\">complete</td><td style = \"text-align: right;\">74529</td><td style = \"text-align: left;\">Manchester United</td><td style = \"text-align: left;\">Burnley</td><td style = \"text-align: left;\">Jonathan Moss</td><td style = \"text-align: right;\">24</td><td style = \"text-align: right;\">2.18</td><td style = \"text-align: right;\">0.75</td><td style = \"text-align: right;\">1.89</td><td style = \"text-align: right;\">0.89</td><td style = \"text-align: right;\">2</td><td style = \"text-align: right;\">2</td><td style = \"text-align: right;\">4</td><td style = \"text-align: right;\">0</td><td style = \"text-align: right;\">0</td><td style = \"text-align: right;\">0</td><td style = \"text-align: left;\">87,90&apos;2</td><td style = \"text-align: left;\">51,81</td><td style = \"text-align: right;\">11</td><td style = \"text-align: right;\">3</td><td style = \"text-align: right;\">1</td><td style = \"text-align: right;\">0</td><td style = \"text-align: right;\">3</td><td style = \"text-align: right;\">0</td><td style = \"text-align: right;\">0</td><td style = \"text-align: right;\">1</td><td style = \"text-align: right;\">0</td><td style = \"text-align: right;\">3</td><td style = \"text-align: right;\">21</td><td style = \"text-align: right;\">5</td><td style = \"text-align: right;\">10</td><td style = \"text-align: right;\">5</td><td style = \"text-align: right;\">11</td><td style = \"text-align: right;\">0</td><td style = \"text-align: right;\">10</td><td style = \"text-align: right;\">9</td><td style = \"text-align: right;\">74</td><td style = \"text-align: right;\">26</td><td style = \"text-align: right;\">1.8</td><td style = \"text-align: right;\">0.98</td><td style = \"text-align: right;\">2.76</td><td style = \"text-align: right;\">0.86</td><td style = \"text-align: right;\">2.97</td><td style = \"text-align: right;\">62</td><td style = \"text-align: right;\">75</td><td style = \"text-align: right;\">66</td><td style = \"text-align: right;\">39</td><td style = \"text-align: right;\">26</td><td style = \"text-align: right;\">35</td><td style = \"text-align: right;\">66</td><td style = \"text-align: right;\">49</td><td style = \"text-align: right;\">83</td><td style = \"text-align: right;\">9.27</td><td style = \"text-align: right;\">4.4</td><td style = \"text-align: right;\">1.31</td><td style = \"text-align: right;\">5.95</td><td style = \"text-align: right;\">10.0</td><td style = \"text-align: right;\">1.18</td><td style = \"text-align: right;\">1.59</td><td style = \"text-align: right;\">2.45</td><td style = \"text-align: right;\">4.45</td><td style = \"text-align: right;\">1.95</td><td style = \"text-align: right;\">1.69</td><td style = \"text-align: left;\">Old Trafford (Manchester)</td></tr><tr><td class = \"rowNumber\" style = \"font-weight: bold; text-align: right;\">13</td><td style = \"text-align: right;\">1551017100</td><td style = \"text-align: left;\">Feb 24 2019 - 2:05pm</td><td style = \"text-align: left;\">complete</td><td style = \"text-align: right;\">74519</td><td style = \"text-align: left;\">Manchester United</td><td style = \"text-align: left;\">Liverpool</td><td style = \"text-align: left;\">Michael Oliver</td><td style = \"text-align: right;\">27</td><td style = \"text-align: right;\">2.08</td><td style = \"text-align: right;\">2.31</td><td style = \"text-align: right;\">1.89</td><td style = \"text-align: right;\">2.32</td><td style = \"text-align: right;\">0</td><td style = \"text-align: right;\">0</td><td style = \"text-align: right;\">0</td><td style = \"text-align: right;\">0</td><td style = \"text-align: right;\">0</td><td style = \"text-align: right;\">0</td><td style = \"font-style: italic; text-align: left;\">missing</td><td style = \"font-style: italic; text-align: left;\">missing</td><td style = \"text-align: right;\">3</td><td style = \"text-align: right;\">7</td><td style = \"text-align: right;\">1</td><td style = \"text-align: right;\">0</td><td style = \"text-align: right;\">3</td><td style = \"text-align: right;\">0</td><td style = \"text-align: right;\">0</td><td style = \"text-align: right;\">1</td><td style = \"text-align: right;\">1</td><td style = \"text-align: right;\">2</td><td style = \"text-align: right;\">5</td><td style = \"text-align: right;\">6</td><td style = \"text-align: right;\">4</td><td style = \"text-align: right;\">2</td><td style = \"text-align: right;\">1</td><td style = \"text-align: right;\">4</td><td style = \"text-align: right;\">15</td><td style = \"text-align: right;\">17</td><td style = \"text-align: right;\">35</td><td style = \"text-align: right;\">65</td><td style = \"text-align: right;\">1.88</td><td style = \"text-align: right;\">1.52</td><td style = \"text-align: right;\">0.76</td><td style = \"text-align: right;\">1.07</td><td style = \"text-align: right;\">2.94</td><td style = \"text-align: right;\">69</td><td style = \"text-align: right;\">89</td><td style = \"text-align: right;\">65</td><td style = \"text-align: right;\">33</td><td style = \"text-align: right;\">13</td><td style = \"text-align: right;\">29</td><td style = \"text-align: right;\">72</td><td style = \"text-align: right;\">57</td><td style = \"text-align: right;\">89</td><td style = \"text-align: right;\">12.36</td><td style = \"text-align: right;\">2.83</td><td style = \"text-align: right;\">3.5</td><td style = \"text-align: right;\">3.35</td><td style = \"text-align: right;\">2.25</td><td style = \"text-align: right;\">1.24</td><td style = \"text-align: right;\">1.77</td><td style = \"text-align: right;\">2.95</td><td style = \"text-align: right;\">5.05</td><td style = \"text-align: right;\">1.62</td><td style = \"text-align: right;\">2.25</td><td style = \"text-align: left;\">Old Trafford (Manchester)</td></tr><tr><td class = \"rowNumber\" style = \"font-weight: bold; text-align: right;\">14</td><td style = \"text-align: right;\">1551538800</td><td style = \"text-align: left;\">Mar 02 2019 - 3:00pm</td><td style = \"text-align: left;\">complete</td><td style = \"text-align: right;\">74459</td><td style = \"text-align: left;\">Manchester United</td><td style = \"text-align: left;\">Southampton</td><td style = \"text-align: left;\">Stuart Attwell</td><td style = \"text-align: right;\">29</td><td style = \"text-align: right;\">2.0</td><td style = \"text-align: right;\">0.86</td><td style = \"text-align: right;\">1.89</td><td style = \"text-align: right;\">0.84</td><td style = \"text-align: right;\">3</td><td style = \"text-align: right;\">2</td><td style = \"text-align: right;\">5</td><td style = \"text-align: right;\">1</td><td style = \"text-align: right;\">0</td><td style = \"text-align: right;\">1</td><td style = \"text-align: left;\">53,59,88</td><td style = \"text-align: left;\">26,75</td><td style = \"text-align: right;\">9</td><td style = \"text-align: right;\">7</td><td style = \"text-align: right;\">2</td><td style = \"text-align: right;\">0</td><td style = \"text-align: right;\">1</td><td style = \"text-align: right;\">0</td><td style = \"text-align: right;\">0</td><td style = \"text-align: right;\">2</td><td style = \"text-align: right;\">1</td><td style = \"text-align: right;\">0</td><td style = \"text-align: right;\">16</td><td style = \"text-align: right;\">8</td><td style = \"text-align: right;\">7</td><td style = \"text-align: right;\">4</td><td style = \"text-align: right;\">9</td><td style = \"text-align: right;\">4</td><td style = \"text-align: right;\">7</td><td style = \"text-align: right;\">10</td><td style = \"text-align: right;\">64</td><td style = \"text-align: right;\">36</td><td style = \"text-align: right;\">1.79</td><td style = \"text-align: right;\">1.32</td><td style = \"text-align: right;\">1.88</td><td style = \"text-align: right;\">1.16</td><td style = \"text-align: right;\">2.93</td><td style = \"text-align: right;\">64</td><td style = \"text-align: right;\">82</td><td style = \"text-align: right;\">64</td><td style = \"text-align: right;\">38</td><td style = \"text-align: right;\">19</td><td style = \"text-align: right;\">44</td><td style = \"text-align: right;\">63</td><td style = \"text-align: right;\">56</td><td style = \"text-align: right;\">78</td><td style = \"text-align: right;\">10.59</td><td style = \"text-align: right;\">3.55</td><td style = \"text-align: right;\">1.48</td><td style = \"text-align: right;\">4.35</td><td style = \"text-align: right;\">7.25</td><td style = \"text-align: right;\">1.23</td><td style = \"text-align: right;\">1.71</td><td style = \"text-align: right;\">2.8</td><td style = \"text-align: right;\">5.2</td><td style = \"text-align: right;\">1.87</td><td style = \"text-align: right;\">1.91</td><td style = \"text-align: left;\">Old Trafford (Manchester)</td></tr><tr><td class = \"rowNumber\" style = \"font-weight: bold; text-align: right;\">15</td><td style = \"text-align: right;\">1553958000</td><td style = \"text-align: left;\">Mar 30 2019 - 3:00pm</td><td style = \"text-align: left;\">complete</td><td style = \"text-align: right;\">74543</td><td style = \"text-align: left;\">Manchester United</td><td style = \"text-align: left;\">Watford</td><td style = \"text-align: left;\">Stuart Attwell</td><td style = \"text-align: right;\">32</td><td style = \"text-align: right;\">2.07</td><td style = \"text-align: right;\">1.25</td><td style = \"text-align: right;\">1.89</td><td style = \"text-align: right;\">1.21</td><td style = \"text-align: right;\">2</td><td style = \"text-align: right;\">1</td><td style = \"text-align: right;\">3</td><td style = \"text-align: right;\">1</td><td style = \"text-align: right;\">1</td><td style = \"text-align: right;\">0</td><td style = \"text-align: left;\">28,72</td><td style = \"text-align: left;\">90</td><td style = \"text-align: right;\">3</td><td style = \"text-align: right;\">5</td><td style = \"text-align: right;\">1</td><td style = \"text-align: right;\">0</td><td style = \"text-align: right;\">2</td><td style = \"text-align: right;\">0</td><td style = \"text-align: right;\">0</td><td style = \"text-align: right;\">1</td><td style = \"text-align: right;\">1</td><td style = \"text-align: right;\">1</td><td style = \"text-align: right;\">7</td><td style = \"text-align: right;\">15</td><td style = \"text-align: right;\">6</td><td style = \"text-align: right;\">9</td><td style = \"text-align: right;\">1</td><td style = \"text-align: right;\">6</td><td style = \"text-align: right;\">14</td><td style = \"text-align: right;\">9</td><td style = \"text-align: right;\">51</td><td style = \"text-align: right;\">49</td><td style = \"text-align: right;\">1.8</td><td style = \"text-align: right;\">1.16</td><td style = \"text-align: right;\">1.23</td><td style = \"text-align: right;\">2.13</td><td style = \"text-align: right;\">3.15</td><td style = \"text-align: right;\">68</td><td style = \"text-align: right;\">87</td><td style = \"text-align: right;\">65</td><td style = \"text-align: right;\">44</td><td style = \"text-align: right;\">24</td><td style = \"text-align: right;\">34</td><td style = \"text-align: right;\">73</td><td style = \"text-align: right;\">57</td><td style = \"text-align: right;\">81</td><td style = \"text-align: right;\">11.13</td><td style = \"text-align: right;\">3.96</td><td style = \"text-align: right;\">1.44</td><td style = \"text-align: right;\">4.75</td><td style = \"text-align: right;\">7.5</td><td style = \"text-align: right;\">1.2</td><td style = \"text-align: right;\">1.62</td><td style = \"text-align: right;\">2.6</td><td style = \"text-align: right;\">4.45</td><td style = \"text-align: right;\">1.8</td><td style = \"text-align: right;\">2.0</td><td style = \"text-align: left;\">Old Trafford (Manchester)</td></tr><tr><td class = \"rowNumber\" style = \"font-weight: bold; text-align: right;\">16</td><td style = \"text-align: right;\">1555173000</td><td style = \"text-align: left;\">Apr 13 2019 - 4:30pm</td><td style = \"text-align: left;\">complete</td><td style = \"text-align: right;\">74478</td><td style = \"text-align: left;\">Manchester United</td><td style = \"text-align: left;\">West Ham United</td><td style = \"text-align: left;\">Graham Scott</td><td style = \"text-align: right;\">34</td><td style = \"text-align: right;\">2.13</td><td style = \"text-align: right;\">0.94</td><td style = \"text-align: right;\">1.89</td><td style = \"text-align: right;\">1.11</td><td style = \"text-align: right;\">2</td><td style = \"text-align: right;\">1</td><td style = \"text-align: right;\">3</td><td style = \"text-align: right;\">1</td><td style = \"text-align: right;\">1</td><td style = \"text-align: right;\">0</td><td style = \"text-align: left;\">19,80</td><td style = \"text-align: left;\">49</td><td style = \"text-align: right;\">3</td><td style = \"text-align: right;\">11</td><td style = \"text-align: right;\">1</td><td style = \"text-align: right;\">0</td><td style = \"text-align: right;\">1</td><td style = \"text-align: right;\">0</td><td style = \"text-align: right;\">1</td><td style = \"text-align: right;\">0</td><td style = \"text-align: right;\">0</td><td style = \"text-align: right;\">1</td><td style = \"text-align: right;\">10</td><td style = \"text-align: right;\">11</td><td style = \"text-align: right;\">5</td><td style = \"text-align: right;\">5</td><td style = \"text-align: right;\">5</td><td style = \"text-align: right;\">6</td><td style = \"text-align: right;\">14</td><td style = \"text-align: right;\">5</td><td style = \"text-align: right;\">42</td><td style = \"text-align: right;\">58</td><td style = \"text-align: right;\">1.76</td><td style = \"text-align: right;\">1.12</td><td style = \"text-align: right;\">1.37</td><td style = \"text-align: right;\">1.56</td><td style = \"text-align: right;\">2.86</td><td style = \"text-align: right;\">59</td><td style = \"text-align: right;\">88</td><td style = \"text-align: right;\">59</td><td style = \"text-align: right;\">33</td><td style = \"text-align: right;\">14</td><td style = \"text-align: right;\">32</td><td style = \"text-align: right;\">74</td><td style = \"text-align: right;\">53</td><td style = \"text-align: right;\">84</td><td style = \"text-align: right;\">10.08</td><td style = \"text-align: right;\">3.55</td><td style = \"text-align: right;\">1.42</td><td style = \"text-align: right;\">4.95</td><td style = \"text-align: right;\">7.75</td><td style = \"text-align: right;\">1.16</td><td style = \"text-align: right;\">1.51</td><td style = \"text-align: right;\">2.3</td><td style = \"text-align: right;\">4.0</td><td style = \"text-align: right;\">1.69</td><td style = \"text-align: right;\">2.1</td><td style = \"text-align: left;\">Old Trafford (Manchester)</td></tr><tr><td class = \"rowNumber\" style = \"font-weight: bold; text-align: right;\">17</td><td style = \"text-align: right;\">1556132400</td><td style = \"text-align: left;\">Apr 24 2019 - 7:00pm</td><td style = \"text-align: left;\">complete</td><td style = \"text-align: right;\">74431</td><td style = \"text-align: left;\">Manchester United</td><td style = \"text-align: left;\">Manchester City</td><td style = \"text-align: left;\">Andre Marriner</td><td style = \"text-align: right;\">31</td><td style = \"text-align: right;\">2.19</td><td style = \"text-align: right;\">2.19</td><td style = \"text-align: right;\">1.89</td><td style = \"text-align: right;\">2.32</td><td style = \"text-align: right;\">0</td><td style = \"text-align: right;\">2</td><td style = \"text-align: right;\">2</td><td style = \"text-align: right;\">0</td><td style = \"text-align: right;\">0</td><td style = \"text-align: right;\">0</td><td style = \"font-style: italic; text-align: left;\">missing</td><td style = \"text-align: left;\">54,66</td><td style = \"text-align: right;\">1</td><td style = \"text-align: right;\">1</td><td style = \"text-align: right;\">2</td><td style = \"text-align: right;\">0</td><td style = \"text-align: right;\">2</td><td style = \"text-align: right;\">0</td><td style = \"text-align: right;\">1</td><td style = \"text-align: right;\">1</td><td style = \"text-align: right;\">2</td><td style = \"text-align: right;\">0</td><td style = \"text-align: right;\">8</td><td style = \"text-align: right;\">9</td><td style = \"text-align: right;\">2</td><td style = \"text-align: right;\">6</td><td style = \"text-align: right;\">6</td><td style = \"text-align: right;\">3</td><td style = \"text-align: right;\">10</td><td style = \"text-align: right;\">10</td><td style = \"text-align: right;\">36</td><td style = \"text-align: right;\">64</td><td style = \"text-align: right;\">1.74</td><td style = \"text-align: right;\">1.71</td><td style = \"text-align: right;\">0.93</td><td style = \"text-align: right;\">1.36</td><td style = \"text-align: right;\">2.91</td><td style = \"text-align: right;\">60</td><td style = \"text-align: right;\">85</td><td style = \"text-align: right;\">66</td><td style = \"text-align: right;\">35</td><td style = \"text-align: right;\">16</td><td style = \"text-align: right;\">31</td><td style = \"text-align: right;\">78</td><td style = \"text-align: right;\">54</td><td style = \"text-align: right;\">82</td><td style = \"text-align: right;\">14.32</td><td style = \"text-align: right;\">3.26</td><td style = \"text-align: right;\">6.75</td><td style = \"text-align: right;\">4.7</td><td style = \"text-align: right;\">1.5</td><td style = \"text-align: right;\">1.19</td><td style = \"text-align: right;\">1.62</td><td style = \"text-align: right;\">2.55</td><td style = \"text-align: right;\">4.5</td><td style = \"text-align: right;\">1.71</td><td style = \"text-align: right;\">2.05</td><td style = \"text-align: left;\">Old Trafford (Manchester)</td></tr><tr><td class = \"rowNumber\" style = \"font-weight: bold; text-align: right;\">18</td><td style = \"text-align: right;\">1556465400</td><td style = \"text-align: left;\">Apr 28 2019 - 3:30pm</td><td style = \"text-align: left;\">complete</td><td style = \"text-align: right;\">74526</td><td style = \"text-align: left;\">Manchester United</td><td style = \"text-align: left;\">Chelsea</td><td style = \"text-align: left;\">Martin Atkinson</td><td style = \"text-align: right;\">36</td><td style = \"text-align: right;\">2.06</td><td style = \"text-align: right;\">1.65</td><td style = \"text-align: right;\">1.89</td><td style = \"text-align: right;\">1.58</td><td style = \"text-align: right;\">1</td><td style = \"text-align: right;\">1</td><td style = \"text-align: right;\">2</td><td style = \"text-align: right;\">2</td><td style = \"text-align: right;\">1</td><td style = \"text-align: right;\">1</td><td style = \"text-align: left;\">11</td><td style = \"text-align: left;\">43</td><td style = \"text-align: right;\">6</td><td style = \"text-align: right;\">6</td><td style = \"text-align: right;\">3</td><td style = \"text-align: right;\">0</td><td style = \"text-align: right;\">2</td><td style = \"text-align: right;\">0</td><td style = \"text-align: right;\">1</td><td style = \"text-align: right;\">2</td><td style = \"text-align: right;\">0</td><td style = \"text-align: right;\">2</td><td style = \"text-align: right;\">8</td><td style = \"text-align: right;\">11</td><td style = \"text-align: right;\">6</td><td style = \"text-align: right;\">4</td><td style = \"text-align: right;\">2</td><td style = \"text-align: right;\">7</td><td style = \"text-align: right;\">9</td><td style = \"text-align: right;\">14</td><td style = \"text-align: right;\">51</td><td style = \"text-align: right;\">49</td><td style = \"text-align: right;\">1.69</td><td style = \"text-align: right;\">1.52</td><td style = \"text-align: right;\">1.34</td><td style = \"text-align: right;\">1.43</td><td style = \"text-align: right;\">3.03</td><td style = \"text-align: right;\">59</td><td style = \"text-align: right;\">88</td><td style = \"text-align: right;\">74</td><td style = \"text-align: right;\">33</td><td style = \"text-align: right;\">15</td><td style = \"text-align: right;\">35</td><td style = \"text-align: right;\">65</td><td style = \"text-align: right;\">65</td><td style = \"text-align: right;\">85</td><td style = \"text-align: right;\">10.76</td><td style = \"text-align: right;\">3.18</td><td style = \"text-align: right;\">2.65</td><td style = \"text-align: right;\">3.35</td><td style = \"text-align: right;\">2.8</td><td style = \"text-align: right;\">1.29</td><td style = \"text-align: right;\">1.91</td><td style = \"text-align: right;\">3.3</td><td style = \"text-align: right;\">6.0</td><td style = \"text-align: right;\">1.71</td><td style = \"text-align: right;\">2.1</td><td style = \"text-align: left;\">Old Trafford (Manchester)</td></tr><tr><td class = \"rowNumber\" style = \"font-weight: bold; text-align: right;\">19</td><td style = \"text-align: right;\">1557669600</td><td style = \"text-align: left;\">May 12 2019 - 2:00pm</td><td style = \"text-align: left;\">complete</td><td style = \"text-align: right;\">74457</td><td style = \"text-align: left;\">Manchester United</td><td style = \"text-align: left;\">Cardiff City</td><td style = \"text-align: left;\">Jonathan Moss</td><td style = \"text-align: right;\">38</td><td style = \"text-align: right;\">2.0</td><td style = \"text-align: right;\">0.61</td><td style = \"text-align: right;\">1.89</td><td style = \"text-align: right;\">0.74</td><td style = \"text-align: right;\">0</td><td style = \"text-align: right;\">2</td><td style = \"text-align: right;\">2</td><td style = \"text-align: right;\">1</td><td style = \"text-align: right;\">0</td><td style = \"text-align: right;\">1</td><td style = \"font-style: italic; text-align: left;\">missing</td><td style = \"text-align: left;\">23,54</td><td style = \"text-align: right;\">11</td><td style = \"text-align: right;\">2</td><td style = \"text-align: right;\">3</td><td style = \"text-align: right;\">0</td><td style = \"text-align: right;\">3</td><td style = \"text-align: right;\">0</td><td style = \"text-align: right;\">1</td><td style = \"text-align: right;\">2</td><td style = \"text-align: right;\">1</td><td style = \"text-align: right;\">2</td><td style = \"text-align: right;\">21</td><td style = \"text-align: right;\">11</td><td style = \"text-align: right;\">11</td><td style = \"text-align: right;\">5</td><td style = \"text-align: right;\">10</td><td style = \"text-align: right;\">6</td><td style = \"text-align: right;\">9</td><td style = \"text-align: right;\">6</td><td style = \"text-align: right;\">73</td><td style = \"text-align: right;\">27</td><td style = \"text-align: right;\">1.67</td><td style = \"text-align: right;\">1.1</td><td style = \"text-align: right;\">2.67</td><td style = \"text-align: right;\">1.31</td><td style = \"text-align: right;\">2.72</td><td style = \"text-align: right;\">56</td><td style = \"text-align: right;\">78</td><td style = \"text-align: right;\">56</td><td style = \"text-align: right;\">31</td><td style = \"text-align: right;\">20</td><td style = \"text-align: right;\">25</td><td style = \"text-align: right;\">64</td><td style = \"text-align: right;\">53</td><td style = \"text-align: right;\">78</td><td style = \"text-align: right;\">9.77</td><td style = \"text-align: right;\">3.5</td><td style = \"text-align: right;\">1.28</td><td style = \"text-align: right;\">6.2</td><td style = \"text-align: right;\">10.0</td><td style = \"text-align: right;\">1.12</td><td style = \"text-align: right;\">1.41</td><td style = \"text-align: right;\">2.0</td><td style = \"text-align: right;\">3.6</td><td style = \"text-align: right;\">1.74</td><td style = \"text-align: right;\">2.05</td><td style = \"text-align: left;\">Old Trafford (Manchester)</td></tr></tbody></table></div><p>&vellip;</p><div><div style = \"float: left;\"><span>Last Group (5 rows): stadium_name = &quot;Tottenham Hotspur Stadium (London)&quot;</span></div><div style = \"clear: both;\"></div></div><div class = \"data-frame\" style = \"overflow-x: scroll;\"><table class = \"data-frame\" style = \"margin-bottom: 6px;\"><thead><tr class = \"header\"><th class = \"rowNumber\" style = \"font-weight: bold; text-align: right;\">Row</th><th style = \"text-align: left;\">timestamp</th><th style = \"text-align: left;\">date_GMT</th><th style = \"text-align: left;\">status</th><th style = \"text-align: left;\">attendance</th><th style = \"text-align: left;\">home_team_name</th><th style = \"text-align: left;\">away_team_name</th><th style = \"text-align: left;\">referee</th><th style = \"text-align: left;\">Game_Week</th><th style = \"text-align: left;\">Pre_Match_PPG_Home_</th><th style = \"text-align: left;\">Pre_Match_PPG_Away_</th><th style = \"text-align: left;\">home_ppg</th><th style = \"text-align: left;\">away_ppg</th><th style = \"text-align: left;\">home_team_goal_count</th><th style = \"text-align: left;\">away_team_goal_count</th><th style = \"text-align: left;\">total_goal_count</th><th style = \"text-align: left;\">total_goals_at_half_time</th><th style = \"text-align: left;\">home_team_goal_count_half_time</th><th style = \"text-align: left;\">away_team_goal_count_half_time</th><th style = \"text-align: left;\">home_team_goal_timings</th><th style = \"text-align: left;\">away_team_goal_timings</th><th style = \"text-align: left;\">home_team_corner_count</th><th style = \"text-align: left;\">away_team_corner_count</th><th style = \"text-align: left;\">home_team_yellow_cards</th><th style = \"text-align: left;\">home_team_red_cards</th><th style = \"text-align: left;\">away_team_yellow_cards</th><th style = \"text-align: left;\">away_team_red_cards</th><th style = \"text-align: left;\">home_team_first_half_cards</th><th style = \"text-align: left;\">home_team_second_half_cards</th><th style = \"text-align: left;\">away_team_first_half_cards</th><th style = \"text-align: left;\">away_team_second_half_cards</th><th style = \"text-align: left;\">home_team_shots</th><th style = \"text-align: left;\">away_team_shots</th><th style = \"text-align: left;\">home_team_shots_on_target</th><th style = \"text-align: left;\">away_team_shots_on_target</th><th style = \"text-align: left;\">home_team_shots_off_target</th><th style = \"text-align: left;\">away_team_shots_off_target</th><th style = \"text-align: left;\">home_team_fouls</th><th style = \"text-align: left;\">away_team_fouls</th><th style = \"text-align: left;\">home_team_possession</th><th style = \"text-align: left;\">away_team_possession</th><th style = \"text-align: left;\">Home_Team_Pre_Match_xG</th><th style = \"text-align: left;\">Away_Team_Pre_Match_xG</th><th style = \"text-align: left;\">team_a_xg</th><th style = \"text-align: left;\">team_b_xg</th><th style = \"text-align: left;\">average_goals_per_match_pre_match</th><th style = \"text-align: left;\">btts_percentage_pre_match</th><th style = \"text-align: left;\">over_15_percentage_pre_match</th><th style = \"text-align: left;\">over_25_percentage_pre_match</th><th style = \"text-align: left;\">over_35_percentage_pre_match</th><th style = \"text-align: left;\">over_45_percentage_pre_match</th><th style = \"text-align: left;\">over_15_HT_FHG_percentage_pre_match</th><th style = \"text-align: left;\">over_05_HT_FHG_percentage_pre_match</th><th style = \"text-align: left;\">over_15_2HG_percentage_pre_match</th><th style = \"text-align: left;\">over_05_2HG_percentage_pre_match</th><th style = \"text-align: left;\">average_corners_per_match_pre_match</th><th style = \"text-align: left;\">average_cards_per_match_pre_match</th><th style = \"text-align: left;\">odds_ft_home_team_win</th><th style = \"text-align: left;\">odds_ft_draw</th><th style = \"text-align: left;\">odds_ft_away_team_win</th><th style = \"text-align: left;\">odds_ft_over15</th><th style = \"text-align: left;\">odds_ft_over25</th><th style = \"text-align: left;\">odds_ft_over35</th><th style = \"text-align: left;\">odds_ft_over45</th><th style = \"text-align: left;\">odds_btts_yes</th><th style = \"text-align: left;\">odds_btts_no</th><th style = \"text-align: left;\">stadium_name</th></tr><tr class = \"subheader headerLastRow\"><th class = \"rowNumber\" style = \"font-weight: bold; text-align: right;\"></th><th title = \"Int64\" style = \"text-align: left;\">Int64</th><th title = \"String31\" style = \"text-align: left;\">String31</th><th title = \"String15\" style = \"text-align: left;\">String15</th><th title = \"Int64\" style = \"text-align: left;\">Int64</th><th title = \"String31\" style = \"text-align: left;\">String31</th><th title = \"String31\" style = \"text-align: left;\">String31</th><th title = \"String15\" style = \"text-align: left;\">String15</th><th title = \"Int64\" style = \"text-align: left;\">Int64</th><th title = \"Float64\" style = \"text-align: left;\">Float64</th><th title = \"Float64\" style = \"text-align: left;\">Float64</th><th title = \"Float64\" style = \"text-align: left;\">Float64</th><th title = \"Float64\" style = \"text-align: left;\">Float64</th><th title = \"Int64\" style = \"text-align: left;\">Int64</th><th title = \"Int64\" style = \"text-align: left;\">Int64</th><th title = \"Int64\" style = \"text-align: left;\">Int64</th><th title = \"Int64\" style = \"text-align: left;\">Int64</th><th title = \"Int64\" style = \"text-align: left;\">Int64</th><th title = \"Int64\" style = \"text-align: left;\">Int64</th><th title = \"Union{Missing, String31}\" style = \"text-align: left;\">String31?</th><th title = \"Union{Missing, String31}\" style = \"text-align: left;\">String31?</th><th title = \"Int64\" style = \"text-align: left;\">Int64</th><th title = \"Int64\" style = \"text-align: left;\">Int64</th><th title = \"Int64\" style = \"text-align: left;\">Int64</th><th title = \"Int64\" style = \"text-align: left;\">Int64</th><th title = \"Int64\" style = \"text-align: left;\">Int64</th><th title = \"Int64\" style = \"text-align: left;\">Int64</th><th title = \"Int64\" style = \"text-align: left;\">Int64</th><th title = \"Int64\" style = \"text-align: left;\">Int64</th><th title = \"Int64\" style = \"text-align: left;\">Int64</th><th title = \"Int64\" style = \"text-align: left;\">Int64</th><th title = \"Int64\" style = \"text-align: left;\">Int64</th><th title = \"Int64\" style = \"text-align: left;\">Int64</th><th title = \"Int64\" style = \"text-align: left;\">Int64</th><th title = \"Int64\" style = \"text-align: left;\">Int64</th><th title = \"Int64\" style = \"text-align: left;\">Int64</th><th title = \"Int64\" style = \"text-align: left;\">Int64</th><th title = \"Int64\" style = \"text-align: left;\">Int64</th><th title = \"Int64\" style = \"text-align: left;\">Int64</th><th title = \"Int64\" style = \"text-align: left;\">Int64</th><th title = \"Int64\" style = \"text-align: left;\">Int64</th><th title = \"Float64\" style = \"text-align: left;\">Float64</th><th title = \"Float64\" style = \"text-align: left;\">Float64</th><th title = \"Float64\" style = \"text-align: left;\">Float64</th><th title = \"Float64\" style = \"text-align: left;\">Float64</th><th title = \"Float64\" style = \"text-align: left;\">Float64</th><th title = \"Int64\" style = \"text-align: left;\">Int64</th><th title = \"Int64\" style = \"text-align: left;\">Int64</th><th title = \"Int64\" style = \"text-align: left;\">Int64</th><th title = \"Int64\" style = \"text-align: left;\">Int64</th><th title = \"Int64\" style = \"text-align: left;\">Int64</th><th title = \"Int64\" style = \"text-align: left;\">Int64</th><th title = \"Int64\" style = \"text-align: left;\">Int64</th><th title = \"Int64\" style = \"text-align: left;\">Int64</th><th title = \"Int64\" style = \"text-align: left;\">Int64</th><th title = \"Float64\" style = \"text-align: left;\">Float64</th><th title = \"Float64\" style = \"text-align: left;\">Float64</th><th title = \"Float64\" style = \"text-align: left;\">Float64</th><th title = \"Float64\" style = \"text-align: left;\">Float64</th><th title = \"Float64\" style = \"text-align: left;\">Float64</th><th title = \"Float64\" style = \"text-align: left;\">Float64</th><th title = \"Float64\" style = \"text-align: left;\">Float64</th><th title = \"Float64\" style = \"text-align: left;\">Float64</th><th title = \"Float64\" style = \"text-align: left;\">Float64</th><th title = \"Float64\" style = \"text-align: left;\">Float64</th><th title = \"Float64\" style = \"text-align: left;\">Float64</th><th title = \"String\" style = \"text-align: left;\">String</th></tr></thead><tbody><tr><td class = \"rowNumber\" style = \"font-weight: bold; text-align: right;\">1</td><td style = \"text-align: right;\">1554317100</td><td style = \"text-align: left;\">Apr 03 2019 - 6:45pm</td><td style = \"text-align: left;\">complete</td><td style = \"text-align: right;\">59215</td><td style = \"text-align: left;\">Tottenham Hotspur</td><td style = \"text-align: left;\">Crystal Palace</td><td style = \"text-align: left;\">Andre Marriner</td><td style = \"text-align: right;\">31</td><td style = \"text-align: right;\">2.0</td><td style = \"text-align: right;\">1.33</td><td style = \"text-align: right;\">2.0</td><td style = \"text-align: right;\">1.53</td><td style = \"text-align: right;\">2</td><td style = \"text-align: right;\">0</td><td style = \"text-align: right;\">2</td><td style = \"text-align: right;\">0</td><td style = \"text-align: right;\">0</td><td style = \"text-align: right;\">0</td><td style = \"text-align: left;\">55,80</td><td style = \"font-style: italic; text-align: left;\">missing</td><td style = \"text-align: right;\">8</td><td style = \"text-align: right;\">2</td><td style = \"text-align: right;\">1</td><td style = \"text-align: right;\">0</td><td style = \"text-align: right;\">0</td><td style = \"text-align: right;\">0</td><td style = \"text-align: right;\">1</td><td style = \"text-align: right;\">0</td><td style = \"text-align: right;\">0</td><td style = \"text-align: right;\">0</td><td style = \"text-align: right;\">20</td><td style = \"text-align: right;\">6</td><td style = \"text-align: right;\">11</td><td style = \"text-align: right;\">2</td><td style = \"text-align: right;\">9</td><td style = \"text-align: right;\">4</td><td style = \"text-align: right;\">8</td><td style = \"text-align: right;\">5</td><td style = \"text-align: right;\">65</td><td style = \"text-align: right;\">35</td><td style = \"text-align: right;\">1.62</td><td style = \"text-align: right;\">1.2</td><td style = \"text-align: right;\">2.71</td><td style = \"text-align: right;\">0.71</td><td style = \"text-align: right;\">2.99</td><td style = \"text-align: right;\">62</td><td style = \"text-align: right;\">76</td><td style = \"text-align: right;\">59</td><td style = \"text-align: right;\">45</td><td style = \"text-align: right;\">17</td><td style = \"text-align: right;\">14</td><td style = \"text-align: right;\">80</td><td style = \"text-align: right;\">62</td><td style = \"text-align: right;\">83</td><td style = \"text-align: right;\">9.43</td><td style = \"text-align: right;\">3.34</td><td style = \"text-align: right;\">1.5</td><td style = \"text-align: right;\">4.45</td><td style = \"text-align: right;\">6.95</td><td style = \"text-align: right;\">1.2</td><td style = \"text-align: right;\">1.62</td><td style = \"text-align: right;\">2.6</td><td style = \"text-align: right;\">4.5</td><td style = \"text-align: right;\">1.74</td><td style = \"text-align: right;\">2.05</td><td style = \"text-align: left;\">Tottenham Hotspur Stadium (London)</td></tr><tr><td class = \"rowNumber\" style = \"font-weight: bold; text-align: right;\">2</td><td style = \"text-align: right;\">1555155000</td><td style = \"text-align: left;\">Apr 13 2019 - 11:30am</td><td style = \"text-align: left;\">complete</td><td style = \"text-align: right;\">58308</td><td style = \"text-align: left;\">Tottenham Hotspur</td><td style = \"text-align: left;\">Huddersfield Town</td><td style = \"text-align: left;\">Lee Mason</td><td style = \"text-align: right;\">34</td><td style = \"text-align: right;\">2.07</td><td style = \"text-align: right;\">0.38</td><td style = \"text-align: right;\">2.0</td><td style = \"text-align: right;\">0.37</td><td style = \"text-align: right;\">4</td><td style = \"text-align: right;\">0</td><td style = \"text-align: right;\">4</td><td style = \"text-align: right;\">2</td><td style = \"text-align: right;\">2</td><td style = \"text-align: right;\">0</td><td style = \"text-align: left;\">24,27,87,90&apos;3</td><td style = \"font-style: italic; text-align: left;\">missing</td><td style = \"text-align: right;\">4</td><td style = \"text-align: right;\">2</td><td style = \"text-align: right;\">2</td><td style = \"text-align: right;\">0</td><td style = \"text-align: right;\">2</td><td style = \"text-align: right;\">0</td><td style = \"text-align: right;\">0</td><td style = \"text-align: right;\">2</td><td style = \"text-align: right;\">1</td><td style = \"text-align: right;\">1</td><td style = \"text-align: right;\">14</td><td style = \"text-align: right;\">7</td><td style = \"text-align: right;\">6</td><td style = \"text-align: right;\">2</td><td style = \"text-align: right;\">8</td><td style = \"text-align: right;\">5</td><td style = \"text-align: right;\">10</td><td style = \"text-align: right;\">12</td><td style = \"text-align: right;\">70</td><td style = \"text-align: right;\">30</td><td style = \"text-align: right;\">1.7</td><td style = \"text-align: right;\">1.16</td><td style = \"text-align: right;\">1.69</td><td style = \"text-align: right;\">0.83</td><td style = \"text-align: right;\">2.78</td><td style = \"text-align: right;\">49</td><td style = \"text-align: right;\">71</td><td style = \"text-align: right;\">49</td><td style = \"text-align: right;\">36</td><td style = \"text-align: right;\">13</td><td style = \"text-align: right;\">29</td><td style = \"text-align: right;\">72</td><td style = \"text-align: right;\">52</td><td style = \"text-align: right;\">81</td><td style = \"text-align: right;\">9.78</td><td style = \"text-align: right;\">2.89</td><td style = \"text-align: right;\">1.24</td><td style = \"text-align: right;\">6.3</td><td style = \"text-align: right;\">15.5</td><td style = \"text-align: right;\">1.2</td><td style = \"text-align: right;\">1.65</td><td style = \"text-align: right;\">2.6</td><td style = \"text-align: right;\">5.0</td><td style = \"text-align: right;\">2.2</td><td style = \"text-align: right;\">1.65</td><td style = \"text-align: left;\">Tottenham Hotspur Stadium (London)</td></tr><tr><td class = \"rowNumber\" style = \"font-weight: bold; text-align: right;\">3</td><td style = \"text-align: right;\">1556045100</td><td style = \"text-align: left;\">Apr 23 2019 - 6:45pm</td><td style = \"text-align: left;\">complete</td><td style = \"text-align: right;\">56251</td><td style = \"text-align: left;\">Tottenham Hotspur</td><td style = \"text-align: left;\">Brighton &amp; Hove Albion</td><td style = \"text-align: left;\">Chris Kavanagh</td><td style = \"text-align: right;\">33</td><td style = \"text-align: right;\">2.13</td><td style = \"text-align: right;\">0.71</td><td style = \"text-align: right;\">2.0</td><td style = \"text-align: right;\">0.68</td><td style = \"text-align: right;\">1</td><td style = \"text-align: right;\">0</td><td style = \"text-align: right;\">1</td><td style = \"text-align: right;\">0</td><td style = \"text-align: right;\">0</td><td style = \"text-align: right;\">0</td><td style = \"text-align: left;\">88</td><td style = \"font-style: italic; text-align: left;\">missing</td><td style = \"text-align: right;\">6</td><td style = \"text-align: right;\">3</td><td style = \"text-align: right;\">1</td><td style = \"text-align: right;\">0</td><td style = \"text-align: right;\">2</td><td style = \"text-align: right;\">0</td><td style = \"text-align: right;\">0</td><td style = \"text-align: right;\">1</td><td style = \"text-align: right;\">1</td><td style = \"text-align: right;\">1</td><td style = \"text-align: right;\">18</td><td style = \"text-align: right;\">6</td><td style = \"text-align: right;\">6</td><td style = \"text-align: right;\">2</td><td style = \"text-align: right;\">12</td><td style = \"text-align: right;\">4</td><td style = \"text-align: right;\">7</td><td style = \"text-align: right;\">13</td><td style = \"text-align: right;\">78</td><td style = \"text-align: right;\">22</td><td style = \"text-align: right;\">1.7</td><td style = \"text-align: right;\">1.02</td><td style = \"text-align: right;\">2.33</td><td style = \"text-align: right;\">0.69</td><td style = \"text-align: right;\">2.7</td><td style = \"text-align: right;\">52</td><td style = \"text-align: right;\">73</td><td style = \"text-align: right;\">58</td><td style = \"text-align: right;\">34</td><td style = \"text-align: right;\">6</td><td style = \"text-align: right;\">24</td><td style = \"text-align: right;\">85</td><td style = \"text-align: right;\">52</td><td style = \"text-align: right;\">79</td><td style = \"text-align: right;\">8.97</td><td style = \"text-align: right;\">3.01</td><td style = \"text-align: right;\">1.29</td><td style = \"text-align: right;\">5.7</td><td style = \"text-align: right;\">13.5</td><td style = \"text-align: right;\">1.22</td><td style = \"text-align: right;\">1.71</td><td style = \"text-align: right;\">2.8</td><td style = \"text-align: right;\">5.15</td><td style = \"text-align: right;\">2.2</td><td style = \"text-align: right;\">1.62</td><td style = \"text-align: left;\">Tottenham Hotspur Stadium (London)</td></tr><tr><td class = \"rowNumber\" style = \"font-weight: bold; text-align: right;\">4</td><td style = \"text-align: right;\">1556364600</td><td style = \"text-align: left;\">Apr 27 2019 - 11:30am</td><td style = \"text-align: left;\">complete</td><td style = \"text-align: right;\">60043</td><td style = \"text-align: left;\">Tottenham Hotspur</td><td style = \"text-align: left;\">West Ham United</td><td style = \"text-align: left;\">Anthony Taylor</td><td style = \"text-align: right;\">36</td><td style = \"text-align: right;\">2.18</td><td style = \"text-align: right;\">0.88</td><td style = \"text-align: right;\">2.0</td><td style = \"text-align: right;\">1.11</td><td style = \"text-align: right;\">0</td><td style = \"text-align: right;\">1</td><td style = \"text-align: right;\">1</td><td style = \"text-align: right;\">0</td><td style = \"text-align: right;\">0</td><td style = \"text-align: right;\">0</td><td style = \"font-style: italic; text-align: left;\">missing</td><td style = \"text-align: left;\">67</td><td style = \"text-align: right;\">2</td><td style = \"text-align: right;\">7</td><td style = \"text-align: right;\">0</td><td style = \"text-align: right;\">0</td><td style = \"text-align: right;\">2</td><td style = \"text-align: right;\">0</td><td style = \"text-align: right;\">0</td><td style = \"text-align: right;\">0</td><td style = \"text-align: right;\">1</td><td style = \"text-align: right;\">1</td><td style = \"text-align: right;\">9</td><td style = \"text-align: right;\">13</td><td style = \"text-align: right;\">5</td><td style = \"text-align: right;\">8</td><td style = \"text-align: right;\">4</td><td style = \"text-align: right;\">5</td><td style = \"text-align: right;\">3</td><td style = \"text-align: right;\">8</td><td style = \"text-align: right;\">63</td><td style = \"text-align: right;\">37</td><td style = \"text-align: right;\">1.73</td><td style = \"text-align: right;\">1.14</td><td style = \"text-align: right;\">1.39</td><td style = \"text-align: right;\">1.74</td><td style = \"text-align: right;\">2.56</td><td style = \"text-align: right;\">44</td><td style = \"text-align: right;\">77</td><td style = \"text-align: right;\">47</td><td style = \"text-align: right;\">30</td><td style = \"text-align: right;\">3</td><td style = \"text-align: right;\">24</td><td style = \"text-align: right;\">76</td><td style = \"text-align: right;\">50</td><td style = \"text-align: right;\">82</td><td style = \"text-align: right;\">9.65</td><td style = \"text-align: right;\">3.06</td><td style = \"text-align: right;\">1.42</td><td style = \"text-align: right;\">5.15</td><td style = \"text-align: right;\">7.5</td><td style = \"text-align: right;\">1.17</td><td style = \"text-align: right;\">1.56</td><td style = \"text-align: right;\">2.4</td><td style = \"text-align: right;\">4.0</td><td style = \"text-align: right;\">1.77</td><td style = \"text-align: right;\">2.0</td><td style = \"text-align: left;\">Tottenham Hotspur Stadium (London)</td></tr><tr><td class = \"rowNumber\" style = \"font-weight: bold; text-align: right;\">5</td><td style = \"text-align: right;\">1557669600</td><td style = \"text-align: left;\">May 12 2019 - 2:00pm</td><td style = \"text-align: left;\">complete</td><td style = \"text-align: right;\">60124</td><td style = \"text-align: left;\">Tottenham Hotspur</td><td style = \"text-align: left;\">Everton</td><td style = \"text-align: left;\">Andre Marriner</td><td style = \"text-align: right;\">38</td><td style = \"text-align: right;\">2.06</td><td style = \"text-align: right;\">1.06</td><td style = \"text-align: right;\">2.0</td><td style = \"text-align: right;\">1.05</td><td style = \"text-align: right;\">2</td><td style = \"text-align: right;\">2</td><td style = \"text-align: right;\">4</td><td style = \"text-align: right;\">1</td><td style = \"text-align: right;\">1</td><td style = \"text-align: right;\">0</td><td style = \"text-align: left;\">3,75</td><td style = \"text-align: left;\">69,72</td><td style = \"text-align: right;\">7</td><td style = \"text-align: right;\">4</td><td style = \"text-align: right;\">0</td><td style = \"text-align: right;\">0</td><td style = \"text-align: right;\">2</td><td style = \"text-align: right;\">0</td><td style = \"text-align: right;\">0</td><td style = \"text-align: right;\">0</td><td style = \"text-align: right;\">0</td><td style = \"text-align: right;\">2</td><td style = \"text-align: right;\">9</td><td style = \"text-align: right;\">13</td><td style = \"text-align: right;\">4</td><td style = \"text-align: right;\">10</td><td style = \"text-align: right;\">5</td><td style = \"text-align: right;\">3</td><td style = \"text-align: right;\">10</td><td style = \"text-align: right;\">13</td><td style = \"text-align: right;\">55</td><td style = \"text-align: right;\">45</td><td style = \"text-align: right;\">1.71</td><td style = \"text-align: right;\">1.32</td><td style = \"text-align: right;\">1.23</td><td style = \"text-align: right;\">1.8</td><td style = \"text-align: right;\">2.53</td><td style = \"text-align: right;\">44</td><td style = \"text-align: right;\">64</td><td style = \"text-align: right;\">50</td><td style = \"text-align: right;\">34</td><td style = \"text-align: right;\">9</td><td style = \"text-align: right;\">23</td><td style = \"text-align: right;\">61</td><td style = \"text-align: right;\">56</td><td style = \"text-align: right;\">81</td><td style = \"text-align: right;\">10.39</td><td style = \"text-align: right;\">3.23</td><td style = \"text-align: right;\">2.1</td><td style = \"text-align: right;\">3.5</td><td style = \"text-align: right;\">3.55</td><td style = \"text-align: right;\">1.22</td><td style = \"text-align: right;\">1.71</td><td style = \"text-align: right;\">2.8</td><td style = \"text-align: right;\">6.0</td><td style = \"text-align: right;\">1.59</td><td style = \"text-align: right;\">2.3</td><td style = \"text-align: left;\">Tottenham Hotspur Stadium (London)</td></tr></tbody></table></div>"
      ],
      "text/latex": [
       "GroupedDataFrame with 21 groups based on key: stadium\\_name\n",
       "\n",
       "First Group (19 rows): stadium\\_name = \"Old Trafford (Manchester)\"\n",
       "\n",
       "\\begin{tabular}{r|ccccccc}\n",
       "\t& timestamp & date\\_GMT & status & attendance & home\\_team\\_name & away\\_team\\_name & \\\\\n",
       "\t\\hline\n",
       "\t& Int64 & String31 & String15 & Int64 & String31 & String31 & \\\\\n",
       "\t\\hline\n",
       "\t1 & 1533927600 & Aug 10 2018 - 7:00pm & complete & 74439 & Manchester United & Leicester City & $\\dots$ \\\\\n",
       "\t2 & 1535396400 & Aug 27 2018 - 7:00pm & complete & 74400 & Manchester United & Tottenham Hotspur & $\\dots$ \\\\\n",
       "\t3 & 1537624800 & Sep 22 2018 - 2:00pm & complete & 74489 & Manchester United & Wolverhampton Wanderers & $\\dots$ \\\\\n",
       "\t4 & 1538843400 & Oct 06 2018 - 4:30pm & complete & 74519 & Manchester United & Newcastle United & $\\dots$ \\\\\n",
       "\t5 & 1540742400 & Oct 28 2018 - 4:00pm & complete & 74525 & Manchester United & Everton & $\\dots$ \\\\\n",
       "\t6 & 1543071600 & Nov 24 2018 - 3:00pm & complete & 74516 & Manchester United & Crystal Palace & $\\dots$ \\\\\n",
       "\t7 & 1544040000 & Dec 05 2018 - 8:00pm & complete & 74507 & Manchester United & Arsenal & $\\dots$ \\\\\n",
       "\t8 & 1544281200 & Dec 08 2018 - 3:00pm & complete & 74523 & Manchester United & Fulham & $\\dots$ \\\\\n",
       "\t9 & 1545836400 & Dec 26 2018 - 3:00pm & complete & 74523 & Manchester United & Huddersfield Town & $\\dots$ \\\\\n",
       "\t10 & 1546187400 & Dec 30 2018 - 4:30pm & complete & 74556 & Manchester United & AFC Bournemouth & $\\dots$ \\\\\n",
       "\t11 & 1547910000 & Jan 19 2019 - 3:00pm & complete & 74532 & Manchester United & Brighton \\& Hove Albion & $\\dots$ \\\\\n",
       "\t12 & 1548792000 & Jan 29 2019 - 8:00pm & complete & 74529 & Manchester United & Burnley & $\\dots$ \\\\\n",
       "\t13 & 1551017100 & Feb 24 2019 - 2:05pm & complete & 74519 & Manchester United & Liverpool & $\\dots$ \\\\\n",
       "\t14 & 1551538800 & Mar 02 2019 - 3:00pm & complete & 74459 & Manchester United & Southampton & $\\dots$ \\\\\n",
       "\t15 & 1553958000 & Mar 30 2019 - 3:00pm & complete & 74543 & Manchester United & Watford & $\\dots$ \\\\\n",
       "\t16 & 1555173000 & Apr 13 2019 - 4:30pm & complete & 74478 & Manchester United & West Ham United & $\\dots$ \\\\\n",
       "\t17 & 1556132400 & Apr 24 2019 - 7:00pm & complete & 74431 & Manchester United & Manchester City & $\\dots$ \\\\\n",
       "\t18 & 1556465400 & Apr 28 2019 - 3:30pm & complete & 74526 & Manchester United & Chelsea & $\\dots$ \\\\\n",
       "\t19 & 1557669600 & May 12 2019 - 2:00pm & complete & 74457 & Manchester United & Cardiff City & $\\dots$ \\\\\n",
       "\\end{tabular}\n",
       "\n",
       "$\\dots$\n",
       "\n",
       "Last Group (5 rows): stadium\\_name = \"Tottenham Hotspur Stadium (London)\"\n",
       "\n",
       "\\begin{tabular}{r|ccccccc}\n",
       "\t& timestamp & date\\_GMT & status & attendance & home\\_team\\_name & away\\_team\\_name & \\\\\n",
       "\t\\hline\n",
       "\t& Int64 & String31 & String15 & Int64 & String31 & String31 & \\\\\n",
       "\t\\hline\n",
       "\t1 & 1554317100 & Apr 03 2019 - 6:45pm & complete & 59215 & Tottenham Hotspur & Crystal Palace & $\\dots$ \\\\\n",
       "\t2 & 1555155000 & Apr 13 2019 - 11:30am & complete & 58308 & Tottenham Hotspur & Huddersfield Town & $\\dots$ \\\\\n",
       "\t3 & 1556045100 & Apr 23 2019 - 6:45pm & complete & 56251 & Tottenham Hotspur & Brighton \\& Hove Albion & $\\dots$ \\\\\n",
       "\t4 & 1556364600 & Apr 27 2019 - 11:30am & complete & 60043 & Tottenham Hotspur & West Ham United & $\\dots$ \\\\\n",
       "\t5 & 1557669600 & May 12 2019 - 2:00pm & complete & 60124 & Tottenham Hotspur & Everton & $\\dots$ \\\\\n",
       "\\end{tabular}\n"
      ],
      "text/plain": [
       "GroupedDataFrame with 21 groups based on key: stadium_name\n",
       "First Group (19 rows): stadium_name = \"Old Trafford (Manchester)\"\n",
       "\u001b[1m Row \u001b[0m│\u001b[1m timestamp  \u001b[0m\u001b[1m date_GMT             \u001b[0m\u001b[1m status   \u001b[0m\u001b[1m attendance \u001b[0m\u001b[1m home_team_name \u001b[0m ⋯\n",
       "     │\u001b[90m Int64      \u001b[0m\u001b[90m String31             \u001b[0m\u001b[90m String15 \u001b[0m\u001b[90m Int64      \u001b[0m\u001b[90m String31       \u001b[0m ⋯\n",
       "─────┼──────────────────────────────────────────────────────────────────────────\n",
       "   1 │ 1533927600  Aug 10 2018 - 7:00pm  complete       74439  Manchester Unit ⋯\n",
       "   2 │ 1535396400  Aug 27 2018 - 7:00pm  complete       74400  Manchester Unit\n",
       "   3 │ 1537624800  Sep 22 2018 - 2:00pm  complete       74489  Manchester Unit\n",
       "   4 │ 1538843400  Oct 06 2018 - 4:30pm  complete       74519  Manchester Unit\n",
       "   5 │ 1540742400  Oct 28 2018 - 4:00pm  complete       74525  Manchester Unit ⋯\n",
       "  ⋮  │     ⋮                ⋮               ⋮          ⋮               ⋮       ⋱\n",
       "  15 │ 1553958000  Mar 30 2019 - 3:00pm  complete       74543  Manchester Unit\n",
       "  16 │ 1555173000  Apr 13 2019 - 4:30pm  complete       74478  Manchester Unit\n",
       "  17 │ 1556132400  Apr 24 2019 - 7:00pm  complete       74431  Manchester Unit\n",
       "  18 │ 1556465400  Apr 28 2019 - 3:30pm  complete       74526  Manchester Unit ⋯\n",
       "  19 │ 1557669600  May 12 2019 - 2:00pm  complete       74457  Manchester Unit\n",
       "\u001b[36m                                                   62 columns and 9 rows omitted\u001b[0m\n",
       "⋮\n",
       "Last Group (5 rows): stadium_name = \"Tottenham Hotspur Stadium (London)\"\n",
       "\u001b[1m Row \u001b[0m│\u001b[1m timestamp  \u001b[0m\u001b[1m date_GMT              \u001b[0m\u001b[1m status   \u001b[0m\u001b[1m attendance \u001b[0m\u001b[1m home_team_name\u001b[0m ⋯\n",
       "     │\u001b[90m Int64      \u001b[0m\u001b[90m String31              \u001b[0m\u001b[90m String15 \u001b[0m\u001b[90m Int64      \u001b[0m\u001b[90m String31      \u001b[0m ⋯\n",
       "─────┼──────────────────────────────────────────────────────────────────────────\n",
       "   1 │ 1554317100  Apr 03 2019 - 6:45pm   complete       59215  Tottenham Hots ⋯\n",
       "   2 │ 1555155000  Apr 13 2019 - 11:30am  complete       58308  Tottenham Hots\n",
       "  ⋮  │     ⋮                 ⋮               ⋮          ⋮               ⋮      ⋱\n",
       "   5 │ 1557669600  May 12 2019 - 2:00pm   complete       60124  Tottenham Hots\n",
       "\u001b[36m                                                   62 columns and 2 rows omitted\u001b[0m"
      ]
     },
     "execution_count": 48,
     "metadata": {},
     "output_type": "execute_result"
    }
   ],
   "source": [
    "df_group = groupby(team_df, [\"stadium_name\"])"
   ]
  },
  {
   "cell_type": "code",
   "execution_count": 49,
   "id": "38f8ecb2-35d6-45f3-a3b2-a80717d6887f",
   "metadata": {},
   "outputs": [
    {
     "data": {
      "text/html": [
       "<div><div style = \"float: left;\"><span>21×3 DataFrame</span></div><div style = \"clear: both;\"></div></div><div class = \"data-frame\" style = \"overflow-x: scroll;\"><table class = \"data-frame\" style = \"margin-bottom: 6px;\"><thead><tr class = \"header\"><th class = \"rowNumber\" style = \"font-weight: bold; text-align: right;\">Row</th><th style = \"text-align: left;\">stadium_name</th><th style = \"text-align: left;\">home_team_goal_count_sum</th><th style = \"text-align: left;\">away_team_goal_count_sum</th></tr><tr class = \"subheader headerLastRow\"><th class = \"rowNumber\" style = \"font-weight: bold; text-align: right;\"></th><th title = \"String\" style = \"text-align: left;\">String</th><th title = \"Int64\" style = \"text-align: left;\">Int64</th><th title = \"Int64\" style = \"text-align: left;\">Int64</th></tr></thead><tbody><tr><td class = \"rowNumber\" style = \"font-weight: bold; text-align: right;\">1</td><td style = \"text-align: left;\">Old Trafford (Manchester)</td><td style = \"text-align: right;\">33</td><td style = \"text-align: right;\">25</td></tr><tr><td class = \"rowNumber\" style = \"font-weight: bold; text-align: right;\">2</td><td style = \"text-align: left;\">St. James&apos; Park (Newcastle upon Tyne)</td><td style = \"text-align: right;\">24</td><td style = \"text-align: right;\">25</td></tr><tr><td class = \"rowNumber\" style = \"font-weight: bold; text-align: right;\">3</td><td style = \"text-align: left;\">Vitality Stadium (Bournemouth- Dorset)</td><td style = \"text-align: right;\">30</td><td style = \"text-align: right;\">25</td></tr><tr><td class = \"rowNumber\" style = \"font-weight: bold; text-align: right;\">4</td><td style = \"text-align: left;\">Craven Cottage (London)</td><td style = \"text-align: right;\">22</td><td style = \"text-align: right;\">36</td></tr><tr><td class = \"rowNumber\" style = \"font-weight: bold; text-align: right;\">5</td><td style = \"text-align: left;\">John Smith&apos;s Stadium (Huddersfield- West Yorkshire)</td><td style = \"text-align: right;\">10</td><td style = \"text-align: right;\">31</td></tr><tr><td class = \"rowNumber\" style = \"font-weight: bold; text-align: right;\">6</td><td style = \"text-align: left;\">Vicarage Road (Watford)</td><td style = \"text-align: right;\">26</td><td style = \"text-align: right;\">28</td></tr><tr><td class = \"rowNumber\" style = \"font-weight: bold; text-align: right;\">7</td><td style = \"text-align: left;\">Molineux Stadium (Wolverhampton- West Midlands)</td><td style = \"text-align: right;\">28</td><td style = \"text-align: right;\">21</td></tr><tr><td class = \"rowNumber\" style = \"font-weight: bold; text-align: right;\">8</td><td style = \"text-align: left;\">Anfield (Liverpool)</td><td style = \"text-align: right;\">55</td><td style = \"text-align: right;\">10</td></tr><tr><td class = \"rowNumber\" style = \"font-weight: bold; text-align: right;\">9</td><td style = \"text-align: left;\">St. Mary&apos;s Stadium (Southampton- Hampshire)</td><td style = \"text-align: right;\">27</td><td style = \"text-align: right;\">30</td></tr><tr><td class = \"rowNumber\" style = \"font-weight: bold; text-align: right;\">10</td><td style = \"text-align: left;\">Emirates Stadium (London)</td><td style = \"text-align: right;\">42</td><td style = \"text-align: right;\">16</td></tr><tr><td class = \"rowNumber\" style = \"font-weight: bold; text-align: right;\">11</td><td style = \"text-align: left;\">Cardiff City Stadium (Cardiff (Caerdydd))</td><td style = \"text-align: right;\">21</td><td style = \"text-align: right;\">38</td></tr><tr><td class = \"rowNumber\" style = \"font-weight: bold; text-align: right;\">12</td><td style = \"text-align: left;\">Goodison Park (Liverpool)</td><td style = \"text-align: right;\">30</td><td style = \"text-align: right;\">21</td></tr><tr><td class = \"rowNumber\" style = \"font-weight: bold; text-align: right;\">13</td><td style = \"text-align: left;\">King Power Stadium (Leicester- Leicestershire)</td><td style = \"text-align: right;\">24</td><td style = \"text-align: right;\">20</td></tr><tr><td class = \"rowNumber\" style = \"font-weight: bold; text-align: right;\">14</td><td style = \"text-align: left;\">Wembley Stadium (London)</td><td style = \"text-align: right;\">25</td><td style = \"text-align: right;\">13</td></tr><tr><td class = \"rowNumber\" style = \"font-weight: bold; text-align: right;\">15</td><td style = \"text-align: left;\">London Stadium (London)</td><td style = \"text-align: right;\">32</td><td style = \"text-align: right;\">27</td></tr><tr><td class = \"rowNumber\" style = \"font-weight: bold; text-align: right;\">16</td><td style = \"text-align: left;\">Stamford Bridge (London)</td><td style = \"text-align: right;\">39</td><td style = \"text-align: right;\">12</td></tr><tr><td class = \"rowNumber\" style = \"font-weight: bold; text-align: right;\">17</td><td style = \"text-align: left;\">Turf Moor (Burnley)</td><td style = \"text-align: right;\">24</td><td style = \"text-align: right;\">32</td></tr><tr><td class = \"rowNumber\" style = \"font-weight: bold; text-align: right;\">18</td><td style = \"text-align: left;\">Etihad Stadium (Manchester)</td><td style = \"text-align: right;\">57</td><td style = \"text-align: right;\">12</td></tr><tr><td class = \"rowNumber\" style = \"font-weight: bold; text-align: right;\">19</td><td style = \"text-align: left;\">The American Express Community Stadium (Falmer- East Sussex)</td><td style = \"text-align: right;\">19</td><td style = \"text-align: right;\">28</td></tr><tr><td class = \"rowNumber\" style = \"font-weight: bold; text-align: right;\">20</td><td style = \"text-align: left;\">Selhurst Park (London)</td><td style = \"text-align: right;\">19</td><td style = \"text-align: right;\">23</td></tr><tr><td class = \"rowNumber\" style = \"font-weight: bold; text-align: right;\">21</td><td style = \"text-align: left;\">Tottenham Hotspur Stadium (London)</td><td style = \"text-align: right;\">9</td><td style = \"text-align: right;\">3</td></tr></tbody></table></div>"
      ],
      "text/latex": [
       "\\begin{tabular}{r|ccc}\n",
       "\t& stadium\\_name & home\\_team\\_goal\\_count\\_sum & \\\\\n",
       "\t\\hline\n",
       "\t& String & Int64 & \\\\\n",
       "\t\\hline\n",
       "\t1 & Old Trafford (Manchester) & 33 & $\\dots$ \\\\\n",
       "\t2 & St. James' Park (Newcastle upon Tyne) & 24 & $\\dots$ \\\\\n",
       "\t3 & Vitality Stadium (Bournemouth- Dorset) & 30 & $\\dots$ \\\\\n",
       "\t4 & Craven Cottage (London) & 22 & $\\dots$ \\\\\n",
       "\t5 & John Smith's Stadium (Huddersfield- West Yorkshire) & 10 & $\\dots$ \\\\\n",
       "\t6 & Vicarage Road (Watford) & 26 & $\\dots$ \\\\\n",
       "\t7 & Molineux Stadium (Wolverhampton- West Midlands) & 28 & $\\dots$ \\\\\n",
       "\t8 & Anfield (Liverpool) & 55 & $\\dots$ \\\\\n",
       "\t9 & St. Mary's Stadium (Southampton- Hampshire) & 27 & $\\dots$ \\\\\n",
       "\t10 & Emirates Stadium (London) & 42 & $\\dots$ \\\\\n",
       "\t11 & Cardiff City Stadium (Cardiff (Caerdydd)) & 21 & $\\dots$ \\\\\n",
       "\t12 & Goodison Park (Liverpool) & 30 & $\\dots$ \\\\\n",
       "\t13 & King Power Stadium (Leicester- Leicestershire) & 24 & $\\dots$ \\\\\n",
       "\t14 & Wembley Stadium (London) & 25 & $\\dots$ \\\\\n",
       "\t15 & London Stadium (London) & 32 & $\\dots$ \\\\\n",
       "\t16 & Stamford Bridge (London) & 39 & $\\dots$ \\\\\n",
       "\t17 & Turf Moor (Burnley) & 24 & $\\dots$ \\\\\n",
       "\t18 & Etihad Stadium (Manchester) & 57 & $\\dots$ \\\\\n",
       "\t19 & The American Express Community Stadium (Falmer- East Sussex) & 19 & $\\dots$ \\\\\n",
       "\t20 & Selhurst Park (London) & 19 & $\\dots$ \\\\\n",
       "\t21 & Tottenham Hotspur Stadium (London) & 9 & $\\dots$ \\\\\n",
       "\\end{tabular}\n"
      ],
      "text/plain": [
       "\u001b[1m21×3 DataFrame\u001b[0m\n",
       "\u001b[1m Row \u001b[0m│\u001b[1m stadium_name                      \u001b[0m\u001b[1m home_team_goal_count_sum \u001b[0m\u001b[1m away_team_\u001b[0m ⋯\n",
       "     │\u001b[90m String                            \u001b[0m\u001b[90m Int64                    \u001b[0m\u001b[90m Int64     \u001b[0m ⋯\n",
       "─────┼──────────────────────────────────────────────────────────────────────────\n",
       "   1 │ Old Trafford (Manchester)                                33             ⋯\n",
       "   2 │ St. James' Park (Newcastle upon …                        24\n",
       "   3 │ Vitality Stadium (Bournemouth- D…                        30\n",
       "   4 │ Craven Cottage (London)                                  22\n",
       "   5 │ John Smith's Stadium (Huddersfie…                        10             ⋯\n",
       "   6 │ Vicarage Road (Watford)                                  26\n",
       "   7 │ Molineux Stadium (Wolverhampton-…                        28\n",
       "   8 │ Anfield (Liverpool)                                      55\n",
       "   9 │ St. Mary's Stadium (Southampton-…                        27             ⋯\n",
       "  10 │ Emirates Stadium (London)                                42\n",
       "  11 │ Cardiff City Stadium (Cardiff (C…                        21\n",
       "  12 │ Goodison Park (Liverpool)                                30\n",
       "  13 │ King Power Stadium (Leicester- L…                        24             ⋯\n",
       "  14 │ Wembley Stadium (London)                                 25\n",
       "  15 │ London Stadium (London)                                  32\n",
       "  16 │ Stamford Bridge (London)                                 39\n",
       "  17 │ Turf Moor (Burnley)                                      24             ⋯\n",
       "  18 │ Etihad Stadium (Manchester)                              57\n",
       "  19 │ The American Express Community S…                        19\n",
       "  20 │ Selhurst Park (London)                                   19\n",
       "  21 │ Tottenham Hotspur Stadium (Londo…                         9             ⋯\n",
       "\u001b[36m                                                                1 column omitted\u001b[0m"
      ]
     },
     "execution_count": 49,
     "metadata": {},
     "output_type": "execute_result"
    }
   ],
   "source": [
    "goals = combine(df_group, \"home_team_goal_count\" => sum, \"away_team_goal_count\" => sum)"
   ]
  },
  {
   "cell_type": "code",
   "execution_count": 50,
   "id": "b35b6958-45d1-46cb-909c-5db329533a2d",
   "metadata": {},
   "outputs": [
    {
     "data": {
      "text/html": [
       "<div><div style = \"float: left;\"><span>21×2 DataFrame</span></div><div style = \"clear: both;\"></div></div><div class = \"data-frame\" style = \"overflow-x: scroll;\"><table class = \"data-frame\" style = \"margin-bottom: 6px;\"><thead><tr class = \"header\"><th class = \"rowNumber\" style = \"font-weight: bold; text-align: right;\">Row</th><th style = \"text-align: left;\">stadium_name</th><th style = \"text-align: left;\">home_team_goal_count_sum_away_team_goal_count_sum_function</th></tr><tr class = \"subheader headerLastRow\"><th class = \"rowNumber\" style = \"font-weight: bold; text-align: right;\"></th><th title = \"String\" style = \"text-align: left;\">String</th><th title = \"Int64\" style = \"text-align: left;\">Int64</th></tr></thead><tbody><tr><td class = \"rowNumber\" style = \"font-weight: bold; text-align: right;\">1</td><td style = \"text-align: left;\">Old Trafford (Manchester)</td><td style = \"text-align: right;\">58</td></tr><tr><td class = \"rowNumber\" style = \"font-weight: bold; text-align: right;\">2</td><td style = \"text-align: left;\">St. James&apos; Park (Newcastle upon Tyne)</td><td style = \"text-align: right;\">49</td></tr><tr><td class = \"rowNumber\" style = \"font-weight: bold; text-align: right;\">3</td><td style = \"text-align: left;\">Vitality Stadium (Bournemouth- Dorset)</td><td style = \"text-align: right;\">55</td></tr><tr><td class = \"rowNumber\" style = \"font-weight: bold; text-align: right;\">4</td><td style = \"text-align: left;\">Craven Cottage (London)</td><td style = \"text-align: right;\">58</td></tr><tr><td class = \"rowNumber\" style = \"font-weight: bold; text-align: right;\">5</td><td style = \"text-align: left;\">John Smith&apos;s Stadium (Huddersfield- West Yorkshire)</td><td style = \"text-align: right;\">41</td></tr><tr><td class = \"rowNumber\" style = \"font-weight: bold; text-align: right;\">6</td><td style = \"text-align: left;\">Vicarage Road (Watford)</td><td style = \"text-align: right;\">54</td></tr><tr><td class = \"rowNumber\" style = \"font-weight: bold; text-align: right;\">7</td><td style = \"text-align: left;\">Molineux Stadium (Wolverhampton- West Midlands)</td><td style = \"text-align: right;\">49</td></tr><tr><td class = \"rowNumber\" style = \"font-weight: bold; text-align: right;\">8</td><td style = \"text-align: left;\">Anfield (Liverpool)</td><td style = \"text-align: right;\">65</td></tr><tr><td class = \"rowNumber\" style = \"font-weight: bold; text-align: right;\">9</td><td style = \"text-align: left;\">St. Mary&apos;s Stadium (Southampton- Hampshire)</td><td style = \"text-align: right;\">57</td></tr><tr><td class = \"rowNumber\" style = \"font-weight: bold; text-align: right;\">10</td><td style = \"text-align: left;\">Emirates Stadium (London)</td><td style = \"text-align: right;\">58</td></tr><tr><td class = \"rowNumber\" style = \"font-weight: bold; text-align: right;\">11</td><td style = \"text-align: left;\">Cardiff City Stadium (Cardiff (Caerdydd))</td><td style = \"text-align: right;\">59</td></tr><tr><td class = \"rowNumber\" style = \"font-weight: bold; text-align: right;\">12</td><td style = \"text-align: left;\">Goodison Park (Liverpool)</td><td style = \"text-align: right;\">51</td></tr><tr><td class = \"rowNumber\" style = \"font-weight: bold; text-align: right;\">13</td><td style = \"text-align: left;\">King Power Stadium (Leicester- Leicestershire)</td><td style = \"text-align: right;\">44</td></tr><tr><td class = \"rowNumber\" style = \"font-weight: bold; text-align: right;\">14</td><td style = \"text-align: left;\">Wembley Stadium (London)</td><td style = \"text-align: right;\">38</td></tr><tr><td class = \"rowNumber\" style = \"font-weight: bold; text-align: right;\">15</td><td style = \"text-align: left;\">London Stadium (London)</td><td style = \"text-align: right;\">59</td></tr><tr><td class = \"rowNumber\" style = \"font-weight: bold; text-align: right;\">16</td><td style = \"text-align: left;\">Stamford Bridge (London)</td><td style = \"text-align: right;\">51</td></tr><tr><td class = \"rowNumber\" style = \"font-weight: bold; text-align: right;\">17</td><td style = \"text-align: left;\">Turf Moor (Burnley)</td><td style = \"text-align: right;\">56</td></tr><tr><td class = \"rowNumber\" style = \"font-weight: bold; text-align: right;\">18</td><td style = \"text-align: left;\">Etihad Stadium (Manchester)</td><td style = \"text-align: right;\">69</td></tr><tr><td class = \"rowNumber\" style = \"font-weight: bold; text-align: right;\">19</td><td style = \"text-align: left;\">The American Express Community Stadium (Falmer- East Sussex)</td><td style = \"text-align: right;\">47</td></tr><tr><td class = \"rowNumber\" style = \"font-weight: bold; text-align: right;\">20</td><td style = \"text-align: left;\">Selhurst Park (London)</td><td style = \"text-align: right;\">42</td></tr><tr><td class = \"rowNumber\" style = \"font-weight: bold; text-align: right;\">21</td><td style = \"text-align: left;\">Tottenham Hotspur Stadium (London)</td><td style = \"text-align: right;\">12</td></tr></tbody></table></div>"
      ],
      "text/latex": [
       "\\begin{tabular}{r|cc}\n",
       "\t& stadium\\_name & home\\_team\\_goal\\_count\\_sum\\_away\\_team\\_goal\\_count\\_sum\\_function\\\\\n",
       "\t\\hline\n",
       "\t& String & Int64\\\\\n",
       "\t\\hline\n",
       "\t1 & Old Trafford (Manchester) & 58 \\\\\n",
       "\t2 & St. James' Park (Newcastle upon Tyne) & 49 \\\\\n",
       "\t3 & Vitality Stadium (Bournemouth- Dorset) & 55 \\\\\n",
       "\t4 & Craven Cottage (London) & 58 \\\\\n",
       "\t5 & John Smith's Stadium (Huddersfield- West Yorkshire) & 41 \\\\\n",
       "\t6 & Vicarage Road (Watford) & 54 \\\\\n",
       "\t7 & Molineux Stadium (Wolverhampton- West Midlands) & 49 \\\\\n",
       "\t8 & Anfield (Liverpool) & 65 \\\\\n",
       "\t9 & St. Mary's Stadium (Southampton- Hampshire) & 57 \\\\\n",
       "\t10 & Emirates Stadium (London) & 58 \\\\\n",
       "\t11 & Cardiff City Stadium (Cardiff (Caerdydd)) & 59 \\\\\n",
       "\t12 & Goodison Park (Liverpool) & 51 \\\\\n",
       "\t13 & King Power Stadium (Leicester- Leicestershire) & 44 \\\\\n",
       "\t14 & Wembley Stadium (London) & 38 \\\\\n",
       "\t15 & London Stadium (London) & 59 \\\\\n",
       "\t16 & Stamford Bridge (London) & 51 \\\\\n",
       "\t17 & Turf Moor (Burnley) & 56 \\\\\n",
       "\t18 & Etihad Stadium (Manchester) & 69 \\\\\n",
       "\t19 & The American Express Community Stadium (Falmer- East Sussex) & 47 \\\\\n",
       "\t20 & Selhurst Park (London) & 42 \\\\\n",
       "\t21 & Tottenham Hotspur Stadium (London) & 12 \\\\\n",
       "\\end{tabular}\n"
      ],
      "text/plain": [
       "\u001b[1m21×2 DataFrame\u001b[0m\n",
       "\u001b[1m Row \u001b[0m│\u001b[1m stadium_name                      \u001b[0m\u001b[1m home_team_goal_count_sum_away_team_g\u001b[0m ⋯\n",
       "     │\u001b[90m String                            \u001b[0m\u001b[90m Int64                               \u001b[0m ⋯\n",
       "─────┼──────────────────────────────────────────────────────────────────────────\n",
       "   1 │ Old Trafford (Manchester)                                               ⋯\n",
       "   2 │ St. James' Park (Newcastle upon …\n",
       "   3 │ Vitality Stadium (Bournemouth- D…\n",
       "   4 │ Craven Cottage (London)\n",
       "   5 │ John Smith's Stadium (Huddersfie…                                       ⋯\n",
       "   6 │ Vicarage Road (Watford)\n",
       "   7 │ Molineux Stadium (Wolverhampton-…\n",
       "   8 │ Anfield (Liverpool)\n",
       "   9 │ St. Mary's Stadium (Southampton-…                                       ⋯\n",
       "  10 │ Emirates Stadium (London)\n",
       "  11 │ Cardiff City Stadium (Cardiff (C…\n",
       "  12 │ Goodison Park (Liverpool)\n",
       "  13 │ King Power Stadium (Leicester- L…                                       ⋯\n",
       "  14 │ Wembley Stadium (London)\n",
       "  15 │ London Stadium (London)\n",
       "  16 │ Stamford Bridge (London)\n",
       "  17 │ Turf Moor (Burnley)                                                     ⋯\n",
       "  18 │ Etihad Stadium (Manchester)\n",
       "  19 │ The American Express Community S…\n",
       "  20 │ Selhurst Park (London)\n",
       "  21 │ Tottenham Hotspur Stadium (Londo…                                       ⋯\n",
       "\u001b[36m                                                                1 column omitted\u001b[0m"
      ]
     },
     "execution_count": 50,
     "metadata": {},
     "output_type": "execute_result"
    }
   ],
   "source": [
    "stadium_goals = combine(goals, \"stadium_name\", [\"home_team_goal_count_sum\", \"away_team_goal_count_sum\"] => (a,b) -> a + b)"
   ]
  },
  {
   "cell_type": "markdown",
   "id": "285d179f-a620-424a-948e-8f6b655f9ef8",
   "metadata": {},
   "source": [
    "## Result"
   ]
  },
  {
   "cell_type": "code",
   "execution_count": 51,
   "id": "fe15ae15-1857-4d5e-9d1d-fbc71bb75963",
   "metadata": {},
   "outputs": [
    {
     "data": {
      "text/html": [
       "<div><div style = \"float: left;\"><span>21×2 DataFrame</span></div><div style = \"clear: both;\"></div></div><div class = \"data-frame\" style = \"overflow-x: scroll;\"><table class = \"data-frame\" style = \"margin-bottom: 6px;\"><thead><tr class = \"header\"><th class = \"rowNumber\" style = \"font-weight: bold; text-align: right;\">Row</th><th style = \"text-align: left;\">Stadium</th><th style = \"text-align: left;\">Number Of Goals</th></tr><tr class = \"subheader headerLastRow\"><th class = \"rowNumber\" style = \"font-weight: bold; text-align: right;\"></th><th title = \"String\" style = \"text-align: left;\">String</th><th title = \"Int64\" style = \"text-align: left;\">Int64</th></tr></thead><tbody><tr><td class = \"rowNumber\" style = \"font-weight: bold; text-align: right;\">1</td><td style = \"text-align: left;\">Etihad Stadium (Manchester)</td><td style = \"text-align: right;\">69</td></tr><tr><td class = \"rowNumber\" style = \"font-weight: bold; text-align: right;\">2</td><td style = \"text-align: left;\">Anfield (Liverpool)</td><td style = \"text-align: right;\">65</td></tr><tr><td class = \"rowNumber\" style = \"font-weight: bold; text-align: right;\">3</td><td style = \"text-align: left;\">Cardiff City Stadium (Cardiff (Caerdydd))</td><td style = \"text-align: right;\">59</td></tr><tr><td class = \"rowNumber\" style = \"font-weight: bold; text-align: right;\">4</td><td style = \"text-align: left;\">London Stadium (London)</td><td style = \"text-align: right;\">59</td></tr><tr><td class = \"rowNumber\" style = \"font-weight: bold; text-align: right;\">5</td><td style = \"text-align: left;\">Old Trafford (Manchester)</td><td style = \"text-align: right;\">58</td></tr><tr><td class = \"rowNumber\" style = \"font-weight: bold; text-align: right;\">6</td><td style = \"text-align: left;\">Craven Cottage (London)</td><td style = \"text-align: right;\">58</td></tr><tr><td class = \"rowNumber\" style = \"font-weight: bold; text-align: right;\">7</td><td style = \"text-align: left;\">Emirates Stadium (London)</td><td style = \"text-align: right;\">58</td></tr><tr><td class = \"rowNumber\" style = \"font-weight: bold; text-align: right;\">8</td><td style = \"text-align: left;\">St. Mary&apos;s Stadium (Southampton- Hampshire)</td><td style = \"text-align: right;\">57</td></tr><tr><td class = \"rowNumber\" style = \"font-weight: bold; text-align: right;\">9</td><td style = \"text-align: left;\">Turf Moor (Burnley)</td><td style = \"text-align: right;\">56</td></tr><tr><td class = \"rowNumber\" style = \"font-weight: bold; text-align: right;\">10</td><td style = \"text-align: left;\">Vitality Stadium (Bournemouth- Dorset)</td><td style = \"text-align: right;\">55</td></tr><tr><td class = \"rowNumber\" style = \"font-weight: bold; text-align: right;\">11</td><td style = \"text-align: left;\">Vicarage Road (Watford)</td><td style = \"text-align: right;\">54</td></tr><tr><td class = \"rowNumber\" style = \"font-weight: bold; text-align: right;\">12</td><td style = \"text-align: left;\">Goodison Park (Liverpool)</td><td style = \"text-align: right;\">51</td></tr><tr><td class = \"rowNumber\" style = \"font-weight: bold; text-align: right;\">13</td><td style = \"text-align: left;\">Stamford Bridge (London)</td><td style = \"text-align: right;\">51</td></tr><tr><td class = \"rowNumber\" style = \"font-weight: bold; text-align: right;\">14</td><td style = \"text-align: left;\">St. James&apos; Park (Newcastle upon Tyne)</td><td style = \"text-align: right;\">49</td></tr><tr><td class = \"rowNumber\" style = \"font-weight: bold; text-align: right;\">15</td><td style = \"text-align: left;\">Molineux Stadium (Wolverhampton- West Midlands)</td><td style = \"text-align: right;\">49</td></tr><tr><td class = \"rowNumber\" style = \"font-weight: bold; text-align: right;\">16</td><td style = \"text-align: left;\">The American Express Community Stadium (Falmer- East Sussex)</td><td style = \"text-align: right;\">47</td></tr><tr><td class = \"rowNumber\" style = \"font-weight: bold; text-align: right;\">17</td><td style = \"text-align: left;\">King Power Stadium (Leicester- Leicestershire)</td><td style = \"text-align: right;\">44</td></tr><tr><td class = \"rowNumber\" style = \"font-weight: bold; text-align: right;\">18</td><td style = \"text-align: left;\">Selhurst Park (London)</td><td style = \"text-align: right;\">42</td></tr><tr><td class = \"rowNumber\" style = \"font-weight: bold; text-align: right;\">19</td><td style = \"text-align: left;\">John Smith&apos;s Stadium (Huddersfield- West Yorkshire)</td><td style = \"text-align: right;\">41</td></tr><tr><td class = \"rowNumber\" style = \"font-weight: bold; text-align: right;\">20</td><td style = \"text-align: left;\">Wembley Stadium (London)</td><td style = \"text-align: right;\">38</td></tr><tr><td class = \"rowNumber\" style = \"font-weight: bold; text-align: right;\">21</td><td style = \"text-align: left;\">Tottenham Hotspur Stadium (London)</td><td style = \"text-align: right;\">12</td></tr></tbody></table></div>"
      ],
      "text/latex": [
       "\\begin{tabular}{r|cc}\n",
       "\t& Stadium & Number Of Goals\\\\\n",
       "\t\\hline\n",
       "\t& String & Int64\\\\\n",
       "\t\\hline\n",
       "\t1 & Etihad Stadium (Manchester) & 69 \\\\\n",
       "\t2 & Anfield (Liverpool) & 65 \\\\\n",
       "\t3 & Cardiff City Stadium (Cardiff (Caerdydd)) & 59 \\\\\n",
       "\t4 & London Stadium (London) & 59 \\\\\n",
       "\t5 & Old Trafford (Manchester) & 58 \\\\\n",
       "\t6 & Craven Cottage (London) & 58 \\\\\n",
       "\t7 & Emirates Stadium (London) & 58 \\\\\n",
       "\t8 & St. Mary's Stadium (Southampton- Hampshire) & 57 \\\\\n",
       "\t9 & Turf Moor (Burnley) & 56 \\\\\n",
       "\t10 & Vitality Stadium (Bournemouth- Dorset) & 55 \\\\\n",
       "\t11 & Vicarage Road (Watford) & 54 \\\\\n",
       "\t12 & Goodison Park (Liverpool) & 51 \\\\\n",
       "\t13 & Stamford Bridge (London) & 51 \\\\\n",
       "\t14 & St. James' Park (Newcastle upon Tyne) & 49 \\\\\n",
       "\t15 & Molineux Stadium (Wolverhampton- West Midlands) & 49 \\\\\n",
       "\t16 & The American Express Community Stadium (Falmer- East Sussex) & 47 \\\\\n",
       "\t17 & King Power Stadium (Leicester- Leicestershire) & 44 \\\\\n",
       "\t18 & Selhurst Park (London) & 42 \\\\\n",
       "\t19 & John Smith's Stadium (Huddersfield- West Yorkshire) & 41 \\\\\n",
       "\t20 & Wembley Stadium (London) & 38 \\\\\n",
       "\t21 & Tottenham Hotspur Stadium (London) & 12 \\\\\n",
       "\\end{tabular}\n"
      ],
      "text/plain": [
       "\u001b[1m21×2 DataFrame\u001b[0m\n",
       "\u001b[1m Row \u001b[0m│\u001b[1m Stadium                           \u001b[0m\u001b[1m Number Of Goals \u001b[0m\n",
       "     │\u001b[90m String                            \u001b[0m\u001b[90m Int64           \u001b[0m\n",
       "─────┼────────────────────────────────────────────────────\n",
       "   1 │ Etihad Stadium (Manchester)                     69\n",
       "   2 │ Anfield (Liverpool)                             65\n",
       "   3 │ Cardiff City Stadium (Cardiff (C…               59\n",
       "   4 │ London Stadium (London)                         59\n",
       "   5 │ Old Trafford (Manchester)                       58\n",
       "   6 │ Craven Cottage (London)                         58\n",
       "   7 │ Emirates Stadium (London)                       58\n",
       "   8 │ St. Mary's Stadium (Southampton-…               57\n",
       "   9 │ Turf Moor (Burnley)                             56\n",
       "  10 │ Vitality Stadium (Bournemouth- D…               55\n",
       "  11 │ Vicarage Road (Watford)                         54\n",
       "  12 │ Goodison Park (Liverpool)                       51\n",
       "  13 │ Stamford Bridge (London)                        51\n",
       "  14 │ St. James' Park (Newcastle upon …               49\n",
       "  15 │ Molineux Stadium (Wolverhampton-…               49\n",
       "  16 │ The American Express Community S…               47\n",
       "  17 │ King Power Stadium (Leicester- L…               44\n",
       "  18 │ Selhurst Park (London)                          42\n",
       "  19 │ John Smith's Stadium (Huddersfie…               41\n",
       "  20 │ Wembley Stadium (London)                        38\n",
       "  21 │ Tottenham Hotspur Stadium (Londo…               12"
      ]
     },
     "execution_count": 51,
     "metadata": {},
     "output_type": "execute_result"
    }
   ],
   "source": [
    "rename!(sort(stadium_goals, [order(\"home_team_goal_count_sum_away_team_goal_count_sum_function\", rev=true)]), [\"Stadium\", \"Number Of Goals\"])"
   ]
  },
  {
   "cell_type": "code",
   "execution_count": null,
   "id": "19f2abd9-9858-44f9-b418-af8ca2025d43",
   "metadata": {},
   "outputs": [],
   "source": []
  },
  {
   "cell_type": "markdown",
   "id": "d5a76474-3f87-4000-ab7d-1033c001febb",
   "metadata": {},
   "source": [
    "# Most card happy ref"
   ]
  },
  {
   "cell_type": "markdown",
   "id": "c72b84ca-6734-4e8d-b96d-e556954f7045",
   "metadata": {},
   "source": [
    "# Beat the bookies - Which team Won most against the bookmakers odds"
   ]
  },
  {
   "cell_type": "markdown",
   "id": "830a213f-2da4-41b4-9709-b07d949252e1",
   "metadata": {},
   "source": [
    "# Bookies Best Bet - Which team had the most results closest to the bookmakers predictions"
   ]
  },
  {
   "cell_type": "markdown",
   "id": "37723ad3-ff00-4954-ab26-83c8a285cced",
   "metadata": {},
   "source": [
    "# Goal Time / 90 mins"
   ]
  },
  {
   "cell_type": "markdown",
   "id": "ab5d8aee-d65a-49c1-a2f5-fd4240245c0a",
   "metadata": {},
   "source": [
    "# Goal Time / 90 mins / Game week"
   ]
  },
  {
   "cell_type": "markdown",
   "id": "2fa0140f-9264-493e-ac72-c741483a3c7f",
   "metadata": {},
   "source": [
    "# Team with most non Sat 3pm kickoffs"
   ]
  },
  {
   "cell_type": "code",
   "execution_count": null,
   "id": "c2b6fa86-d12d-45df-bfaf-2c0c840f3cc1",
   "metadata": {},
   "outputs": [],
   "source": []
  },
  {
   "cell_type": "code",
   "execution_count": null,
   "id": "3fb7df49-4c0c-4180-b8ac-97c9cb131a07",
   "metadata": {
    "collapsed": true,
    "jupyter": {
     "outputs_hidden": true
    }
   },
   "outputs": [],
   "source": []
  },
  {
   "cell_type": "code",
   "execution_count": null,
   "id": "2f81564d-1dd4-4ee7-90bf-89ccff0abb6d",
   "metadata": {
    "collapsed": true,
    "jupyter": {
     "outputs_hidden": true
    }
   },
   "outputs": [],
   "source": []
  },
  {
   "cell_type": "code",
   "execution_count": null,
   "id": "76d5b3d4-939f-4931-b3af-5af82b0969b7",
   "metadata": {
    "collapsed": true,
    "jupyter": {
     "outputs_hidden": true
    }
   },
   "outputs": [],
   "source": []
  },
  {
   "cell_type": "code",
   "execution_count": null,
   "id": "ffd2238c-acb3-4f86-a1d4-4556f2ffcd6a",
   "metadata": {
    "collapsed": true,
    "jupyter": {
     "outputs_hidden": true
    }
   },
   "outputs": [],
   "source": []
  },
  {
   "cell_type": "code",
   "execution_count": null,
   "id": "9e217725-29e7-4dff-af66-cddcaab50b03",
   "metadata": {
    "collapsed": true,
    "jupyter": {
     "outputs_hidden": true
    }
   },
   "outputs": [],
   "source": []
  },
  {
   "cell_type": "code",
   "execution_count": null,
   "id": "d6d5b8c6-9188-47e2-bee1-65d00c385cab",
   "metadata": {
    "collapsed": true,
    "jupyter": {
     "outputs_hidden": true
    }
   },
   "outputs": [],
   "source": []
  },
  {
   "cell_type": "code",
   "execution_count": null,
   "id": "9de03002-4524-4904-b308-1228ee254976",
   "metadata": {
    "collapsed": true,
    "jupyter": {
     "outputs_hidden": true
    }
   },
   "outputs": [],
   "source": []
  },
  {
   "cell_type": "code",
   "execution_count": null,
   "id": "b40e44a4-63d7-4a06-a372-d952646918b8",
   "metadata": {
    "collapsed": true,
    "jupyter": {
     "outputs_hidden": true
    }
   },
   "outputs": [],
   "source": []
  },
  {
   "cell_type": "code",
   "execution_count": null,
   "id": "d3283bc4-a6cf-49c9-8011-8247e3d69101",
   "metadata": {
    "collapsed": true,
    "jupyter": {
     "outputs_hidden": true
    }
   },
   "outputs": [],
   "source": []
  },
  {
   "cell_type": "code",
   "execution_count": null,
   "id": "4ae5074a-f55c-489a-82f9-2ce6db1c783a",
   "metadata": {
    "collapsed": true,
    "jupyter": {
     "outputs_hidden": true
    }
   },
   "outputs": [],
   "source": []
  },
  {
   "cell_type": "code",
   "execution_count": null,
   "id": "a1d38b66-9556-46c0-8025-f2820d5eaf7e",
   "metadata": {
    "collapsed": true,
    "jupyter": {
     "outputs_hidden": true
    }
   },
   "outputs": [],
   "source": []
  },
  {
   "cell_type": "code",
   "execution_count": null,
   "id": "66a8c2b9-68b1-4eb1-9729-0da3ace389ad",
   "metadata": {
    "collapsed": true,
    "jupyter": {
     "outputs_hidden": true
    }
   },
   "outputs": [],
   "source": []
  },
  {
   "cell_type": "code",
   "execution_count": null,
   "id": "f8a300ff-3b1d-49af-bc4f-513c83935612",
   "metadata": {
    "collapsed": true,
    "jupyter": {
     "outputs_hidden": true
    }
   },
   "outputs": [],
   "source": []
  },
  {
   "cell_type": "code",
   "execution_count": null,
   "id": "afb8390d-3882-42c6-bb31-8a418617f1f3",
   "metadata": {
    "collapsed": true,
    "jupyter": {
     "outputs_hidden": true
    }
   },
   "outputs": [],
   "source": []
  },
  {
   "cell_type": "code",
   "execution_count": null,
   "id": "25e8b5a0-d208-46fc-bb42-b8899fdbd931",
   "metadata": {
    "collapsed": true,
    "jupyter": {
     "outputs_hidden": true
    }
   },
   "outputs": [],
   "source": []
  },
  {
   "cell_type": "code",
   "execution_count": null,
   "id": "8a7cce6e-eb05-4085-97da-a0167dc87244",
   "metadata": {
    "collapsed": true,
    "jupyter": {
     "outputs_hidden": true
    }
   },
   "outputs": [],
   "source": []
  },
  {
   "cell_type": "code",
   "execution_count": null,
   "id": "983a0344-7316-4752-91fc-273fa8305471",
   "metadata": {
    "collapsed": true,
    "jupyter": {
     "outputs_hidden": true
    }
   },
   "outputs": [],
   "source": []
  },
  {
   "cell_type": "code",
   "execution_count": null,
   "id": "b99dd591-a1dc-4ac0-991f-9d77df138ca1",
   "metadata": {
    "collapsed": true,
    "jupyter": {
     "outputs_hidden": true
    }
   },
   "outputs": [],
   "source": []
  },
  {
   "cell_type": "code",
   "execution_count": null,
   "id": "d2d8ac2e-33be-4f30-87f8-4cd85296915e",
   "metadata": {
    "collapsed": true,
    "jupyter": {
     "outputs_hidden": true
    }
   },
   "outputs": [],
   "source": []
  },
  {
   "cell_type": "code",
   "execution_count": null,
   "id": "0d459c57-ee48-40d8-935a-86ae6c45bf43",
   "metadata": {
    "collapsed": true,
    "jupyter": {
     "outputs_hidden": true
    }
   },
   "outputs": [],
   "source": []
  },
  {
   "cell_type": "code",
   "execution_count": null,
   "id": "ea8be68f-77ce-4d77-b364-7930e3207378",
   "metadata": {
    "collapsed": true,
    "jupyter": {
     "outputs_hidden": true
    }
   },
   "outputs": [],
   "source": []
  },
  {
   "cell_type": "code",
   "execution_count": null,
   "id": "de4d1467-f312-4e4c-910e-04a66474804b",
   "metadata": {
    "collapsed": true,
    "jupyter": {
     "outputs_hidden": true
    }
   },
   "outputs": [],
   "source": []
  },
  {
   "cell_type": "code",
   "execution_count": null,
   "id": "16a4e96f-6d06-4588-9082-b91a8a0955b3",
   "metadata": {
    "collapsed": true,
    "jupyter": {
     "outputs_hidden": true
    }
   },
   "outputs": [],
   "source": []
  },
  {
   "cell_type": "code",
   "execution_count": null,
   "id": "26912df8-2405-4e49-9516-7d5563d674f4",
   "metadata": {
    "collapsed": true,
    "jupyter": {
     "outputs_hidden": true
    }
   },
   "outputs": [],
   "source": []
  },
  {
   "cell_type": "code",
   "execution_count": null,
   "id": "e958b384-7ab4-46c0-a560-7592c98a5d5a",
   "metadata": {
    "collapsed": true,
    "jupyter": {
     "outputs_hidden": true
    }
   },
   "outputs": [],
   "source": []
  },
  {
   "cell_type": "code",
   "execution_count": null,
   "id": "c4ec75e9-0150-4547-9d55-4ab8d7ddc085",
   "metadata": {
    "collapsed": true,
    "jupyter": {
     "outputs_hidden": true
    }
   },
   "outputs": [],
   "source": []
  },
  {
   "cell_type": "code",
   "execution_count": null,
   "id": "7d04fa4f-4952-4bce-8869-73da5e8bbbf4",
   "metadata": {
    "collapsed": true,
    "jupyter": {
     "outputs_hidden": true
    }
   },
   "outputs": [],
   "source": []
  },
  {
   "cell_type": "code",
   "execution_count": null,
   "id": "33823b28-7fae-4979-833b-a41bff2366d5",
   "metadata": {
    "collapsed": true,
    "jupyter": {
     "outputs_hidden": true
    }
   },
   "outputs": [],
   "source": []
  },
  {
   "cell_type": "code",
   "execution_count": null,
   "id": "83a28db4-6b1a-4422-8f4b-98c7e0fe165a",
   "metadata": {
    "collapsed": true,
    "jupyter": {
     "outputs_hidden": true
    }
   },
   "outputs": [],
   "source": []
  },
  {
   "cell_type": "code",
   "execution_count": null,
   "id": "55c227b3-4898-4a00-bfe2-73b4890d6055",
   "metadata": {
    "collapsed": true,
    "jupyter": {
     "outputs_hidden": true
    }
   },
   "outputs": [],
   "source": []
  },
  {
   "cell_type": "code",
   "execution_count": null,
   "id": "1cc8fe30-6c08-44ad-ab0a-f727065ab976",
   "metadata": {
    "collapsed": true,
    "jupyter": {
     "outputs_hidden": true
    }
   },
   "outputs": [],
   "source": []
  },
  {
   "cell_type": "code",
   "execution_count": null,
   "id": "5e769a98-0c93-4ff4-9c17-645a47923031",
   "metadata": {
    "collapsed": true,
    "jupyter": {
     "outputs_hidden": true
    }
   },
   "outputs": [],
   "source": []
  },
  {
   "cell_type": "code",
   "execution_count": null,
   "id": "dab64e09-98b4-4db1-9380-73969a82a216",
   "metadata": {
    "collapsed": true,
    "jupyter": {
     "outputs_hidden": true
    }
   },
   "outputs": [],
   "source": []
  },
  {
   "cell_type": "code",
   "execution_count": null,
   "id": "15fe0ca0-4e18-4a8c-9194-c42992497881",
   "metadata": {
    "collapsed": true,
    "jupyter": {
     "outputs_hidden": true
    }
   },
   "outputs": [],
   "source": []
  },
  {
   "cell_type": "code",
   "execution_count": null,
   "id": "80c2dae5-3d69-4112-be41-14b27de38bec",
   "metadata": {
    "collapsed": true,
    "jupyter": {
     "outputs_hidden": true
    }
   },
   "outputs": [],
   "source": []
  },
  {
   "cell_type": "code",
   "execution_count": null,
   "id": "68986316-231a-4b4f-a4e3-10f817cb34e6",
   "metadata": {
    "collapsed": true,
    "jupyter": {
     "outputs_hidden": true
    }
   },
   "outputs": [],
   "source": []
  }
 ],
 "metadata": {
  "kernelspec": {
   "display_name": "Julia 1.11.3",
   "language": "julia",
   "name": "julia-1.11"
  },
  "language_info": {
   "file_extension": ".jl",
   "mimetype": "application/julia",
   "name": "julia",
   "version": "1.11.3"
  }
 },
 "nbformat": 4,
 "nbformat_minor": 5
}
